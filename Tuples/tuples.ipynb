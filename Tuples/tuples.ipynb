{
 "cells": [
  {
   "cell_type": "code",
   "execution_count": 1,
   "id": "d837545d-ad3c-4fe0-8f2f-d6e53a29a235",
   "metadata": {},
   "outputs": [],
   "source": [
    "t1=(1,2,3,4,56.78,\"car\")"
   ]
  },
  {
   "cell_type": "code",
   "execution_count": 2,
   "id": "328cc5c2-b0a3-4435-84b1-bf8fbae31c58",
   "metadata": {},
   "outputs": [
    {
     "data": {
      "text/plain": [
       "tuple"
      ]
     },
     "execution_count": 2,
     "metadata": {},
     "output_type": "execute_result"
    }
   ],
   "source": [
    "type(t1)"
   ]
  },
  {
   "cell_type": "code",
   "execution_count": 3,
   "id": "62a05d6c-6dfd-4b9a-b0d2-e9f19b4d5651",
   "metadata": {},
   "outputs": [],
   "source": [
    "l=[1,2,3]"
   ]
  },
  {
   "cell_type": "code",
   "execution_count": 4,
   "id": "b793afbe-6188-41de-bb6d-ef188404cc96",
   "metadata": {},
   "outputs": [
    {
     "data": {
      "text/plain": [
       "list"
      ]
     },
     "execution_count": 4,
     "metadata": {},
     "output_type": "execute_result"
    }
   ],
   "source": [
    "type(l)"
   ]
  },
  {
   "cell_type": "code",
   "execution_count": 5,
   "id": "9325b3e5-9eaa-4a25-8725-1ffe26b558a4",
   "metadata": {},
   "outputs": [
    {
     "data": {
      "text/plain": [
       "1"
      ]
     },
     "execution_count": 5,
     "metadata": {},
     "output_type": "execute_result"
    }
   ],
   "source": [
    "t1[0]"
   ]
  },
  {
   "cell_type": "code",
   "execution_count": 6,
   "id": "d5e96f43-3d6f-4037-8dac-0d2ffa12b073",
   "metadata": {},
   "outputs": [
    {
     "data": {
      "text/plain": [
       "'car'"
      ]
     },
     "execution_count": 6,
     "metadata": {},
     "output_type": "execute_result"
    }
   ],
   "source": [
    "t1[5]"
   ]
  },
  {
   "cell_type": "code",
   "execution_count": 7,
   "id": "fc24190c-6f0c-4a42-a0c1-b729f26fee57",
   "metadata": {},
   "outputs": [
    {
     "data": {
      "text/plain": [
       "('car', 56.78, 4, 3, 2, 1)"
      ]
     },
     "execution_count": 7,
     "metadata": {},
     "output_type": "execute_result"
    }
   ],
   "source": [
    "# Revrse order of tuple\n",
    "t1[::-1]"
   ]
  },
  {
   "cell_type": "code",
   "execution_count": 8,
   "id": "008a9c19-e59a-4c99-a0c9-89cb7ae130de",
   "metadata": {},
   "outputs": [],
   "source": [
    "t1=t1[::-1]"
   ]
  },
  {
   "cell_type": "code",
   "execution_count": 9,
   "id": "cbf8d63f-8219-4612-ace6-e276022e85c0",
   "metadata": {},
   "outputs": [
    {
     "data": {
      "text/plain": [
       "('car', 56.78, 4, 3, 2, 1)"
      ]
     },
     "execution_count": 9,
     "metadata": {},
     "output_type": "execute_result"
    }
   ],
   "source": [
    "t1"
   ]
  },
  {
   "cell_type": "code",
   "execution_count": 10,
   "id": "aa6a932c-a7a4-45ce-b926-806d9a83f546",
   "metadata": {},
   "outputs": [
    {
     "data": {
      "text/plain": [
       "('car', 56.78, 4)"
      ]
     },
     "execution_count": 10,
     "metadata": {},
     "output_type": "execute_result"
    }
   ],
   "source": [
    "t1[0:3]"
   ]
  },
  {
   "cell_type": "code",
   "execution_count": 11,
   "id": "a018ee5b-5943-4eb7-9347-6650a964fc43",
   "metadata": {},
   "outputs": [
    {
     "data": {
      "text/plain": [
       "('car', 56.78, 4)"
      ]
     },
     "execution_count": 11,
     "metadata": {},
     "output_type": "execute_result"
    }
   ],
   "source": [
    "t1[:3]"
   ]
  },
  {
   "cell_type": "code",
   "execution_count": 12,
   "id": "7372ccfd-8a52-4c2d-989b-f63ac17d57d3",
   "metadata": {},
   "outputs": [
    {
     "data": {
      "text/plain": [
       "1"
      ]
     },
     "execution_count": 12,
     "metadata": {},
     "output_type": "execute_result"
    }
   ],
   "source": [
    "t1.count(4)"
   ]
  },
  {
   "cell_type": "code",
   "execution_count": 13,
   "id": "f128badb-2749-4dce-8f81-f589dcdb8e9f",
   "metadata": {},
   "outputs": [
    {
     "data": {
      "text/plain": [
       "0"
      ]
     },
     "execution_count": 13,
     "metadata": {},
     "output_type": "execute_result"
    }
   ],
   "source": [
    "t1.count('abc')"
   ]
  },
  {
   "cell_type": "code",
   "execution_count": 14,
   "id": "51a42cd3-62a3-40e7-8480-9fc44fdf0acf",
   "metadata": {},
   "outputs": [
    {
     "data": {
      "text/plain": [
       "0"
      ]
     },
     "execution_count": 14,
     "metadata": {},
     "output_type": "execute_result"
    }
   ],
   "source": [
    "t1.index(\"car\")"
   ]
  },
  {
   "cell_type": "code",
   "execution_count": 15,
   "id": "5286caa4-d96e-43a2-ac9f-1d2762c41039",
   "metadata": {},
   "outputs": [
    {
     "data": {
      "text/plain": [
       "('car', 56.78, 4, 3, 2, 1)"
      ]
     },
     "execution_count": 15,
     "metadata": {},
     "output_type": "execute_result"
    }
   ],
   "source": [
    "t1"
   ]
  },
  {
   "cell_type": "code",
   "execution_count": 16,
   "id": "23374c61-578c-4e11-899f-545413996970",
   "metadata": {},
   "outputs": [
    {
     "data": {
      "text/plain": [
       "[1, 2, 3]"
      ]
     },
     "execution_count": 16,
     "metadata": {},
     "output_type": "execute_result"
    }
   ],
   "source": [
    "l"
   ]
  },
  {
   "cell_type": "code",
   "execution_count": 17,
   "id": "05f71b9f-74b6-4074-b7df-eae7cf04a0e5",
   "metadata": {},
   "outputs": [
    {
     "data": {
      "text/plain": [
       "'car'"
      ]
     },
     "execution_count": 17,
     "metadata": {},
     "output_type": "execute_result"
    }
   ],
   "source": [
    "t1[0]"
   ]
  },
  {
   "cell_type": "code",
   "execution_count": 18,
   "id": "3bf3eb55-f78d-45bd-9e5f-8c93372d42f8",
   "metadata": {},
   "outputs": [],
   "source": [
    "l[0]=6"
   ]
  },
  {
   "cell_type": "code",
   "execution_count": 19,
   "id": "660947af-c08f-46b0-831a-55e9eeeb3a49",
   "metadata": {},
   "outputs": [
    {
     "data": {
      "text/plain": [
       "[6, 2, 3]"
      ]
     },
     "execution_count": 19,
     "metadata": {},
     "output_type": "execute_result"
    }
   ],
   "source": [
    "l"
   ]
  },
  {
   "cell_type": "code",
   "execution_count": 22,
   "id": "ecd07283-e53c-4ae8-a760-98bfcb9c9afb",
   "metadata": {},
   "outputs": [
    {
     "name": "stdout",
     "output_type": "stream",
     "text": [
      "car <class 'str'>\n",
      "56.78 <class 'float'>\n",
      "4 <class 'int'>\n",
      "3 <class 'int'>\n",
      "2 <class 'int'>\n",
      "1 <class 'int'>\n"
     ]
    }
   ],
   "source": [
    "for i in t1:\n",
    "    print(i,type(i))"
   ]
  },
  {
   "cell_type": "code",
   "execution_count": 23,
   "id": "17e6829d-2913-4fbd-a980-73af58a57c32",
   "metadata": {},
   "outputs": [],
   "source": [
    "t2=(1,2,3,4)\n"
   ]
  },
  {
   "cell_type": "code",
   "execution_count": 24,
   "id": "df6c8c73-704f-49bf-9184-21c5a725bf22",
   "metadata": {},
   "outputs": [
    {
     "data": {
      "text/plain": [
       "(1, 2, 3, 4)"
      ]
     },
     "execution_count": 24,
     "metadata": {},
     "output_type": "execute_result"
    }
   ],
   "source": [
    "t2\n"
   ]
  },
  {
   "cell_type": "code",
   "execution_count": 25,
   "id": "a85c8361-5d15-40bd-ad1d-313a8dd375db",
   "metadata": {},
   "outputs": [
    {
     "data": {
      "text/plain": [
       "(1, 2, 3, 4, 1, 2, 3, 4, 1, 2, 3, 4)"
      ]
     },
     "execution_count": 25,
     "metadata": {},
     "output_type": "execute_result"
    }
   ],
   "source": [
    "t2*3"
   ]
  },
  {
   "cell_type": "code",
   "execution_count": 26,
   "id": "16607c9c-e514-446c-be09-8ad438e0ec21",
   "metadata": {},
   "outputs": [
    {
     "data": {
      "text/plain": [
       "4"
      ]
     },
     "execution_count": 26,
     "metadata": {},
     "output_type": "execute_result"
    }
   ],
   "source": [
    "max(t2)"
   ]
  },
  {
   "cell_type": "code",
   "execution_count": 27,
   "id": "5f8a1b2e-41e4-45ad-8894-e14a6b82e842",
   "metadata": {},
   "outputs": [
    {
     "data": {
      "text/plain": [
       "1"
      ]
     },
     "execution_count": 27,
     "metadata": {},
     "output_type": "execute_result"
    }
   ],
   "source": [
    "min(t2)"
   ]
  },
  {
   "cell_type": "markdown",
   "id": "675d7203-54bb-40af-b195-1429d240c41c",
   "metadata": {},
   "source": [
    "\"Tuples follows immutable conepts, it does not allow chnage any element at a particular index\""
   ]
  },
  {
   "cell_type": "code",
   "execution_count": 28,
   "id": "c45a77c6-995c-4f3b-91e9-7ec8cce4f94d",
   "metadata": {},
   "outputs": [],
   "source": [
    "t3=(1,2,3,4)\n",
    "t4=(5,7,8,9)"
   ]
  },
  {
   "cell_type": "code",
   "execution_count": 30,
   "id": "681fc266-9f0d-4806-b9a5-4656a33c01d2",
   "metadata": {},
   "outputs": [
    {
     "data": {
      "text/plain": [
       "((1, 2, 3, 4), (5, 7, 8, 9))"
      ]
     },
     "execution_count": 30,
     "metadata": {},
     "output_type": "execute_result"
    }
   ],
   "source": [
    "t5=(t3,t4)\n",
    "t5"
   ]
  },
  {
   "cell_type": "code",
   "execution_count": 31,
   "id": "2cadecd3-d37b-4013-9b6c-ac63b86ceb18",
   "metadata": {},
   "outputs": [],
   "source": [
    "del t5"
   ]
  },
  {
   "cell_type": "code",
   "execution_count": 32,
   "id": "b6aa8719-0456-4456-8fb6-616167e9fae9",
   "metadata": {},
   "outputs": [
    {
     "ename": "NameError",
     "evalue": "name 't5' is not defined",
     "output_type": "error",
     "traceback": [
      "\u001b[0;31m---------------------------------------------------------------------------\u001b[0m",
      "\u001b[0;31mNameError\u001b[0m                                 Traceback (most recent call last)",
      "Cell \u001b[0;32mIn[32], line 1\u001b[0m\n\u001b[0;32m----> 1\u001b[0m t5\n",
      "\u001b[0;31mNameError\u001b[0m: name 't5' is not defined"
     ]
    }
   ],
   "source": [
    "t5"
   ]
  },
  {
   "cell_type": "code",
   "execution_count": 33,
   "id": "4dfb0739-ab3f-4019-a127-80a6b03c15ce",
   "metadata": {},
   "outputs": [
    {
     "data": {
      "text/plain": [
       "6"
      ]
     },
     "execution_count": 33,
     "metadata": {},
     "output_type": "execute_result"
    }
   ],
   "source": [
    "len(t1)"
   ]
  },
  {
   "cell_type": "code",
   "execution_count": 34,
   "id": "ef3fb42f-f26e-4c7e-bb0d-f6b46c028399",
   "metadata": {},
   "outputs": [
    {
     "data": {
      "text/plain": [
       "4"
      ]
     },
     "execution_count": 34,
     "metadata": {},
     "output_type": "execute_result"
    }
   ],
   "source": [
    "len(t3)"
   ]
  },
  {
   "cell_type": "code",
   "execution_count": 35,
   "id": "2e5ef897-e23a-4efd-9c08-b8811eadca07",
   "metadata": {},
   "outputs": [
    {
     "data": {
      "text/plain": [
       "True"
      ]
     },
     "execution_count": 35,
     "metadata": {},
     "output_type": "execute_result"
    }
   ],
   "source": [
    "\"car\" in t1"
   ]
  },
  {
   "cell_type": "code",
   "execution_count": null,
   "id": "c2566548-6c1a-4d19-bba7-af2ebf5bd0f4",
   "metadata": {},
   "outputs": [],
   "source": []
  }
 ],
 "metadata": {
  "kernelspec": {
   "display_name": "Python 3 (ipykernel)",
   "language": "python",
   "name": "python3"
  },
  "language_info": {
   "codemirror_mode": {
    "name": "ipython",
    "version": 3
   },
   "file_extension": ".py",
   "mimetype": "text/x-python",
   "name": "python",
   "nbconvert_exporter": "python",
   "pygments_lexer": "ipython3",
   "version": "3.11.7"
  }
 },
 "nbformat": 4,
 "nbformat_minor": 5
}
