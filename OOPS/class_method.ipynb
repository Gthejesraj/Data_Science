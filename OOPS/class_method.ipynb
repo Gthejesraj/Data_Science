{
 "cells": [
  {
   "cell_type": "code",
   "execution_count": 3,
   "id": "502a21cd-77b4-453e-874f-6d8950686386",
   "metadata": {},
   "outputs": [],
   "source": [
    "class details:\n",
    "    def __init__(self,name,email):\n",
    "        self.name=name\n",
    "        self.email=email\n",
    "    def student_details(self):\n",
    "        print(self.name,self.email)"
   ]
  },
  {
   "cell_type": "code",
   "execution_count": 4,
   "id": "a14479cd-402b-4de5-9456-fff8c39f231b",
   "metadata": {},
   "outputs": [],
   "source": [
    "dets=details(\"tim\",\"tim@gmail.com\")"
   ]
  },
  {
   "cell_type": "code",
   "execution_count": 5,
   "id": "24d2bc18-9e6f-44d6-a9f9-7486e889f75e",
   "metadata": {},
   "outputs": [
    {
     "data": {
      "text/plain": [
       "'tim'"
      ]
     },
     "execution_count": 5,
     "metadata": {},
     "output_type": "execute_result"
    }
   ],
   "source": [
    "dets.name"
   ]
  },
  {
   "cell_type": "code",
   "execution_count": 6,
   "id": "6186967e-cc68-4599-bca3-a168aeaf3a29",
   "metadata": {},
   "outputs": [
    {
     "data": {
      "text/plain": [
       "'tim@gmail.com'"
      ]
     },
     "execution_count": 6,
     "metadata": {},
     "output_type": "execute_result"
    }
   ],
   "source": [
    "dets.email"
   ]
  },
  {
   "cell_type": "code",
   "execution_count": 7,
   "id": "1f43d686-2b85-4666-9ad3-572539251b1d",
   "metadata": {},
   "outputs": [],
   "source": [
    "class details1:\n",
    "    def __init__(self,name,email):\n",
    "        self.name=name\n",
    "        self.email=email\n",
    "\n",
    "    @classmethod\n",
    "    def std_details(cls,name,email):\n",
    "        return cls(name,email)\n",
    "    def student_details(self):\n",
    "        print(self.name,self.email)"
   ]
  },
  {
   "cell_type": "code",
   "execution_count": 9,
   "id": "fe598766-2075-4aa6-ac1b-57468bb4cd5e",
   "metadata": {},
   "outputs": [],
   "source": [
    "dets1=details1.std_details(\"mohan\",\"mohan@gmail.com\")"
   ]
  },
  {
   "cell_type": "code",
   "execution_count": 11,
   "id": "215be63b-0416-4b4f-a548-77f694bb68fe",
   "metadata": {},
   "outputs": [
    {
     "data": {
      "text/plain": [
       "'mohan'"
      ]
     },
     "execution_count": 11,
     "metadata": {},
     "output_type": "execute_result"
    }
   ],
   "source": [
    "dets1.name"
   ]
  },
  {
   "cell_type": "code",
   "execution_count": 12,
   "id": "dd0a587b-08ff-47c1-8587-1c7af89498b3",
   "metadata": {},
   "outputs": [
    {
     "data": {
      "text/plain": [
       "'mohan@gmail.com'"
      ]
     },
     "execution_count": 12,
     "metadata": {},
     "output_type": "execute_result"
    }
   ],
   "source": [
    "dets1.email"
   ]
  },
  {
   "cell_type": "code",
   "execution_count": 14,
   "id": "5467a8b2-6de8-4ea2-bd51-2d7d30809aab",
   "metadata": {},
   "outputs": [
    {
     "name": "stdout",
     "output_type": "stream",
     "text": [
      "mohan mohan@gmail.com\n"
     ]
    }
   ],
   "source": [
    "dets1.student_details()"
   ]
  },
  {
   "cell_type": "code",
   "execution_count": 25,
   "id": "2d223626-800b-4ab9-a875-4079ce817757",
   "metadata": {},
   "outputs": [],
   "source": [
    "class details2:\n",
    "\n",
    "    mobile_no=489741256\n",
    "    \n",
    "    def __init__(self,name,email):\n",
    "        self.name=name\n",
    "        self.email=email\n",
    "\n",
    "    @classmethod\n",
    "    def change_no(cls,mobile):\n",
    "        details2.mobile_no=mobile\n",
    "\n",
    "    @classmethod\n",
    "    def std_details(cls,name,email):\n",
    "        return cls(name,email)\n",
    "    def student_details(self):\n",
    "        print(self.name,self.email,details2.mobile_no)"
   ]
  },
  {
   "cell_type": "code",
   "execution_count": 26,
   "id": "67ca009a-a137-48a0-a17c-daf7fe6719b3",
   "metadata": {},
   "outputs": [
    {
     "data": {
      "text/plain": [
       "489741256"
      ]
     },
     "execution_count": 26,
     "metadata": {},
     "output_type": "execute_result"
    }
   ],
   "source": [
    "details2.mobile_no"
   ]
  },
  {
   "cell_type": "code",
   "execution_count": 27,
   "id": "516a96e4-f780-496d-a2f7-e52fdda48319",
   "metadata": {},
   "outputs": [],
   "source": [
    "details2.change_no(8945563256)"
   ]
  },
  {
   "cell_type": "code",
   "execution_count": 28,
   "id": "3438cec1-400b-4ffe-9aa9-3f511728cad2",
   "metadata": {},
   "outputs": [
    {
     "data": {
      "text/plain": [
       "8945563256"
      ]
     },
     "execution_count": 28,
     "metadata": {},
     "output_type": "execute_result"
    }
   ],
   "source": [
    "details2.mobile_no"
   ]
  },
  {
   "cell_type": "code",
   "execution_count": 17,
   "id": "622048e9-110c-44e6-bfb4-4f8b2aff68e8",
   "metadata": {},
   "outputs": [
    {
     "data": {
      "text/plain": [
       "489741256"
      ]
     },
     "execution_count": 17,
     "metadata": {},
     "output_type": "execute_result"
    }
   ],
   "source": [
    "details2.mobile_no"
   ]
  },
  {
   "cell_type": "code",
   "execution_count": 20,
   "id": "a9ee437e-38e1-46ac-b014-d04debe98020",
   "metadata": {},
   "outputs": [],
   "source": [
    "dets2=details2.std_details(\"jim\",\"jim@gmail.com\")"
   ]
  },
  {
   "cell_type": "code",
   "execution_count": 22,
   "id": "84d85b27-acd2-41bd-afca-5e9d7b94c821",
   "metadata": {},
   "outputs": [
    {
     "name": "stdout",
     "output_type": "stream",
     "text": [
      "jim jim@gmail.com 489741256\n"
     ]
    }
   ],
   "source": [
    "dets2.student_details()"
   ]
  },
  {
   "cell_type": "code",
   "execution_count": 23,
   "id": "49d5fee3-f2eb-4407-819f-58d9e2e17842",
   "metadata": {},
   "outputs": [],
   "source": [
    "pw2_obj=details2(\"rohan\",\"rohan@gmail.com\")"
   ]
  },
  {
   "cell_type": "code",
   "execution_count": 24,
   "id": "be8a1a6a-7292-419e-bfb0-bba7e0020a40",
   "metadata": {},
   "outputs": [
    {
     "name": "stdout",
     "output_type": "stream",
     "text": [
      "rohan rohan@gmail.com 489741256\n"
     ]
    }
   ],
   "source": [
    "pw2_obj.student_details()"
   ]
  },
  {
   "cell_type": "code",
   "execution_count": 29,
   "id": "2f93c0e5-339b-4b43-86fe-af694975c6fe",
   "metadata": {},
   "outputs": [],
   "source": [
    "class details3:\n",
    "\n",
    "    mobile_no=489741256\n",
    "    \n",
    "    def __init__(self,name,email):\n",
    "        self.name=name\n",
    "        self.email=email\n",
    "\n",
    "    @classmethod\n",
    "    def change_no(cls,mobile):\n",
    "        details2.mobile_no=mobile\n",
    "\n",
    "    @classmethod\n",
    "    def std_details(cls,name,email):\n",
    "        return cls(name,email)\n",
    "    def student_details(self):\n",
    "        print(self.name,self.email,details2.mobile_no)"
   ]
  },
  {
   "cell_type": "code",
   "execution_count": 33,
   "id": "41e7d49f-12f9-441c-b8ff-9100af04a038",
   "metadata": {},
   "outputs": [],
   "source": [
    "def course_details(cls,course_name):\n",
    "    print(\"course details\",course_name)"
   ]
  },
  {
   "cell_type": "code",
   "execution_count": 35,
   "id": "80d46f4d-7d80-476b-b225-00cb26a51cbb",
   "metadata": {},
   "outputs": [],
   "source": [
    "details3.course_details=classmethod(course_details)"
   ]
  },
  {
   "cell_type": "code",
   "execution_count": 36,
   "id": "94c62d06-3782-49cb-980c-7f0d3fbae960",
   "metadata": {},
   "outputs": [
    {
     "name": "stdout",
     "output_type": "stream",
     "text": [
      "course details data science\n"
     ]
    }
   ],
   "source": [
    "details3.course_details(\"data science\")"
   ]
  },
  {
   "cell_type": "code",
   "execution_count": 39,
   "id": "74e4c854-d90c-48c3-a50d-a0e8517c4b3b",
   "metadata": {},
   "outputs": [],
   "source": [
    "dets3=details3(\"jake\",\"jake@mail.com\")"
   ]
  },
  {
   "cell_type": "code",
   "execution_count": 40,
   "id": "d2507592-ac03-47bd-9b21-b263b4eb4aa8",
   "metadata": {},
   "outputs": [
    {
     "name": "stdout",
     "output_type": "stream",
     "text": [
      "course details web dev\n"
     ]
    }
   ],
   "source": [
    "dets3.course_details(\"web dev\")"
   ]
  },
  {
   "cell_type": "code",
   "execution_count": 42,
   "id": "639602d7-56d3-4084-a1b1-ba92d1655aa7",
   "metadata": {},
   "outputs": [],
   "source": [
    "delattr(details3,\"mobile_no\")"
   ]
  },
  {
   "cell_type": "code",
   "execution_count": null,
   "id": "346a2bd3-6426-4ff6-a9e8-8ba2a5e48a79",
   "metadata": {},
   "outputs": [],
   "source": []
  }
 ],
 "metadata": {
  "kernelspec": {
   "display_name": "Python 3 (ipykernel)",
   "language": "python",
   "name": "python3"
  },
  "language_info": {
   "codemirror_mode": {
    "name": "ipython",
    "version": 3
   },
   "file_extension": ".py",
   "mimetype": "text/x-python",
   "name": "python",
   "nbconvert_exporter": "python",
   "pygments_lexer": "ipython3",
   "version": "3.11.7"
  }
 },
 "nbformat": 4,
 "nbformat_minor": 5
}
