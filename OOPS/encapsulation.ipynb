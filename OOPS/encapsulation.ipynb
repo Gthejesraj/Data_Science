{
 "cells": [
  {
   "cell_type": "code",
   "execution_count": 2,
   "id": "b323e0d9-34c8-4ce2-ac37-f14f4d9e247d",
   "metadata": {},
   "outputs": [],
   "source": [
    "class test:\n",
    "    def __init__(self,a,b):\n",
    "        self.a=a\n",
    "        self.b=b"
   ]
  },
  {
   "cell_type": "code",
   "execution_count": 3,
   "id": "ae2f0453-ce00-46b8-a263-654df64deb6e",
   "metadata": {},
   "outputs": [],
   "source": [
    "t=test(45,46)"
   ]
  },
  {
   "cell_type": "code",
   "execution_count": 5,
   "id": "c6488c94-15e6-4c49-a7e2-a38cfb5a4c6e",
   "metadata": {},
   "outputs": [
    {
     "data": {
      "text/plain": [
       "45"
      ]
     },
     "execution_count": 5,
     "metadata": {},
     "output_type": "execute_result"
    }
   ],
   "source": [
    "t.a"
   ]
  },
  {
   "cell_type": "code",
   "execution_count": 6,
   "id": "13b121cf-e14a-4262-988a-1ede4ba666af",
   "metadata": {},
   "outputs": [
    {
     "data": {
      "text/plain": [
       "46"
      ]
     },
     "execution_count": 6,
     "metadata": {},
     "output_type": "execute_result"
    }
   ],
   "source": [
    "t.b"
   ]
  },
  {
   "cell_type": "code",
   "execution_count": 7,
   "id": "947916bd-ba9c-41e6-a69f-ed1d1dbdda60",
   "metadata": {},
   "outputs": [],
   "source": [
    "t.a=56"
   ]
  },
  {
   "cell_type": "code",
   "execution_count": 8,
   "id": "abdb684b-b98f-44df-b53c-ba555e4e9e8c",
   "metadata": {},
   "outputs": [
    {
     "data": {
      "text/plain": [
       "56"
      ]
     },
     "execution_count": 8,
     "metadata": {},
     "output_type": "execute_result"
    }
   ],
   "source": [
    "t.a"
   ]
  },
  {
   "cell_type": "code",
   "execution_count": 28,
   "id": "ce382566-87b8-44c9-bd06-e0360aa46de2",
   "metadata": {},
   "outputs": [],
   "source": [
    "class car:\n",
    "    def __init__(self,year,make,model,speed):\n",
    "        self.__year=year\n",
    "        self.__make=make\n",
    "        self.__model=model\n",
    "        self.__speed=0\n",
    "\n",
    "    def set_speed(self,speed):\n",
    "        self.__speed=0 if speed<0 else speed\n",
    "\n",
    "    def get_speed(self):\n",
    "        return slef.__speed"
   ]
  },
  {
   "cell_type": "code",
   "execution_count": 19,
   "id": "f8b88b42-59b2-49eb-a0c0-023f9430a1f0",
   "metadata": {},
   "outputs": [],
   "source": [
    "obj_car=car(2021,\"toyota\",\"innova\",12)"
   ]
  },
  {
   "cell_type": "code",
   "execution_count": 20,
   "id": "b7e5f7af-9e70-43ba-aaa3-951cea3ef851",
   "metadata": {},
   "outputs": [
    {
     "data": {
      "text/plain": [
       "2021"
      ]
     },
     "execution_count": 20,
     "metadata": {},
     "output_type": "execute_result"
    }
   ],
   "source": [
    "obj_car._car__year"
   ]
  },
  {
   "cell_type": "code",
   "execution_count": 34,
   "id": "e2622ad0-b8ca-48d8-8fd3-06783f61819a",
   "metadata": {},
   "outputs": [],
   "source": [
    "class bank_acc():\n",
    "    def __init__(self,balance):\n",
    "        self.__balance=balance\n",
    "\n",
    "    def deposit(self,amount):\n",
    "        self.__balance=self.__balance+amount\n",
    "\n",
    "    def withdrawl(self,amount):\n",
    "        if self.__balance>=amount:\n",
    "            self.__balance=self.__balance-amount\n",
    "            return True\n",
    "        else:\n",
    "            return False\n",
    "\n",
    "    def get_balance(self):\n",
    "        return self.__balance\n",
    "        "
   ]
  },
  {
   "cell_type": "code",
   "execution_count": 35,
   "id": "60298a6b-1528-49c6-b24c-37b1016ab4b5",
   "metadata": {},
   "outputs": [],
   "source": [
    "obj_bank_acc = bank_acc(1000)"
   ]
  },
  {
   "cell_type": "code",
   "execution_count": 36,
   "id": "1d000e70-52bd-4521-be6f-99ec477e778a",
   "metadata": {},
   "outputs": [
    {
     "data": {
      "text/plain": [
       "1000"
      ]
     },
     "execution_count": 36,
     "metadata": {},
     "output_type": "execute_result"
    }
   ],
   "source": [
    "obj_bank_acc.get_balance()"
   ]
  },
  {
   "cell_type": "code",
   "execution_count": 37,
   "id": "3e170526-0f7a-4afa-b190-49f884a24aa4",
   "metadata": {},
   "outputs": [],
   "source": [
    "obj_bank_acc.deposit(6000)"
   ]
  },
  {
   "cell_type": "code",
   "execution_count": 38,
   "id": "f481ede4-aeb7-429e-9898-537f57d6bddc",
   "metadata": {},
   "outputs": [
    {
     "data": {
      "text/plain": [
       "7000"
      ]
     },
     "execution_count": 38,
     "metadata": {},
     "output_type": "execute_result"
    }
   ],
   "source": [
    "obj_bank_acc.get_balance()"
   ]
  },
  {
   "cell_type": "code",
   "execution_count": 39,
   "id": "9f2524a5-0ca5-456a-a9a9-ef78cc8e83ec",
   "metadata": {},
   "outputs": [
    {
     "data": {
      "text/plain": [
       "False"
      ]
     },
     "execution_count": 39,
     "metadata": {},
     "output_type": "execute_result"
    }
   ],
   "source": [
    "obj_bank_acc.withdrawl(10000)"
   ]
  },
  {
   "cell_type": "code",
   "execution_count": 40,
   "id": "d4df73ef-db7f-4027-8887-16fbda55c265",
   "metadata": {},
   "outputs": [
    {
     "data": {
      "text/plain": [
       "True"
      ]
     },
     "execution_count": 40,
     "metadata": {},
     "output_type": "execute_result"
    }
   ],
   "source": [
    "obj_bank_acc.withdrawl(2000)"
   ]
  },
  {
   "cell_type": "code",
   "execution_count": 41,
   "id": "77ddb74b-ebac-4dff-b3fc-901295b17988",
   "metadata": {},
   "outputs": [
    {
     "data": {
      "text/plain": [
       "5000"
      ]
     },
     "execution_count": 41,
     "metadata": {},
     "output_type": "execute_result"
    }
   ],
   "source": [
    "obj_bank_acc.get_balance()"
   ]
  },
  {
   "cell_type": "code",
   "execution_count": null,
   "id": "4ed58502-8c46-401c-a64b-ecf8fcf54a3a",
   "metadata": {},
   "outputs": [],
   "source": []
  }
 ],
 "metadata": {
  "kernelspec": {
   "display_name": "Python 3 (ipykernel)",
   "language": "python",
   "name": "python3"
  },
  "language_info": {
   "codemirror_mode": {
    "name": "ipython",
    "version": 3
   },
   "file_extension": ".py",
   "mimetype": "text/x-python",
   "name": "python",
   "nbconvert_exporter": "python",
   "pygments_lexer": "ipython3",
   "version": "3.11.7"
  }
 },
 "nbformat": 4,
 "nbformat_minor": 5
}
