{
 "cells": [
  {
   "cell_type": "code",
   "execution_count": 1,
   "id": "20c058f1-ec23-4ac3-b4a5-8655b33fd046",
   "metadata": {},
   "outputs": [],
   "source": [
    "a=1"
   ]
  },
  {
   "cell_type": "code",
   "execution_count": 2,
   "id": "cd4469d1-dd1b-41b9-9619-6e57d809b1ae",
   "metadata": {},
   "outputs": [
    {
     "name": "stdout",
     "output_type": "stream",
     "text": [
      "<class 'int'>\n"
     ]
    }
   ],
   "source": [
    "print(type(a))"
   ]
  },
  {
   "cell_type": "code",
   "execution_count": 3,
   "id": "9937af7e-8e0a-43b9-bc4b-3c9d278590c5",
   "metadata": {},
   "outputs": [],
   "source": [
    "class test:\n",
    "    pass"
   ]
  },
  {
   "cell_type": "code",
   "execution_count": 4,
   "id": "82df55b9-d0ba-4ca1-a542-8897d20e6987",
   "metadata": {},
   "outputs": [],
   "source": [
    "a=test()"
   ]
  },
  {
   "cell_type": "code",
   "execution_count": 7,
   "id": "79ada99d-9b55-4660-84d3-cc0b4246b4ca",
   "metadata": {},
   "outputs": [
    {
     "name": "stdout",
     "output_type": "stream",
     "text": [
      "<class '__main__.test'>\n"
     ]
    }
   ],
   "source": [
    "print(type(a))"
   ]
  },
  {
   "cell_type": "code",
   "execution_count": 8,
   "id": "a4fe7e99-d393-430f-89f4-62db12a1a0bb",
   "metadata": {},
   "outputs": [],
   "source": [
    "class skills:\n",
    "    def welcome_msg(self):\n",
    "        print(\"welcome\")\n",
    "        "
   ]
  },
  {
   "cell_type": "code",
   "execution_count": 11,
   "id": "f1d3fe11-843a-476e-87c0-ee00840a4477",
   "metadata": {},
   "outputs": [],
   "source": [
    "rohan=skills()"
   ]
  },
  {
   "cell_type": "code",
   "execution_count": 12,
   "id": "a4c39f05-a206-4542-bef6-19630193f94b",
   "metadata": {},
   "outputs": [
    {
     "name": "stdout",
     "output_type": "stream",
     "text": [
      "welcome\n"
     ]
    }
   ],
   "source": [
    "rohan.welcome_msg()"
   ]
  },
  {
   "cell_type": "code",
   "execution_count": 13,
   "id": "6898e2c4-b603-413b-a4c4-f62e3c7738c0",
   "metadata": {},
   "outputs": [],
   "source": [
    "tim=skills()"
   ]
  },
  {
   "cell_type": "code",
   "execution_count": 14,
   "id": "9a2d5de0-fc83-4edd-b9ac-1bfc0b5b3e52",
   "metadata": {},
   "outputs": [
    {
     "name": "stdout",
     "output_type": "stream",
     "text": [
      "welcome\n"
     ]
    }
   ],
   "source": [
    "tim.welcome_msg()"
   ]
  },
  {
   "cell_type": "code",
   "execution_count": 16,
   "id": "28033090-9cdd-4088-b129-afed9604f8b2",
   "metadata": {},
   "outputs": [],
   "source": [
    "class skills1:\n",
    "    def __init__(self,phno,email,student_id):\n",
    "        self.phno=phno\n",
    "        self.email=email\n",
    "        self.student_id=student_id\n",
    "        \n",
    "    def return_student_details(self):\n",
    "        return self.phno,self.email,self.student_id\n",
    "        "
   ]
  },
  {
   "cell_type": "code",
   "execution_count": 18,
   "id": "0dd8a147-5f87-4b09-8fa7-d9cdf8b9c47f",
   "metadata": {},
   "outputs": [],
   "source": [
    "rohan=skills1(124578,\"rohan@gmail.com\",101)"
   ]
  },
  {
   "cell_type": "code",
   "execution_count": 19,
   "id": "a437c046-fe4a-4cdb-b1ff-6c5a05f518ec",
   "metadata": {},
   "outputs": [
    {
     "data": {
      "text/plain": [
       "124578"
      ]
     },
     "execution_count": 19,
     "metadata": {},
     "output_type": "execute_result"
    }
   ],
   "source": [
    "rohan.phno"
   ]
  },
  {
   "cell_type": "code",
   "execution_count": 20,
   "id": "5e0f092d-2384-4a65-b0a0-164427cc5c75",
   "metadata": {},
   "outputs": [
    {
     "data": {
      "text/plain": [
       "'rohan@gmail.com'"
      ]
     },
     "execution_count": 20,
     "metadata": {},
     "output_type": "execute_result"
    }
   ],
   "source": [
    "rohan.email"
   ]
  },
  {
   "cell_type": "code",
   "execution_count": 21,
   "id": "dae99500-108a-4f01-a683-0c55a4bfb9b9",
   "metadata": {},
   "outputs": [
    {
     "data": {
      "text/plain": [
       "101"
      ]
     },
     "execution_count": 21,
     "metadata": {},
     "output_type": "execute_result"
    }
   ],
   "source": [
    "rohan.student_id"
   ]
  },
  {
   "cell_type": "code",
   "execution_count": 22,
   "id": "2496e84f-be0b-4c93-b67c-3c39cf040a3d",
   "metadata": {},
   "outputs": [
    {
     "data": {
      "text/plain": [
       "(124578, 'rohan@gmail.com', 101)"
      ]
     },
     "execution_count": 22,
     "metadata": {},
     "output_type": "execute_result"
    }
   ],
   "source": [
    "rohan.return_student_details()"
   ]
  },
  {
   "cell_type": "code",
   "execution_count": 23,
   "id": "76f7ea9d-0e63-474c-965b-01dc59be281a",
   "metadata": {},
   "outputs": [],
   "source": [
    "tim=skills1(785612,\"tim@gmail.com\",102)"
   ]
  },
  {
   "cell_type": "code",
   "execution_count": 25,
   "id": "7ce05341-1800-47ff-a3fa-be2d2fb172b0",
   "metadata": {},
   "outputs": [
    {
     "data": {
      "text/plain": [
       "(785612, 'tim@gmail.com', 102)"
      ]
     },
     "execution_count": 25,
     "metadata": {},
     "output_type": "execute_result"
    }
   ],
   "source": [
    "tim.return_student_details()"
   ]
  },
  {
   "cell_type": "code",
   "execution_count": null,
   "id": "a38ee30b-073b-4607-9650-d60a615b4c70",
   "metadata": {},
   "outputs": [],
   "source": []
  }
 ],
 "metadata": {
  "kernelspec": {
   "display_name": "Python 3 (ipykernel)",
   "language": "python",
   "name": "python3"
  },
  "language_info": {
   "codemirror_mode": {
    "name": "ipython",
    "version": 3
   },
   "file_extension": ".py",
   "mimetype": "text/x-python",
   "name": "python",
   "nbconvert_exporter": "python",
   "pygments_lexer": "ipython3",
   "version": "3.11.7"
  }
 },
 "nbformat": 4,
 "nbformat_minor": 5
}
