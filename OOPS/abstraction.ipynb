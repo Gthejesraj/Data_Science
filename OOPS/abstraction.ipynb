{
 "cells": [
  {
   "cell_type": "code",
   "execution_count": 3,
   "id": "18d2e95e-649d-4031-a4c8-41ed93f5fddb",
   "metadata": {},
   "outputs": [],
   "source": [
    "import abc\n",
    "\n",
    "class student:\n",
    "    \n",
    "    @abc.abstractmethod\n",
    "    def student_details(self):\n",
    "        pass\n",
    "\n",
    "    @abc.abstractmethod\n",
    "    def student_assignment(self):\n",
    "        pass\n",
    "\n",
    "    @abc.abstractmethod\n",
    "    def student_marks(self):\n",
    "        pass"
   ]
  },
  {
   "cell_type": "code",
   "execution_count": 4,
   "id": "3fc04c10-52af-4f81-91bf-709adac9404a",
   "metadata": {},
   "outputs": [],
   "source": [
    "class data_science(student):\n",
    "    def student_details(self):\n",
    "        return \" it will try to return detials of data science masters\"\n",
    "\n",
    "    def student_assignment(self):\n",
    "        return \"it will return deatils of student assignment for data science masters\""
   ]
  },
  {
   "cell_type": "code",
   "execution_count": 5,
   "id": "3b2d49f7-dc19-41a0-a872-649d32f2ab5e",
   "metadata": {},
   "outputs": [],
   "source": [
    "class web_dev(student):\n",
    "    def student_details(self):\n",
    "        return \"this will return details of web dev\"\n",
    "\n",
    "    def student_marks(self):\n",
    "        return \"this wil return marks of web dev class\""
   ]
  },
  {
   "cell_type": "code",
   "execution_count": 6,
   "id": "3ecf716d-d56c-41e6-b574-1e7bb582ee2d",
   "metadata": {},
   "outputs": [
    {
     "data": {
      "text/plain": [
       "' it will try to return detials of data science masters'"
      ]
     },
     "execution_count": 6,
     "metadata": {},
     "output_type": "execute_result"
    }
   ],
   "source": [
    "ds=data_science()\n",
    "ds.student_details()"
   ]
  },
  {
   "cell_type": "code",
   "execution_count": 7,
   "id": "0bd342d6-9a20-4cd8-a874-fd399527333e",
   "metadata": {},
   "outputs": [
    {
     "data": {
      "text/plain": [
       "'this wil return marks of web dev class'"
      ]
     },
     "execution_count": 7,
     "metadata": {},
     "output_type": "execute_result"
    }
   ],
   "source": [
    "wb=web_dev()\n",
    "wb.student_marks()"
   ]
  },
  {
   "cell_type": "code",
   "execution_count": null,
   "id": "b69f7e7f-c686-4e21-b2b4-d8e885de36dc",
   "metadata": {},
   "outputs": [],
   "source": []
  }
 ],
 "metadata": {
  "kernelspec": {
   "display_name": "Python 3 (ipykernel)",
   "language": "python",
   "name": "python3"
  },
  "language_info": {
   "codemirror_mode": {
    "name": "ipython",
    "version": 3
   },
   "file_extension": ".py",
   "mimetype": "text/x-python",
   "name": "python",
   "nbconvert_exporter": "python",
   "pygments_lexer": "ipython3",
   "version": "3.11.7"
  }
 },
 "nbformat": 4,
 "nbformat_minor": 5
}
