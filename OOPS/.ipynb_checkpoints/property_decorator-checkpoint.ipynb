{
 "cells": [
  {
   "cell_type": "code",
   "execution_count": 23,
   "id": "12051678-cdc8-46a7-bda6-c7bf305352a0",
   "metadata": {},
   "outputs": [],
   "source": [
    "class test:\n",
    "    def __init__(self,course_price,course_name):\n",
    "        self.__course_price=course_price\n",
    "        self.course_name=course_name\n",
    "\n",
    "    @property\n",
    "    def course_price_access(self):\n",
    "        return self.__course_price\n",
    "\n",
    "    @course_price_access.setter\n",
    "    def course_price_set(self,price):\n",
    "        if price<=3500:\n",
    "            pass\n",
    "        else:\n",
    "            self.__course_price=price\n",
    "            \n",
    "    @course_price_access.deleter\n",
    "    def course_price_del(self):\n",
    "        del self.__course_price"
   ]
  },
  {
   "cell_type": "code",
   "execution_count": 24,
   "id": "316e8800-85ac-45c6-8d17-98a64e93d296",
   "metadata": {},
   "outputs": [],
   "source": [
    "tst = test(3500,\"data science\")"
   ]
  },
  {
   "cell_type": "code",
   "execution_count": 18,
   "id": "d9d483c0-3be1-46b3-99f7-26656441b523",
   "metadata": {},
   "outputs": [
    {
     "data": {
      "text/plain": [
       "'data science'"
      ]
     },
     "execution_count": 18,
     "metadata": {},
     "output_type": "execute_result"
    }
   ],
   "source": [
    "tst.course_name"
   ]
  },
  {
   "cell_type": "code",
   "execution_count": 25,
   "id": "87d36d0d-f2a1-4dda-b04f-92dc0b09e4b6",
   "metadata": {},
   "outputs": [],
   "source": [
    "del tst.course_price_del"
   ]
  },
  {
   "cell_type": "code",
   "execution_count": 19,
   "id": "7ab416df-3263-4586-8e2c-a03420c922dd",
   "metadata": {},
   "outputs": [],
   "source": [
    "tst.course_price_set=2300"
   ]
  },
  {
   "cell_type": "code",
   "execution_count": 26,
   "id": "071c1fcf-b6bd-409f-9ebe-9c0b9a3afca5",
   "metadata": {},
   "outputs": [
    {
     "ename": "AttributeError",
     "evalue": "'test' object has no attribute '_test__course_price'",
     "output_type": "error",
     "traceback": [
      "\u001b[0;31m---------------------------------------------------------------------------\u001b[0m",
      "\u001b[0;31mAttributeError\u001b[0m                            Traceback (most recent call last)",
      "Cell \u001b[0;32mIn[26], line 1\u001b[0m\n\u001b[0;32m----> 1\u001b[0m tst\u001b[38;5;241m.\u001b[39mcourse_price_access\n",
      "Cell \u001b[0;32mIn[23], line 8\u001b[0m, in \u001b[0;36mtest.course_price_access\u001b[0;34m(self)\u001b[0m\n\u001b[1;32m      6\u001b[0m \u001b[38;5;129m@property\u001b[39m\n\u001b[1;32m      7\u001b[0m \u001b[38;5;28;01mdef\u001b[39;00m \u001b[38;5;21mcourse_price_access\u001b[39m(\u001b[38;5;28mself\u001b[39m):\n\u001b[0;32m----> 8\u001b[0m     \u001b[38;5;28;01mreturn\u001b[39;00m \u001b[38;5;28mself\u001b[39m\u001b[38;5;241m.\u001b[39m__course_price\n",
      "\u001b[0;31mAttributeError\u001b[0m: 'test' object has no attribute '_test__course_price'"
     ]
    }
   ],
   "source": [
    "tst.course_price_access"
   ]
  },
  {
   "cell_type": "code",
   "execution_count": 21,
   "id": "55738a9d-f14c-4a5e-9873-4a14f655b54e",
   "metadata": {},
   "outputs": [],
   "source": [
    "tst.course_price_set=4500"
   ]
  },
  {
   "cell_type": "code",
   "execution_count": 22,
   "id": "1e946a4e-9fec-4816-8d41-edca0e0935b8",
   "metadata": {},
   "outputs": [
    {
     "data": {
      "text/plain": [
       "4500"
      ]
     },
     "execution_count": 22,
     "metadata": {},
     "output_type": "execute_result"
    }
   ],
   "source": [
    "tst.course_price_access"
   ]
  },
  {
   "cell_type": "code",
   "execution_count": null,
   "id": "32b14aa4-6c29-41a8-8651-038fef505dc3",
   "metadata": {},
   "outputs": [],
   "source": []
  },
  {
   "cell_type": "code",
   "execution_count": null,
   "id": "473639c6-84b9-492a-8d6f-9b387cbe7d3d",
   "metadata": {},
   "outputs": [],
   "source": []
  }
 ],
 "metadata": {
  "kernelspec": {
   "display_name": "Python 3 (ipykernel)",
   "language": "python",
   "name": "python3"
  },
  "language_info": {
   "codemirror_mode": {
    "name": "ipython",
    "version": 3
   },
   "file_extension": ".py",
   "mimetype": "text/x-python",
   "name": "python",
   "nbconvert_exporter": "python",
   "pygments_lexer": "ipython3",
   "version": "3.11.7"
  }
 },
 "nbformat": 4,
 "nbformat_minor": 5
}
