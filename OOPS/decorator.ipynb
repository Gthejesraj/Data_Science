{
 "cells": [
  {
   "cell_type": "code",
   "execution_count": 10,
   "id": "00853312-4f2b-4618-bc84-3cdcce59304d",
   "metadata": {},
   "outputs": [],
   "source": [
    "def test():\n",
    "    print(\"this is the start of my function\")\n",
    "    print(4+5)\n",
    "    print(\"this is my end of my function\")"
   ]
  },
  {
   "cell_type": "code",
   "execution_count": 11,
   "id": "2b1c150d-8c88-4bb7-a87c-f1ee71ada5b7",
   "metadata": {},
   "outputs": [
    {
     "name": "stdout",
     "output_type": "stream",
     "text": [
      "this is the start of my function\n",
      "9\n",
      "this is my end of my function\n"
     ]
    }
   ],
   "source": [
    "test()"
   ]
  },
  {
   "cell_type": "code",
   "execution_count": 12,
   "id": "9a1bcead-c419-4641-904b-accb75d1833d",
   "metadata": {},
   "outputs": [],
   "source": [
    "def deco(func):\n",
    "    def inner_deco():\n",
    "        print(\"this is the start of my function\")\n",
    "        func()\n",
    "        print(\"this is my end of my function\")\n",
    "    return inner_deco\n",
    "        "
   ]
  },
  {
   "cell_type": "code",
   "execution_count": 13,
   "id": "d31b75c0-7f49-45c6-9959-64ef2813cb57",
   "metadata": {},
   "outputs": [],
   "source": [
    "@deco\n",
    "def test1():\n",
    "    print(4+5)"
   ]
  },
  {
   "cell_type": "code",
   "execution_count": 14,
   "id": "e3a064c7-5cbc-4bb4-8b73-8ac9613fcba8",
   "metadata": {},
   "outputs": [
    {
     "name": "stdout",
     "output_type": "stream",
     "text": [
      "this is the start of my function\n",
      "9\n",
      "this is my end of my function\n"
     ]
    }
   ],
   "source": [
    "test1()"
   ]
  },
  {
   "cell_type": "code",
   "execution_count": 1,
   "id": "6046010e-38d0-47f4-a6e0-d26142eaa539",
   "metadata": {},
   "outputs": [],
   "source": [
    "import time\n",
    "def timer_test(func):\n",
    "    def timer_test_inner():\n",
    "        start=time.time()\n",
    "        func()\n",
    "        end=time.time()\n",
    "        print(end-start)\n",
    "    return timer_test_inner"
   ]
  },
  {
   "cell_type": "code",
   "execution_count": 3,
   "id": "4b0a00b2-0f14-4abe-8e31-8159cd87799c",
   "metadata": {},
   "outputs": [],
   "source": [
    "@timer_test\n",
    "def test2():\n",
    "    print(45+24)"
   ]
  },
  {
   "cell_type": "code",
   "execution_count": 4,
   "id": "ca8ff628-5935-4dc6-b94f-df5b05104ee8",
   "metadata": {},
   "outputs": [
    {
     "name": "stdout",
     "output_type": "stream",
     "text": [
      "69\n",
      "5.507469177246094e-05\n"
     ]
    }
   ],
   "source": [
    "test2()"
   ]
  },
  {
   "cell_type": "code",
   "execution_count": 5,
   "id": "c84bfde5-0fb2-4559-a325-05d6dbe0c9b4",
   "metadata": {},
   "outputs": [],
   "source": [
    "@timer_test\n",
    "def test3():\n",
    "    for i in range(100000000000):\n",
    "        pass"
   ]
  },
  {
   "cell_type": "code",
   "execution_count": 7,
   "id": "d4451f1f-89b2-439c-b943-3d809cfeb812",
   "metadata": {},
   "outputs": [
    {
     "name": "stdout",
     "output_type": "stream",
     "text": [
      "0.27376413345336914\n"
     ]
    }
   ],
   "source": [
    "test3()"
   ]
  },
  {
   "cell_type": "code",
   "execution_count": null,
   "id": "ad17a2fb-27e9-48fe-9c3e-f755140c0616",
   "metadata": {},
   "outputs": [],
   "source": []
  }
 ],
 "metadata": {
  "kernelspec": {
   "display_name": "Python 3 (ipykernel)",
   "language": "python",
   "name": "python3"
  },
  "language_info": {
   "codemirror_mode": {
    "name": "ipython",
    "version": 3
   },
   "file_extension": ".py",
   "mimetype": "text/x-python",
   "name": "python",
   "nbconvert_exporter": "python",
   "pygments_lexer": "ipython3",
   "version": "3.11.7"
  }
 },
 "nbformat": 4,
 "nbformat_minor": 5
}
