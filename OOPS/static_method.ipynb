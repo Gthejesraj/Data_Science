{
 "cells": [
  {
   "cell_type": "code",
   "execution_count": 8,
   "id": "efbc047b-8a82-4ab1-b888-369090a05957",
   "metadata": {},
   "outputs": [],
   "source": [
    "class details:\n",
    "    def student_details(self,name,email,no):\n",
    "        print(name,email,no)"
   ]
  },
  {
   "cell_type": "code",
   "execution_count": 9,
   "id": "31a98e99-67ba-4cf3-8bda-562a701bd53b",
   "metadata": {},
   "outputs": [],
   "source": [
    "dets=details()"
   ]
  },
  {
   "cell_type": "code",
   "execution_count": 10,
   "id": "9858fdc1-6897-49b7-8830-6ac13a2333a9",
   "metadata": {},
   "outputs": [
    {
     "name": "stdout",
     "output_type": "stream",
     "text": [
      "tim tim@gmail.com 51248955\n"
     ]
    }
   ],
   "source": [
    "dets.student_details(\"tim\",\"tim@gmail.com\",51248955)"
   ]
  },
  {
   "cell_type": "code",
   "execution_count": 13,
   "id": "30714b45-067c-4ce2-a4e6-bfad5526df75",
   "metadata": {},
   "outputs": [],
   "source": [
    "class details1:\n",
    "    def student_details(self,name,email,no):\n",
    "        print(name,email,no)\n",
    "        \n",
    "    @staticmethod\n",
    "    def mentor_mail_id(mentor_mail_id):\n",
    "        print(mentor_mail_id)\n",
    "        \n",
    "    @staticmethod\n",
    "    def mentor_class(list_mentor):\n",
    "        print(list_mentor)\n",
    "        details1.mentor_mail_id([\"tim@gmail.com\",\"krish@gmail.com\"])\n",
    "\n",
    "    @classmethod\n",
    "    def class_name(cls,class_name):\n",
    "        cls.mentor_class([\"tim\",\"krish\"])\n",
    "\n",
    "    def mentor(self,mentor_list):\n",
    "        print(mentor_list)\n",
    "        self.mentor_class([\"tim\",\"krish\"])"
   ]
  },
  {
   "cell_type": "code",
   "execution_count": 12,
   "id": "4fa4a4a1-c5d8-4efe-a489-2eb366678bc8",
   "metadata": {},
   "outputs": [
    {
     "name": "stdout",
     "output_type": "stream",
     "text": [
      "['james', 'jim']\n"
     ]
    }
   ],
   "source": [
    "details1.mentor_class([\"james\",\"jim\"])"
   ]
  },
  {
   "cell_type": "code",
   "execution_count": 14,
   "id": "f14516e7-27cb-465a-8c2a-a5a3d92b3de5",
   "metadata": {},
   "outputs": [],
   "source": [
    "dets1 = details1()"
   ]
  },
  {
   "cell_type": "code",
   "execution_count": 15,
   "id": "7786212a-d2df-4b46-a443-b572637b2e01",
   "metadata": {},
   "outputs": [
    {
     "name": "stdout",
     "output_type": "stream",
     "text": [
      "mohan mohan@gmail.com 13249799\n"
     ]
    }
   ],
   "source": [
    "dets.student_details(\"mohan\",\"mohan@gmail.com\",13249799)"
   ]
  },
  {
   "cell_type": "code",
   "execution_count": 16,
   "id": "b8c4171f-bfa8-4d01-b933-8eb4b4d7a200",
   "metadata": {},
   "outputs": [
    {
     "name": "stdout",
     "output_type": "stream",
     "text": [
      "['krish@gmail.com', 'tim@gmail.com']\n"
     ]
    }
   ],
   "source": [
    "dets1.mentor_mail_id([\"krish@gmail.com\",\"tim@gmail.com\"])"
   ]
  },
  {
   "cell_type": "code",
   "execution_count": 17,
   "id": "201b384d-4901-4c4e-8976-7515c6657970",
   "metadata": {},
   "outputs": [
    {
     "name": "stdout",
     "output_type": "stream",
     "text": [
      "['tim', 'krish']\n",
      "['tim@gmail.com', 'krish@gmail.com']\n"
     ]
    }
   ],
   "source": [
    "dets1.class_name(\"data science\")"
   ]
  },
  {
   "cell_type": "code",
   "execution_count": null,
   "id": "19e7aead-9c90-412c-aa3b-4d15a84812b3",
   "metadata": {},
   "outputs": [],
   "source": []
  }
 ],
 "metadata": {
  "kernelspec": {
   "display_name": "Python 3 (ipykernel)",
   "language": "python",
   "name": "python3"
  },
  "language_info": {
   "codemirror_mode": {
    "name": "ipython",
    "version": 3
   },
   "file_extension": ".py",
   "mimetype": "text/x-python",
   "name": "python",
   "nbconvert_exporter": "python",
   "pygments_lexer": "ipython3",
   "version": "3.11.7"
  }
 },
 "nbformat": 4,
 "nbformat_minor": 5
}
