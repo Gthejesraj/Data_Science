{
 "cells": [
  {
   "cell_type": "code",
   "execution_count": 1,
   "id": "096f6a1b-48f7-4c25-b454-28ac650a495a",
   "metadata": {},
   "outputs": [],
   "source": [
    "import numpy as np"
   ]
  },
  {
   "cell_type": "code",
   "execution_count": 2,
   "id": "c3db3208-8267-4602-b6c7-dbe8a2b3ca3e",
   "metadata": {},
   "outputs": [],
   "source": [
    "l = [1,2,3,4,5]"
   ]
  },
  {
   "cell_type": "code",
   "execution_count": 4,
   "id": "aa314839-29b8-4fc1-83a6-84a1644ad94b",
   "metadata": {},
   "outputs": [],
   "source": [
    "arr=np.array(l)"
   ]
  },
  {
   "cell_type": "code",
   "execution_count": 5,
   "id": "92127db1-9f68-4eed-87e9-9885fcd34ce3",
   "metadata": {},
   "outputs": [
    {
     "data": {
      "text/plain": [
       "numpy.ndarray"
      ]
     },
     "execution_count": 5,
     "metadata": {},
     "output_type": "execute_result"
    }
   ],
   "source": [
    "type(arr)"
   ]
  },
  {
   "cell_type": "code",
   "execution_count": 6,
   "id": "d487c395-92f5-476e-8b2e-45cf0faa1a1d",
   "metadata": {},
   "outputs": [
    {
     "data": {
      "text/plain": [
       "array([1, 2, 3, 4, 5])"
      ]
     },
     "execution_count": 6,
     "metadata": {},
     "output_type": "execute_result"
    }
   ],
   "source": [
    "np.asarray(l)"
   ]
  },
  {
   "cell_type": "code",
   "execution_count": 9,
   "id": "a61c9423-8cd4-45b9-a31a-46faf1e4dbe3",
   "metadata": {},
   "outputs": [],
   "source": [
    "arr1=np.array([[1,2,3],[4,5,6]])"
   ]
  },
  {
   "cell_type": "code",
   "execution_count": 48,
   "id": "b8f19ae5-0a53-4bdc-ad2e-30d6968d3fc3",
   "metadata": {},
   "outputs": [
    {
     "data": {
      "text/plain": [
       "1"
      ]
     },
     "execution_count": 48,
     "metadata": {},
     "output_type": "execute_result"
    }
   ],
   "source": [
    "arr.ndim # dimension of an array"
   ]
  },
  {
   "cell_type": "code",
   "execution_count": 11,
   "id": "5a969941-4c57-4511-ac01-8db55f789bfb",
   "metadata": {},
   "outputs": [
    {
     "data": {
      "text/plain": [
       "2"
      ]
     },
     "execution_count": 11,
     "metadata": {},
     "output_type": "execute_result"
    }
   ],
   "source": [
    "arr1.ndim"
   ]
  },
  {
   "cell_type": "code",
   "execution_count": 13,
   "id": "50fa91f9-bc85-466a-b3e6-464deec413ee",
   "metadata": {},
   "outputs": [],
   "source": [
    "mat=np.matrix(l)"
   ]
  },
  {
   "cell_type": "code",
   "execution_count": 14,
   "id": "1410860d-d006-40c0-9860-d9694013f377",
   "metadata": {},
   "outputs": [
    {
     "data": {
      "text/plain": [
       "array([1, 2, 3, 4, 5])"
      ]
     },
     "execution_count": 14,
     "metadata": {},
     "output_type": "execute_result"
    }
   ],
   "source": [
    "np.asanyarray(l)"
   ]
  },
  {
   "cell_type": "code",
   "execution_count": 15,
   "id": "4e5d0635-d15b-4f54-bde1-ec5fa8412461",
   "metadata": {},
   "outputs": [
    {
     "data": {
      "text/plain": [
       "matrix([[1, 2, 3, 4, 5]])"
      ]
     },
     "execution_count": 15,
     "metadata": {},
     "output_type": "execute_result"
    }
   ],
   "source": [
    "np.asanyarray(mat)"
   ]
  },
  {
   "cell_type": "code",
   "execution_count": 16,
   "id": "1ea094f3-4eac-422e-ab5f-dd3c378342e7",
   "metadata": {},
   "outputs": [
    {
     "data": {
      "text/plain": [
       "array([1, 2, 3, 4, 5])"
      ]
     },
     "execution_count": 16,
     "metadata": {},
     "output_type": "execute_result"
    }
   ],
   "source": [
    "arr"
   ]
  },
  {
   "cell_type": "code",
   "execution_count": 17,
   "id": "6de56bbd-61de-458d-9f2b-abaf6cc1bcc0",
   "metadata": {},
   "outputs": [],
   "source": [
    "a = arr"
   ]
  },
  {
   "cell_type": "code",
   "execution_count": 18,
   "id": "f150a6ee-6ef8-4e70-a3cc-6a6621504f59",
   "metadata": {},
   "outputs": [
    {
     "data": {
      "text/plain": [
       "array([1, 2, 3, 4, 5])"
      ]
     },
     "execution_count": 18,
     "metadata": {},
     "output_type": "execute_result"
    }
   ],
   "source": [
    "a"
   ]
  },
  {
   "cell_type": "code",
   "execution_count": 19,
   "id": "d4b9dd74-d186-441c-8006-5af921ef7038",
   "metadata": {},
   "outputs": [
    {
     "data": {
      "text/plain": [
       "array([1, 2, 3, 4, 5])"
      ]
     },
     "execution_count": 19,
     "metadata": {},
     "output_type": "execute_result"
    }
   ],
   "source": [
    "arr"
   ]
  },
  {
   "cell_type": "code",
   "execution_count": 20,
   "id": "e445c012-44ae-4cf9-bf61-224f9e50ee06",
   "metadata": {},
   "outputs": [],
   "source": [
    "arr[0] = 100"
   ]
  },
  {
   "cell_type": "code",
   "execution_count": 21,
   "id": "19f4a96e-f966-43c5-9d87-e8fd35b996b7",
   "metadata": {},
   "outputs": [
    {
     "data": {
      "text/plain": [
       "array([100,   2,   3,   4,   5])"
      ]
     },
     "execution_count": 21,
     "metadata": {},
     "output_type": "execute_result"
    }
   ],
   "source": [
    "arr"
   ]
  },
  {
   "cell_type": "code",
   "execution_count": 22,
   "id": "26eaa53b-ecbd-47f9-a68c-c174a3ef8574",
   "metadata": {},
   "outputs": [
    {
     "data": {
      "text/plain": [
       "array([100,   2,   3,   4,   5])"
      ]
     },
     "execution_count": 22,
     "metadata": {},
     "output_type": "execute_result"
    }
   ],
   "source": [
    "a"
   ]
  },
  {
   "cell_type": "markdown",
   "id": "5b14b4c9-8a5a-4580-81f3-fa1d65aeace1",
   "metadata": {},
   "source": [
    "#### shallow copy is giving reference not creating a data in a new memory"
   ]
  },
  {
   "cell_type": "code",
   "execution_count": 28,
   "id": "a09ae108-bdcb-49ef-a3af-1785945f679d",
   "metadata": {},
   "outputs": [],
   "source": [
    "b = np.copy(arr) # when you call copy it will be stored in a new memory location, known as deep copy"
   ]
  },
  {
   "cell_type": "code",
   "execution_count": 24,
   "id": "654e83c2-215a-41ce-b3e4-d9f0c8cda880",
   "metadata": {},
   "outputs": [
    {
     "data": {
      "text/plain": [
       "array([100,   2,   3,   4,   5])"
      ]
     },
     "execution_count": 24,
     "metadata": {},
     "output_type": "execute_result"
    }
   ],
   "source": [
    "b"
   ]
  },
  {
   "cell_type": "code",
   "execution_count": 25,
   "id": "a71f40c8-afd6-4910-9d11-6f4177b14eb5",
   "metadata": {},
   "outputs": [],
   "source": [
    "b[0]=22"
   ]
  },
  {
   "cell_type": "code",
   "execution_count": 26,
   "id": "e99565bc-a5a6-4585-b13e-9464396afd03",
   "metadata": {},
   "outputs": [
    {
     "data": {
      "text/plain": [
       "array([22,  2,  3,  4,  5])"
      ]
     },
     "execution_count": 26,
     "metadata": {},
     "output_type": "execute_result"
    }
   ],
   "source": [
    "b"
   ]
  },
  {
   "cell_type": "code",
   "execution_count": 27,
   "id": "b230a71c-c1fb-45b3-9cbd-3596c6458504",
   "metadata": {},
   "outputs": [
    {
     "data": {
      "text/plain": [
       "array([100,   2,   3,   4,   5])"
      ]
     },
     "execution_count": 27,
     "metadata": {},
     "output_type": "execute_result"
    }
   ],
   "source": [
    "a"
   ]
  },
  {
   "cell_type": "code",
   "execution_count": 30,
   "id": "a01c9102-7e13-47cf-9ed9-ba1b9841cdcd",
   "metadata": {},
   "outputs": [
    {
     "data": {
      "text/plain": [
       "array([[ True, False, False],\n",
       "       [False,  True, False],\n",
       "       [False, False,  True]])"
      ]
     },
     "execution_count": 30,
     "metadata": {},
     "output_type": "execute_result"
    }
   ],
   "source": [
    "np.fromfunction(lambda i,j:i==j,(3,3))"
   ]
  },
  {
   "cell_type": "code",
   "execution_count": 32,
   "id": "5de9e904-560c-4d2f-83f7-24640221e90d",
   "metadata": {},
   "outputs": [
    {
     "data": {
      "text/plain": [
       "array([[0., 0., 0.],\n",
       "       [0., 1., 2.],\n",
       "       [0., 2., 4.]])"
      ]
     },
     "execution_count": 32,
     "metadata": {},
     "output_type": "execute_result"
    }
   ],
   "source": [
    "np.fromfunction(lambda i,j:i*j,(3,3))"
   ]
  },
  {
   "cell_type": "code",
   "execution_count": 40,
   "id": "f930420a-2660-4dbe-b0be-a0dfca07ce08",
   "metadata": {},
   "outputs": [
    {
     "data": {
      "text/plain": [
       "[0, 1, 4, 9, 16]"
      ]
     },
     "execution_count": 40,
     "metadata": {},
     "output_type": "execute_result"
    }
   ],
   "source": [
    "list(i*i for i in range(5))\n"
   ]
  },
  {
   "cell_type": "code",
   "execution_count": 41,
   "id": "7613c31a-b9b0-45fd-b0d3-cca9829420a8",
   "metadata": {},
   "outputs": [],
   "source": [
    "iterable = (i*i for i in range(5))"
   ]
  },
  {
   "cell_type": "code",
   "execution_count": 43,
   "id": "6c86173b-f070-4d82-8a42-e14f48321cb8",
   "metadata": {},
   "outputs": [
    {
     "data": {
      "text/plain": [
       "array([ 0.,  1.,  4.,  9., 16.])"
      ]
     },
     "execution_count": 43,
     "metadata": {},
     "output_type": "execute_result"
    }
   ],
   "source": [
    "np.fromiter(iterable,float)"
   ]
  },
  {
   "cell_type": "code",
   "execution_count": 44,
   "id": "d146cc1d-0f34-4300-a46f-170886d33332",
   "metadata": {},
   "outputs": [
    {
     "data": {
      "text/plain": [
       "array([23., 45., 67.])"
      ]
     },
     "execution_count": 44,
     "metadata": {},
     "output_type": "execute_result"
    }
   ],
   "source": [
    "np.fromstring('23 45 67',sep = ' ')"
   ]
  },
  {
   "cell_type": "code",
   "execution_count": 45,
   "id": "0715191a-d459-45fa-8f7f-3b1767b4f767",
   "metadata": {},
   "outputs": [
    {
     "data": {
      "text/plain": [
       "array([23., 45., 67.])"
      ]
     },
     "execution_count": 45,
     "metadata": {},
     "output_type": "execute_result"
    }
   ],
   "source": [
    "np.fromstring('23,45,67',sep = ',')"
   ]
  },
  {
   "cell_type": "code",
   "execution_count": 46,
   "id": "3030dec7-5dea-45eb-9098-a88e666f064d",
   "metadata": {},
   "outputs": [
    {
     "data": {
      "text/plain": [
       "array([100,   2,   3,   4,   5])"
      ]
     },
     "execution_count": 46,
     "metadata": {},
     "output_type": "execute_result"
    }
   ],
   "source": [
    "arr"
   ]
  },
  {
   "cell_type": "code",
   "execution_count": 47,
   "id": "e0fcb029-a49d-4ab8-9938-f5b1895e5046",
   "metadata": {},
   "outputs": [
    {
     "data": {
      "text/plain": [
       "array([[1, 2, 3],\n",
       "       [4, 5, 6]])"
      ]
     },
     "execution_count": 47,
     "metadata": {},
     "output_type": "execute_result"
    }
   ],
   "source": [
    "arr1"
   ]
  },
  {
   "cell_type": "code",
   "execution_count": 50,
   "id": "45d5ca90-16c1-4f5b-aa17-8bfe9a755e55",
   "metadata": {},
   "outputs": [
    {
     "data": {
      "text/plain": [
       "5"
      ]
     },
     "execution_count": 50,
     "metadata": {},
     "output_type": "execute_result"
    }
   ],
   "source": [
    "arr.size # total no of elements in an array"
   ]
  },
  {
   "cell_type": "code",
   "execution_count": 51,
   "id": "e9acb8fd-fb40-46d3-9ac7-1035428fdb26",
   "metadata": {},
   "outputs": [
    {
     "data": {
      "text/plain": [
       "6"
      ]
     },
     "execution_count": 51,
     "metadata": {},
     "output_type": "execute_result"
    }
   ],
   "source": [
    "arr1.size"
   ]
  },
  {
   "cell_type": "code",
   "execution_count": 52,
   "id": "23475266-b9d7-4050-9a83-08d3d5052bcb",
   "metadata": {},
   "outputs": [
    {
     "data": {
      "text/plain": [
       "(5,)"
      ]
     },
     "execution_count": 52,
     "metadata": {},
     "output_type": "execute_result"
    }
   ],
   "source": [
    "arr.shape"
   ]
  },
  {
   "cell_type": "code",
   "execution_count": 53,
   "id": "277fe1fb-e998-4381-9b08-8f9b7f5a40f2",
   "metadata": {},
   "outputs": [
    {
     "data": {
      "text/plain": [
       "(2, 3)"
      ]
     },
     "execution_count": 53,
     "metadata": {},
     "output_type": "execute_result"
    }
   ],
   "source": [
    "arr1.shape"
   ]
  },
  {
   "cell_type": "code",
   "execution_count": 55,
   "id": "279fb504-caae-4330-9a34-c1fba2e91803",
   "metadata": {},
   "outputs": [
    {
     "data": {
      "text/plain": [
       "dtype('int64')"
      ]
     },
     "execution_count": 55,
     "metadata": {},
     "output_type": "execute_result"
    }
   ],
   "source": [
    "arr.dtype"
   ]
  },
  {
   "cell_type": "code",
   "execution_count": 56,
   "id": "622e1282-5a5e-45ff-9ad9-fc7ff0e3e55f",
   "metadata": {},
   "outputs": [
    {
     "data": {
      "text/plain": [
       "[0, 1, 2, 3, 4]"
      ]
     },
     "execution_count": 56,
     "metadata": {},
     "output_type": "execute_result"
    }
   ],
   "source": [
    "list(range(5))"
   ]
  },
  {
   "cell_type": "code",
   "execution_count": 57,
   "id": "d98f74e6-0ff1-430c-8584-b0fed7a1f086",
   "metadata": {},
   "outputs": [
    {
     "data": {
      "text/plain": [
       "[0, 1, 2, 3, 4, 5, 6, 7, 8, 9]"
      ]
     },
     "execution_count": 57,
     "metadata": {},
     "output_type": "execute_result"
    }
   ],
   "source": [
    "list(range(0,10))"
   ]
  },
  {
   "cell_type": "code",
   "execution_count": 58,
   "id": "56a0fd07-c174-4bdc-8872-c06aa702be55",
   "metadata": {},
   "outputs": [
    {
     "data": {
      "text/plain": [
       "array([0.5, 1.5, 2.5, 3.5, 4.5, 5.5, 6.5, 7.5, 8.5, 9.5])"
      ]
     },
     "execution_count": 58,
     "metadata": {},
     "output_type": "execute_result"
    }
   ],
   "source": [
    "np.arange(0.5,10)"
   ]
  },
  {
   "cell_type": "code",
   "execution_count": 60,
   "id": "7ebd9f80-a9dc-44e5-a33c-6e272235e90b",
   "metadata": {},
   "outputs": [
    {
     "data": {
      "text/plain": [
       "[0.5,\n",
       " 0.7,\n",
       " 0.8999999999999999,\n",
       " 1.0999999999999999,\n",
       " 1.2999999999999998,\n",
       " 1.4999999999999998,\n",
       " 1.6999999999999997,\n",
       " 1.8999999999999997,\n",
       " 2.0999999999999996,\n",
       " 2.3,\n",
       " 2.4999999999999996,\n",
       " 2.6999999999999993,\n",
       " 2.8999999999999995,\n",
       " 3.0999999999999996,\n",
       " 3.2999999999999994,\n",
       " 3.499999999999999,\n",
       " 3.6999999999999993,\n",
       " 3.8999999999999995,\n",
       " 4.1,\n",
       " 4.299999999999999,\n",
       " 4.499999999999999,\n",
       " 4.699999999999999,\n",
       " 4.899999999999999,\n",
       " 5.099999999999999,\n",
       " 5.299999999999999,\n",
       " 5.499999999999999,\n",
       " 5.699999999999999,\n",
       " 5.899999999999999,\n",
       " 6.099999999999999,\n",
       " 6.299999999999999,\n",
       " 6.499999999999998,\n",
       " 6.699999999999998,\n",
       " 6.899999999999999,\n",
       " 7.099999999999999,\n",
       " 7.299999999999999,\n",
       " 7.499999999999998,\n",
       " 7.699999999999998,\n",
       " 7.899999999999999,\n",
       " 8.099999999999998,\n",
       " 8.299999999999997,\n",
       " 8.499999999999998,\n",
       " 8.699999999999998,\n",
       " 8.899999999999999,\n",
       " 9.099999999999998,\n",
       " 9.299999999999997,\n",
       " 9.499999999999998,\n",
       " 9.699999999999998,\n",
       " 9.899999999999999,\n",
       " 10.099999999999998,\n",
       " 10.299999999999997]"
      ]
     },
     "execution_count": 60,
     "metadata": {},
     "output_type": "execute_result"
    }
   ],
   "source": [
    "list(np.arange(0.5,10.4,0.2))"
   ]
  },
  {
   "cell_type": "code",
   "execution_count": 61,
   "id": "04d6dc96-0d6a-40d2-bc07-b41e03f2fd77",
   "metadata": {},
   "outputs": [
    {
     "data": {
      "text/plain": [
       "array([1.        , 1.21052632, 1.42105263, 1.63157895, 1.84210526,\n",
       "       2.05263158, 2.26315789, 2.47368421, 2.68421053, 2.89473684,\n",
       "       3.10526316, 3.31578947, 3.52631579, 3.73684211, 3.94736842,\n",
       "       4.15789474, 4.36842105, 4.57894737, 4.78947368, 5.        ])"
      ]
     },
     "execution_count": 61,
     "metadata": {},
     "output_type": "execute_result"
    }
   ],
   "source": [
    "np.linspace(1,5, 20)"
   ]
  },
  {
   "cell_type": "code",
   "execution_count": 64,
   "id": "34513eb9-c5f9-48d4-9a0a-c3fc52f66ea8",
   "metadata": {},
   "outputs": [
    {
     "data": {
      "text/plain": [
       "array([ 2.        ,  2.72158   ,  3.70349885,  5.0396842 ,  6.85795186,\n",
       "        9.33223232, 12.69920842, 17.28095582, 23.51575188, 32.        ])"
      ]
     },
     "execution_count": 64,
     "metadata": {},
     "output_type": "execute_result"
    }
   ],
   "source": [
    "np.logspace(1,5,10, base=2)"
   ]
  },
  {
   "cell_type": "code",
   "execution_count": 65,
   "id": "511f3646-1096-4f7e-bf3c-adf51b9b5a22",
   "metadata": {},
   "outputs": [
    {
     "data": {
      "text/plain": [
       "array([0., 0., 0., 0., 0.])"
      ]
     },
     "execution_count": 65,
     "metadata": {},
     "output_type": "execute_result"
    }
   ],
   "source": [
    "np.zeros(5)"
   ]
  },
  {
   "cell_type": "code",
   "execution_count": 66,
   "id": "58be8367-ade6-4219-9845-12b74125c3b8",
   "metadata": {},
   "outputs": [
    {
     "data": {
      "text/plain": [
       "array([[0., 0., 0., 0.],\n",
       "       [0., 0., 0., 0.],\n",
       "       [0., 0., 0., 0.]])"
      ]
     },
     "execution_count": 66,
     "metadata": {},
     "output_type": "execute_result"
    }
   ],
   "source": [
    "np.zeros((3,4))"
   ]
  },
  {
   "cell_type": "code",
   "execution_count": 68,
   "id": "3dc11e60-390a-499f-908f-a907cd3a4e2c",
   "metadata": {},
   "outputs": [
    {
     "data": {
      "text/plain": [
       "array([[[1., 1.],\n",
       "        [1., 1.],\n",
       "        [1., 1.],\n",
       "        [1., 1.]],\n",
       "\n",
       "       [[1., 1.],\n",
       "        [1., 1.],\n",
       "        [1., 1.],\n",
       "        [1., 1.]],\n",
       "\n",
       "       [[1., 1.],\n",
       "        [1., 1.],\n",
       "        [1., 1.],\n",
       "        [1., 1.]]])"
      ]
     },
     "execution_count": 68,
     "metadata": {},
     "output_type": "execute_result"
    }
   ],
   "source": [
    "np.ones((3,4,2))"
   ]
  },
  {
   "cell_type": "code",
   "execution_count": 69,
   "id": "c85a4b4e-69f0-4637-beb0-f1f9ec58f3ef",
   "metadata": {},
   "outputs": [
    {
     "data": {
      "text/plain": [
       "array([[[[1., 1., 1.],\n",
       "         [1., 1., 1.]],\n",
       "\n",
       "        [[1., 1., 1.],\n",
       "         [1., 1., 1.]],\n",
       "\n",
       "        [[1., 1., 1.],\n",
       "         [1., 1., 1.]],\n",
       "\n",
       "        [[1., 1., 1.],\n",
       "         [1., 1., 1.]]],\n",
       "\n",
       "\n",
       "       [[[1., 1., 1.],\n",
       "         [1., 1., 1.]],\n",
       "\n",
       "        [[1., 1., 1.],\n",
       "         [1., 1., 1.]],\n",
       "\n",
       "        [[1., 1., 1.],\n",
       "         [1., 1., 1.]],\n",
       "\n",
       "        [[1., 1., 1.],\n",
       "         [1., 1., 1.]]],\n",
       "\n",
       "\n",
       "       [[[1., 1., 1.],\n",
       "         [1., 1., 1.]],\n",
       "\n",
       "        [[1., 1., 1.],\n",
       "         [1., 1., 1.]],\n",
       "\n",
       "        [[1., 1., 1.],\n",
       "         [1., 1., 1.]],\n",
       "\n",
       "        [[1., 1., 1.],\n",
       "         [1., 1., 1.]]]])"
      ]
     },
     "execution_count": 69,
     "metadata": {},
     "output_type": "execute_result"
    }
   ],
   "source": [
    "np.ones((3,4,2,3))"
   ]
  },
  {
   "cell_type": "code",
   "execution_count": 70,
   "id": "2661bb7b-3af0-4aaa-beb2-aecc2634a4d1",
   "metadata": {},
   "outputs": [],
   "source": [
    "arr2=np.ones((3,5))"
   ]
  },
  {
   "cell_type": "code",
   "execution_count": 72,
   "id": "a205da92-cab8-445c-911f-dfc4bb2e44f4",
   "metadata": {},
   "outputs": [
    {
     "data": {
      "text/plain": [
       "array([[6., 6., 6., 6., 6.],\n",
       "       [6., 6., 6., 6., 6.],\n",
       "       [6., 6., 6., 6., 6.]])"
      ]
     },
     "execution_count": 72,
     "metadata": {},
     "output_type": "execute_result"
    }
   ],
   "source": [
    "arr2+5"
   ]
  },
  {
   "cell_type": "code",
   "execution_count": 74,
   "id": "e6140de8-182e-4e55-875b-34cf1f93d7bb",
   "metadata": {},
   "outputs": [],
   "source": [
    "arr3=np.eye(5)"
   ]
  },
  {
   "cell_type": "code",
   "execution_count": 75,
   "id": "44f696bf-34b7-448f-9c8d-83150ffe75d1",
   "metadata": {},
   "outputs": [
    {
     "data": {
      "text/plain": [
       "array([[1., 0., 0., 0., 0.],\n",
       "       [0., 1., 0., 0., 0.],\n",
       "       [0., 0., 1., 0., 0.],\n",
       "       [0., 0., 0., 1., 0.],\n",
       "       [0., 0., 0., 0., 1.]])"
      ]
     },
     "execution_count": 75,
     "metadata": {},
     "output_type": "execute_result"
    }
   ],
   "source": [
    "arr3"
   ]
  },
  {
   "cell_type": "code",
   "execution_count": 77,
   "id": "dba40daf-9a79-4302-a0ad-ef5bbff6d1f6",
   "metadata": {},
   "outputs": [],
   "source": [
    "import pandas as pd"
   ]
  },
  {
   "cell_type": "code",
   "execution_count": 78,
   "id": "44cc4045-b928-4662-9b9d-b4b15599cc5d",
   "metadata": {},
   "outputs": [
    {
     "data": {
      "text/html": [
       "<div>\n",
       "<style scoped>\n",
       "    .dataframe tbody tr th:only-of-type {\n",
       "        vertical-align: middle;\n",
       "    }\n",
       "\n",
       "    .dataframe tbody tr th {\n",
       "        vertical-align: top;\n",
       "    }\n",
       "\n",
       "    .dataframe thead th {\n",
       "        text-align: right;\n",
       "    }\n",
       "</style>\n",
       "<table border=\"1\" class=\"dataframe\">\n",
       "  <thead>\n",
       "    <tr style=\"text-align: right;\">\n",
       "      <th></th>\n",
       "      <th>0</th>\n",
       "      <th>1</th>\n",
       "      <th>2</th>\n",
       "      <th>3</th>\n",
       "      <th>4</th>\n",
       "    </tr>\n",
       "  </thead>\n",
       "  <tbody>\n",
       "    <tr>\n",
       "      <th>0</th>\n",
       "      <td>1.0</td>\n",
       "      <td>0.0</td>\n",
       "      <td>0.0</td>\n",
       "      <td>0.0</td>\n",
       "      <td>0.0</td>\n",
       "    </tr>\n",
       "    <tr>\n",
       "      <th>1</th>\n",
       "      <td>0.0</td>\n",
       "      <td>1.0</td>\n",
       "      <td>0.0</td>\n",
       "      <td>0.0</td>\n",
       "      <td>0.0</td>\n",
       "    </tr>\n",
       "    <tr>\n",
       "      <th>2</th>\n",
       "      <td>0.0</td>\n",
       "      <td>0.0</td>\n",
       "      <td>1.0</td>\n",
       "      <td>0.0</td>\n",
       "      <td>0.0</td>\n",
       "    </tr>\n",
       "    <tr>\n",
       "      <th>3</th>\n",
       "      <td>0.0</td>\n",
       "      <td>0.0</td>\n",
       "      <td>0.0</td>\n",
       "      <td>1.0</td>\n",
       "      <td>0.0</td>\n",
       "    </tr>\n",
       "    <tr>\n",
       "      <th>4</th>\n",
       "      <td>0.0</td>\n",
       "      <td>0.0</td>\n",
       "      <td>0.0</td>\n",
       "      <td>0.0</td>\n",
       "      <td>1.0</td>\n",
       "    </tr>\n",
       "  </tbody>\n",
       "</table>\n",
       "</div>"
      ],
      "text/plain": [
       "     0    1    2    3    4\n",
       "0  1.0  0.0  0.0  0.0  0.0\n",
       "1  0.0  1.0  0.0  0.0  0.0\n",
       "2  0.0  0.0  1.0  0.0  0.0\n",
       "3  0.0  0.0  0.0  1.0  0.0\n",
       "4  0.0  0.0  0.0  0.0  1.0"
      ]
     },
     "execution_count": 78,
     "metadata": {},
     "output_type": "execute_result"
    }
   ],
   "source": [
    "pd.DataFrame(arr3)"
   ]
  },
  {
   "cell_type": "code",
   "execution_count": 80,
   "id": "2085a122-ca3d-4d5d-8b02-92d4261c4d58",
   "metadata": {},
   "outputs": [
    {
     "data": {
      "text/plain": [
       "array([[0.43564231, 0.72429479, 0.25275861],\n",
       "       [0.40193664, 0.16079127, 0.90631264]])"
      ]
     },
     "execution_count": 80,
     "metadata": {},
     "output_type": "execute_result"
    }
   ],
   "source": [
    "np.random.rand(2,3)"
   ]
  },
  {
   "cell_type": "code",
   "execution_count": 81,
   "id": "5df252bd-64ce-4f41-b704-27bf8388a393",
   "metadata": {},
   "outputs": [
    {
     "data": {
      "text/plain": [
       "array([[ 0.25957835,  1.61244168, -0.66679023],\n",
       "       [-0.48309293,  0.28306664,  0.67059374]])"
      ]
     },
     "execution_count": 81,
     "metadata": {},
     "output_type": "execute_result"
    }
   ],
   "source": [
    "np.random.randn(2,3)"
   ]
  },
  {
   "cell_type": "code",
   "execution_count": 84,
   "id": "8ac17fe5-e2ed-481c-826e-b3c8d3ec035f",
   "metadata": {},
   "outputs": [],
   "source": [
    "arr4=np.random.randint(1,5,(3,4))"
   ]
  },
  {
   "cell_type": "code",
   "execution_count": 85,
   "id": "073f043f-7cc0-44cb-8c99-bc2f142f3c5c",
   "metadata": {},
   "outputs": [
    {
     "data": {
      "text/plain": [
       "array([[3, 1, 2, 2],\n",
       "       [1, 2, 1, 4],\n",
       "       [3, 2, 2, 1]])"
      ]
     },
     "execution_count": 85,
     "metadata": {},
     "output_type": "execute_result"
    }
   ],
   "source": [
    "arr4"
   ]
  },
  {
   "cell_type": "code",
   "execution_count": 86,
   "id": "8a6b35a6-b38e-4553-93c1-41ba652fde4e",
   "metadata": {},
   "outputs": [
    {
     "data": {
      "text/plain": [
       "12"
      ]
     },
     "execution_count": 86,
     "metadata": {},
     "output_type": "execute_result"
    }
   ],
   "source": [
    "arr4.size"
   ]
  },
  {
   "cell_type": "code",
   "execution_count": 88,
   "id": "1211d12e-c316-42e5-82f8-0263ef85ad7b",
   "metadata": {},
   "outputs": [
    {
     "data": {
      "text/plain": [
       "(3, 4)"
      ]
     },
     "execution_count": 88,
     "metadata": {},
     "output_type": "execute_result"
    }
   ],
   "source": [
    "arr4.shape"
   ]
  },
  {
   "cell_type": "code",
   "execution_count": 89,
   "id": "29536585-2083-41b6-a714-27c182384faa",
   "metadata": {},
   "outputs": [
    {
     "data": {
      "text/plain": [
       "array([[3, 1],\n",
       "       [2, 2],\n",
       "       [1, 2],\n",
       "       [1, 4],\n",
       "       [3, 2],\n",
       "       [2, 1]])"
      ]
     },
     "execution_count": 89,
     "metadata": {},
     "output_type": "execute_result"
    }
   ],
   "source": [
    "arr4.reshape(6,2)"
   ]
  },
  {
   "cell_type": "code",
   "execution_count": 90,
   "id": "972472cb-b052-4d55-a87a-33e0dbc944ed",
   "metadata": {},
   "outputs": [
    {
     "ename": "ValueError",
     "evalue": "cannot reshape array of size 12 into shape (6,3)",
     "output_type": "error",
     "traceback": [
      "\u001b[0;31m---------------------------------------------------------------------------\u001b[0m",
      "\u001b[0;31mValueError\u001b[0m                                Traceback (most recent call last)",
      "Cell \u001b[0;32mIn[90], line 1\u001b[0m\n\u001b[0;32m----> 1\u001b[0m arr4\u001b[38;5;241m.\u001b[39mreshape(\u001b[38;5;241m6\u001b[39m,\u001b[38;5;241m3\u001b[39m)\n",
      "\u001b[0;31mValueError\u001b[0m: cannot reshape array of size 12 into shape (6,3)"
     ]
    }
   ],
   "source": [
    "arr4.reshape(6,3)"
   ]
  },
  {
   "cell_type": "code",
   "execution_count": 91,
   "id": "c9d5adcf-cca1-4ef3-9adb-69fedec745b5",
   "metadata": {},
   "outputs": [],
   "source": [
    "arr5 = np.random.randint(1,10, (5,6))"
   ]
  },
  {
   "cell_type": "code",
   "execution_count": 92,
   "id": "790fffd8-20b8-425b-b1cf-4d7279afc48e",
   "metadata": {},
   "outputs": [
    {
     "data": {
      "text/plain": [
       "array([[5, 1, 7, 4, 3, 1],\n",
       "       [8, 9, 4, 2, 5, 3],\n",
       "       [3, 7, 2, 1, 3, 9],\n",
       "       [3, 2, 1, 1, 2, 9],\n",
       "       [3, 1, 7, 8, 8, 8]])"
      ]
     },
     "execution_count": 92,
     "metadata": {},
     "output_type": "execute_result"
    }
   ],
   "source": [
    "arr5"
   ]
  },
  {
   "cell_type": "code",
   "execution_count": 94,
   "id": "07271eac-0eb2-4066-afe3-c1fe11d17cf3",
   "metadata": {},
   "outputs": [
    {
     "data": {
      "text/plain": [
       "array([[False, False, False, False, False, False],\n",
       "       [False,  True, False, False, False, False],\n",
       "       [False, False, False, False, False,  True],\n",
       "       [False, False, False, False, False,  True],\n",
       "       [False, False, False, False, False, False]])"
      ]
     },
     "execution_count": 94,
     "metadata": {},
     "output_type": "execute_result"
    }
   ],
   "source": [
    "arr5 >8"
   ]
  },
  {
   "cell_type": "code",
   "execution_count": 95,
   "id": "98c6baa9-88f0-492d-a85a-5dbc7cdee830",
   "metadata": {},
   "outputs": [
    {
     "data": {
      "text/plain": [
       "array([[5, 1, 7, 4, 3, 1],\n",
       "       [8, 9, 4, 2, 5, 3],\n",
       "       [3, 7, 2, 1, 3, 9],\n",
       "       [3, 2, 1, 1, 2, 9],\n",
       "       [3, 1, 7, 8, 8, 8]])"
      ]
     },
     "execution_count": 95,
     "metadata": {},
     "output_type": "execute_result"
    }
   ],
   "source": [
    "arr5"
   ]
  },
  {
   "cell_type": "code",
   "execution_count": 98,
   "id": "2e676824-495e-4057-947b-c655842c7812",
   "metadata": {},
   "outputs": [
    {
     "data": {
      "text/plain": [
       "array([5, 1])"
      ]
     },
     "execution_count": 98,
     "metadata": {},
     "output_type": "execute_result"
    }
   ],
   "source": [
    "arr5[0,[0,1]]"
   ]
  },
  {
   "cell_type": "code",
   "execution_count": 99,
   "id": "19934efa-d7d1-42f8-b31a-3e2344242747",
   "metadata": {},
   "outputs": [
    {
     "data": {
      "text/plain": [
       "array([[2, 1],\n",
       "       [1, 1]])"
      ]
     },
     "execution_count": 99,
     "metadata": {},
     "output_type": "execute_result"
    }
   ],
   "source": [
    "arr5[2:4,[2,3]]"
   ]
  },
  {
   "cell_type": "code",
   "execution_count": 100,
   "id": "a1a2c150-f75b-4b8f-847b-9b1f3e4f795a",
   "metadata": {},
   "outputs": [],
   "source": [
    "arr1  = np.random.randint(1,3,(3,3))\n",
    "arr2  = np.random.randint(1,3,(3,3))"
   ]
  },
  {
   "cell_type": "code",
   "execution_count": 101,
   "id": "bedfe6b9-1d2b-43b1-868a-6737d438266d",
   "metadata": {},
   "outputs": [
    {
     "data": {
      "text/plain": [
       "array([[2, 1, 1],\n",
       "       [2, 1, 2],\n",
       "       [2, 1, 1]])"
      ]
     },
     "execution_count": 101,
     "metadata": {},
     "output_type": "execute_result"
    }
   ],
   "source": [
    "arr1"
   ]
  },
  {
   "cell_type": "code",
   "execution_count": 102,
   "id": "f55f404f-4204-419a-b9d0-6ac8445c82b1",
   "metadata": {},
   "outputs": [
    {
     "data": {
      "text/plain": [
       "array([[1, 2, 2],\n",
       "       [1, 2, 1],\n",
       "       [1, 2, 2]])"
      ]
     },
     "execution_count": 102,
     "metadata": {},
     "output_type": "execute_result"
    }
   ],
   "source": [
    "arr2"
   ]
  },
  {
   "cell_type": "code",
   "execution_count": 103,
   "id": "fbd5baf7-4fa0-42c2-a869-9337822f3eb8",
   "metadata": {},
   "outputs": [
    {
     "data": {
      "text/plain": [
       "array([[3, 3, 3],\n",
       "       [3, 3, 3],\n",
       "       [3, 3, 3]])"
      ]
     },
     "execution_count": 103,
     "metadata": {},
     "output_type": "execute_result"
    }
   ],
   "source": [
    "arr1+arr2"
   ]
  },
  {
   "cell_type": "code",
   "execution_count": 104,
   "id": "59bc061f-e17f-4e0b-8423-89498fb8bd96",
   "metadata": {},
   "outputs": [
    {
     "data": {
      "text/plain": [
       "array([[ 1, -1, -1],\n",
       "       [ 1, -1,  1],\n",
       "       [ 1, -1, -1]])"
      ]
     },
     "execution_count": 104,
     "metadata": {},
     "output_type": "execute_result"
    }
   ],
   "source": [
    "arr1-arr2"
   ]
  },
  {
   "cell_type": "code",
   "execution_count": 105,
   "id": "f6702108-8d8c-4b2f-b945-e11c515c9fe7",
   "metadata": {},
   "outputs": [
    {
     "data": {
      "text/plain": [
       "array([[2, 2, 2],\n",
       "       [2, 2, 2],\n",
       "       [2, 2, 2]])"
      ]
     },
     "execution_count": 105,
     "metadata": {},
     "output_type": "execute_result"
    }
   ],
   "source": [
    "arr1*arr2"
   ]
  },
  {
   "cell_type": "code",
   "execution_count": 106,
   "id": "4e896bfe-9c40-4d6d-8a5f-e199e36dd630",
   "metadata": {},
   "outputs": [
    {
     "data": {
      "text/plain": [
       "array([[ 4,  8,  7],\n",
       "       [ 5, 10,  9],\n",
       "       [ 4,  8,  7]])"
      ]
     },
     "execution_count": 106,
     "metadata": {},
     "output_type": "execute_result"
    }
   ],
   "source": [
    "arr1@arr2"
   ]
  },
  {
   "cell_type": "markdown",
   "id": "674eac22-b388-4ddf-8cb2-f480a9f3a338",
   "metadata": {},
   "source": [
    "### Broadcasting in numpy"
   ]
  },
  {
   "cell_type": "code",
   "execution_count": 108,
   "id": "1e6577fa-889b-42ae-9be0-70fa2b549c90",
   "metadata": {},
   "outputs": [],
   "source": [
    "arr = np.zeros((3,4))"
   ]
  },
  {
   "cell_type": "code",
   "execution_count": 109,
   "id": "6f5fd9f6-dff2-46f1-9cf6-5f3c6b84f9d4",
   "metadata": {},
   "outputs": [
    {
     "data": {
      "text/plain": [
       "array([[0., 0., 0., 0.],\n",
       "       [0., 0., 0., 0.],\n",
       "       [0., 0., 0., 0.]])"
      ]
     },
     "execution_count": 109,
     "metadata": {},
     "output_type": "execute_result"
    }
   ],
   "source": [
    "arr"
   ]
  },
  {
   "cell_type": "code",
   "execution_count": 110,
   "id": "b7f3dc6b-dc69-49de-8cbb-dcbada4a5fa7",
   "metadata": {},
   "outputs": [
    {
     "data": {
      "text/plain": [
       "array([[5., 5., 5., 5.],\n",
       "       [5., 5., 5., 5.],\n",
       "       [5., 5., 5., 5.]])"
      ]
     },
     "execution_count": 110,
     "metadata": {},
     "output_type": "execute_result"
    }
   ],
   "source": [
    "arr+5"
   ]
  },
  {
   "cell_type": "code",
   "execution_count": 111,
   "id": "a2e78c05-731d-4d51-93b0-81cf2229455b",
   "metadata": {},
   "outputs": [],
   "source": [
    "a = np.array([1,2,3,4])"
   ]
  },
  {
   "cell_type": "code",
   "execution_count": 112,
   "id": "e1422656-517b-401d-b1db-96ebf12e7dbb",
   "metadata": {},
   "outputs": [
    {
     "data": {
      "text/plain": [
       "array([[1., 2., 3., 4.],\n",
       "       [1., 2., 3., 4.],\n",
       "       [1., 2., 3., 4.]])"
      ]
     },
     "execution_count": 112,
     "metadata": {},
     "output_type": "execute_result"
    }
   ],
   "source": [
    "arr+a"
   ]
  },
  {
   "cell_type": "code",
   "execution_count": 116,
   "id": "5a794948-98c9-48a6-948d-9cb6707661e3",
   "metadata": {},
   "outputs": [],
   "source": [
    "b = np.array([[3,4,5]])"
   ]
  },
  {
   "cell_type": "code",
   "execution_count": 119,
   "id": "3602b6e2-0ffc-4b1f-ba53-5a6f5a0a6d57",
   "metadata": {},
   "outputs": [],
   "source": [
    "arr1 = arr+b.T"
   ]
  },
  {
   "cell_type": "code",
   "execution_count": 118,
   "id": "4c72e7cd-a9a9-427c-a387-cc9a5e3a3024",
   "metadata": {},
   "outputs": [
    {
     "data": {
      "text/plain": [
       "array([[3],\n",
       "       [4],\n",
       "       [5]])"
      ]
     },
     "execution_count": 118,
     "metadata": {},
     "output_type": "execute_result"
    }
   ],
   "source": [
    "b.T"
   ]
  },
  {
   "cell_type": "code",
   "execution_count": 120,
   "id": "96277add-65ff-4ddb-9e90-d0654c33af42",
   "metadata": {},
   "outputs": [
    {
     "data": {
      "text/plain": [
       "array([[1.73205081, 1.73205081, 1.73205081, 1.73205081],\n",
       "       [2.        , 2.        , 2.        , 2.        ],\n",
       "       [2.23606798, 2.23606798, 2.23606798, 2.23606798]])"
      ]
     },
     "execution_count": 120,
     "metadata": {},
     "output_type": "execute_result"
    }
   ],
   "source": [
    "np.sqrt(arr1)"
   ]
  },
  {
   "cell_type": "code",
   "execution_count": 121,
   "id": "2b2dfce2-fb72-4895-aa3c-d8bb26b61548",
   "metadata": {},
   "outputs": [
    {
     "data": {
      "text/plain": [
       "array([[0.47712125, 0.47712125, 0.47712125, 0.47712125],\n",
       "       [0.60205999, 0.60205999, 0.60205999, 0.60205999],\n",
       "       [0.69897   , 0.69897   , 0.69897   , 0.69897   ]])"
      ]
     },
     "execution_count": 121,
     "metadata": {},
     "output_type": "execute_result"
    }
   ],
   "source": [
    "np.log10(arr1)"
   ]
  },
  {
   "cell_type": "code",
   "execution_count": 122,
   "id": "e18a5884-4be8-42c9-96cb-41f19467fcf3",
   "metadata": {},
   "outputs": [
    {
     "data": {
      "text/plain": [
       "array([[ 20.08553692,  20.08553692,  20.08553692,  20.08553692],\n",
       "       [ 54.59815003,  54.59815003,  54.59815003,  54.59815003],\n",
       "       [148.4131591 , 148.4131591 , 148.4131591 , 148.4131591 ]])"
      ]
     },
     "execution_count": 122,
     "metadata": {},
     "output_type": "execute_result"
    }
   ],
   "source": [
    "np.exp(arr1)"
   ]
  },
  {
   "cell_type": "code",
   "execution_count": 124,
   "id": "86300d69-a099-44bb-b32b-ec29a9b002ad",
   "metadata": {},
   "outputs": [
    {
     "data": {
      "text/plain": [
       "3.0"
      ]
     },
     "execution_count": 124,
     "metadata": {},
     "output_type": "execute_result"
    }
   ],
   "source": [
    "np.min(arr1)"
   ]
  },
  {
   "cell_type": "code",
   "execution_count": 125,
   "id": "36ae3ef4-d0fe-4efc-a31f-1ea87a82bfcf",
   "metadata": {},
   "outputs": [
    {
     "data": {
      "text/plain": [
       "5.0"
      ]
     },
     "execution_count": 125,
     "metadata": {},
     "output_type": "execute_result"
    }
   ],
   "source": [
    "np.max(arr1)"
   ]
  },
  {
   "cell_type": "markdown",
   "id": "c1eabb42-791a-4b17-b6b4-7c8f88c37f76",
   "metadata": {},
   "source": [
    "### Array manipulation"
   ]
  },
  {
   "cell_type": "code",
   "execution_count": 126,
   "id": "7b337e0d-ca03-4646-b968-4e35ce329c70",
   "metadata": {},
   "outputs": [],
   "source": [
    "arr = np.random.randint(1,10,(4,4))"
   ]
  },
  {
   "cell_type": "code",
   "execution_count": 127,
   "id": "04e2660c-b092-484d-8e2c-ba8593e78b16",
   "metadata": {},
   "outputs": [
    {
     "data": {
      "text/plain": [
       "array([[5, 2, 3, 6],\n",
       "       [3, 2, 9, 3],\n",
       "       [6, 4, 7, 3],\n",
       "       [3, 4, 8, 2]])"
      ]
     },
     "execution_count": 127,
     "metadata": {},
     "output_type": "execute_result"
    }
   ],
   "source": [
    "arr"
   ]
  },
  {
   "cell_type": "code",
   "execution_count": 128,
   "id": "52189ccb-7213-4d4d-aa39-164d35860e16",
   "metadata": {},
   "outputs": [
    {
     "data": {
      "text/plain": [
       "array([[5, 2],\n",
       "       [3, 6],\n",
       "       [3, 2],\n",
       "       [9, 3],\n",
       "       [6, 4],\n",
       "       [7, 3],\n",
       "       [3, 4],\n",
       "       [8, 2]])"
      ]
     },
     "execution_count": 128,
     "metadata": {},
     "output_type": "execute_result"
    }
   ],
   "source": [
    "arr.reshape(8,2)"
   ]
  },
  {
   "cell_type": "code",
   "execution_count": 129,
   "id": "d78b0f36-f6fe-46b2-82a7-89ef2fe7c40d",
   "metadata": {},
   "outputs": [
    {
     "data": {
      "text/plain": [
       "array([[5, 3, 6, 3],\n",
       "       [2, 2, 4, 4],\n",
       "       [3, 9, 7, 8],\n",
       "       [6, 3, 3, 2]])"
      ]
     },
     "execution_count": 129,
     "metadata": {},
     "output_type": "execute_result"
    }
   ],
   "source": [
    "arr.T"
   ]
  },
  {
   "cell_type": "code",
   "execution_count": 130,
   "id": "62f671a9-abfa-4a89-b52f-ef980919419b",
   "metadata": {},
   "outputs": [
    {
     "data": {
      "text/plain": [
       "array([5, 2, 3, 6, 3, 2, 9, 3, 6, 4, 7, 3, 3, 4, 8, 2])"
      ]
     },
     "execution_count": 130,
     "metadata": {},
     "output_type": "execute_result"
    }
   ],
   "source": [
    "arr.flatten()"
   ]
  },
  {
   "cell_type": "code",
   "execution_count": 131,
   "id": "96f06fa8-d179-4578-af9a-a2787683c1b9",
   "metadata": {},
   "outputs": [
    {
     "data": {
      "text/plain": [
       "array([[5, 2, 3, 6],\n",
       "       [3, 2, 9, 3],\n",
       "       [6, 4, 7, 3],\n",
       "       [3, 4, 8, 2]])"
      ]
     },
     "execution_count": 131,
     "metadata": {},
     "output_type": "execute_result"
    }
   ],
   "source": [
    "arr"
   ]
  },
  {
   "cell_type": "code",
   "execution_count": 133,
   "id": "a208c608-e0c8-4935-8f38-ec2c885e412e",
   "metadata": {},
   "outputs": [
    {
     "data": {
      "text/plain": [
       "array([[[5, 2, 3, 6]],\n",
       "\n",
       "       [[3, 2, 9, 3]],\n",
       "\n",
       "       [[6, 4, 7, 3]],\n",
       "\n",
       "       [[3, 4, 8, 2]]])"
      ]
     },
     "execution_count": 133,
     "metadata": {},
     "output_type": "execute_result"
    }
   ],
   "source": [
    "np.expand_dims(arr,axis=1)"
   ]
  },
  {
   "cell_type": "code",
   "execution_count": 134,
   "id": "9997996a-6d69-4464-bb55-8ba9b5329556",
   "metadata": {},
   "outputs": [
    {
     "data": {
      "text/plain": [
       "array([[[5, 2, 3, 6],\n",
       "        [3, 2, 9, 3],\n",
       "        [6, 4, 7, 3],\n",
       "        [3, 4, 8, 2]]])"
      ]
     },
     "execution_count": 134,
     "metadata": {},
     "output_type": "execute_result"
    }
   ],
   "source": [
    "np.expand_dims(arr,axis=0)"
   ]
  },
  {
   "cell_type": "code",
   "execution_count": 135,
   "id": "767ba516-6133-4dbb-b560-d720171f4070",
   "metadata": {},
   "outputs": [],
   "source": [
    "data = np.array([[1],[2],[3]])"
   ]
  },
  {
   "cell_type": "code",
   "execution_count": 136,
   "id": "e384fa18-43b1-42d8-9ef7-0a809563806b",
   "metadata": {},
   "outputs": [
    {
     "data": {
      "text/plain": [
       "array([1, 2, 3])"
      ]
     },
     "execution_count": 136,
     "metadata": {},
     "output_type": "execute_result"
    }
   ],
   "source": [
    "np.squeeze(data)"
   ]
  },
  {
   "cell_type": "code",
   "execution_count": 137,
   "id": "8f547bc0-6323-40b4-8cad-983d815323d5",
   "metadata": {},
   "outputs": [
    {
     "data": {
      "text/plain": [
       "array([1, 1, 2, 2, 3, 3])"
      ]
     },
     "execution_count": 137,
     "metadata": {},
     "output_type": "execute_result"
    }
   ],
   "source": [
    "np.repeat(data,2)"
   ]
  },
  {
   "cell_type": "code",
   "execution_count": 138,
   "id": "29e8c638-8aba-490b-bd28-1cbab2ddbd29",
   "metadata": {},
   "outputs": [
    {
     "data": {
      "text/plain": [
       "array([1, 1, 1, 2, 2, 2, 3, 3, 3])"
      ]
     },
     "execution_count": 138,
     "metadata": {},
     "output_type": "execute_result"
    }
   ],
   "source": [
    "np.repeat(data,3)"
   ]
  },
  {
   "cell_type": "code",
   "execution_count": 140,
   "id": "61d79e31-c88a-44ca-b4dc-3ac53f138348",
   "metadata": {},
   "outputs": [
    {
     "data": {
      "text/plain": [
       "array([[2],\n",
       "       [3],\n",
       "       [1]])"
      ]
     },
     "execution_count": 140,
     "metadata": {},
     "output_type": "execute_result"
    }
   ],
   "source": [
    "np.roll(data,2)"
   ]
  },
  {
   "cell_type": "code",
   "execution_count": 141,
   "id": "3904317f-56af-4925-883b-71cc8798e299",
   "metadata": {},
   "outputs": [
    {
     "data": {
      "text/plain": [
       "array([[1, 0, 0, 0],\n",
       "       [0, 2, 0, 0],\n",
       "       [0, 0, 3, 0],\n",
       "       [0, 0, 0, 4]])"
      ]
     },
     "execution_count": 141,
     "metadata": {},
     "output_type": "execute_result"
    }
   ],
   "source": [
    "np.diag(np.array([1,2,3,4]))"
   ]
  },
  {
   "cell_type": "markdown",
   "id": "4ed08d64-4a2a-4c4c-b0fe-6defae20a616",
   "metadata": {},
   "source": [
    "### Numpy Binary Operations"
   ]
  },
  {
   "cell_type": "code",
   "execution_count": 145,
   "id": "e3de7ec6-0ec9-43b5-82fb-a168af2c3c6b",
   "metadata": {},
   "outputs": [],
   "source": [
    "arr1 = np.random.randint(1,10,(3,4))\n",
    "arr2 = np.random.randint(1,10,(3,4))"
   ]
  },
  {
   "cell_type": "code",
   "execution_count": 143,
   "id": "20e0fb41-8626-448d-846f-4584bea4b385",
   "metadata": {},
   "outputs": [
    {
     "data": {
      "text/plain": [
       "array([[1, 3, 4, 8],\n",
       "       [1, 6, 1, 7],\n",
       "       [3, 3, 2, 3]])"
      ]
     },
     "execution_count": 143,
     "metadata": {},
     "output_type": "execute_result"
    }
   ],
   "source": [
    "arr1"
   ]
  },
  {
   "cell_type": "code",
   "execution_count": 146,
   "id": "f8ded09e-75f9-49f1-8310-79b4f65b0ee7",
   "metadata": {},
   "outputs": [
    {
     "data": {
      "text/plain": [
       "array([[6, 9, 1, 3],\n",
       "       [8, 6, 5, 6],\n",
       "       [7, 5, 4, 9]])"
      ]
     },
     "execution_count": 146,
     "metadata": {},
     "output_type": "execute_result"
    }
   ],
   "source": [
    "arr2"
   ]
  },
  {
   "cell_type": "code",
   "execution_count": 147,
   "id": "f2b3c3b1-11b6-4175-8136-c90d76e0afd9",
   "metadata": {},
   "outputs": [
    {
     "data": {
      "text/plain": [
       "array([[13, 15, 10,  9],\n",
       "       [16,  8,  7, 10],\n",
       "       [11, 13,  9, 16]])"
      ]
     },
     "execution_count": 147,
     "metadata": {},
     "output_type": "execute_result"
    }
   ],
   "source": [
    "arr1+arr2"
   ]
  },
  {
   "cell_type": "code",
   "execution_count": 148,
   "id": "86e00fc1-8555-4807-9dd4-652db8d34dcb",
   "metadata": {},
   "outputs": [
    {
     "data": {
      "text/plain": [
       "array([[42, 54,  9, 18],\n",
       "       [64, 12, 10, 24],\n",
       "       [28, 40, 20, 63]])"
      ]
     },
     "execution_count": 148,
     "metadata": {},
     "output_type": "execute_result"
    }
   ],
   "source": [
    "arr1*arr2"
   ]
  },
  {
   "cell_type": "code",
   "execution_count": 149,
   "id": "9fd58d08-0184-4d3c-9de1-a3573388f361",
   "metadata": {},
   "outputs": [
    {
     "data": {
      "text/plain": [
       "array([[1.16666667, 0.66666667, 9.        , 2.        ],\n",
       "       [1.        , 0.33333333, 0.4       , 0.66666667],\n",
       "       [0.57142857, 1.6       , 1.25      , 0.77777778]])"
      ]
     },
     "execution_count": 149,
     "metadata": {},
     "output_type": "execute_result"
    }
   ],
   "source": [
    "arr1/arr2"
   ]
  },
  {
   "cell_type": "code",
   "execution_count": 150,
   "id": "4419f61c-dbf3-444f-a570-b85b0393d8cd",
   "metadata": {},
   "outputs": [
    {
     "data": {
      "text/plain": [
       "array([[ 1, -3,  8,  3],\n",
       "       [ 0, -4, -3, -2],\n",
       "       [-3,  3,  1, -2]])"
      ]
     },
     "execution_count": 150,
     "metadata": {},
     "output_type": "execute_result"
    }
   ],
   "source": [
    "arr1-arr2"
   ]
  },
  {
   "cell_type": "code",
   "execution_count": 151,
   "id": "aec3e315-49e3-483d-b3db-118fd79741aa",
   "metadata": {},
   "outputs": [
    {
     "data": {
      "text/plain": [
       "array([[  117649, 10077696,        9,      216],\n",
       "       [16777216,       64,       32,     4096],\n",
       "       [   16384,    32768,      625, 40353607]])"
      ]
     },
     "execution_count": 151,
     "metadata": {},
     "output_type": "execute_result"
    }
   ],
   "source": [
    "arr1**arr2"
   ]
  },
  {
   "cell_type": "code",
   "execution_count": 152,
   "id": "9c4fd168-754d-473f-87e8-80bcef48f6cc",
   "metadata": {},
   "outputs": [
    {
     "data": {
      "text/plain": [
       "array([[ -8,  -7, -10,  -7],\n",
       "       [ -9,  -3,  -3,  -5],\n",
       "       [ -5,  -9,  -6,  -8]])"
      ]
     },
     "execution_count": 152,
     "metadata": {},
     "output_type": "execute_result"
    }
   ],
   "source": [
    "~arr1"
   ]
  },
  {
   "cell_type": "markdown",
   "id": "f227f817-0c2f-468e-bf0b-fbcb48281953",
   "metadata": {},
   "source": [
    "### Numpy String Operations"
   ]
  },
  {
   "cell_type": "code",
   "execution_count": 153,
   "id": "e3c10d09-27fa-4377-ab7a-f1697e6ca1e4",
   "metadata": {},
   "outputs": [],
   "source": [
    "arr  = np.array(['sudh','kumar'])"
   ]
  },
  {
   "cell_type": "code",
   "execution_count": 154,
   "id": "eb9eecb7-03e2-4a82-808a-afc6a4a914a9",
   "metadata": {},
   "outputs": [
    {
     "data": {
      "text/plain": [
       "array(['sudh', 'kumar'], dtype='<U5')"
      ]
     },
     "execution_count": 154,
     "metadata": {},
     "output_type": "execute_result"
    }
   ],
   "source": [
    "arr"
   ]
  },
  {
   "cell_type": "code",
   "execution_count": 155,
   "id": "1ccbcdee-9190-497c-9a8b-1aec77c924e1",
   "metadata": {},
   "outputs": [
    {
     "data": {
      "text/plain": [
       "array(['SUDH', 'KUMAR'], dtype='<U5')"
      ]
     },
     "execution_count": 155,
     "metadata": {},
     "output_type": "execute_result"
    }
   ],
   "source": [
    "np.char.upper(arr)"
   ]
  },
  {
   "cell_type": "code",
   "execution_count": 156,
   "id": "a5a2c187-d4fd-4097-8ad2-0cd1aaf00b9d",
   "metadata": {},
   "outputs": [
    {
     "data": {
      "text/plain": [
       "array(['Sudh', 'Kumar'], dtype='<U5')"
      ]
     },
     "execution_count": 156,
     "metadata": {},
     "output_type": "execute_result"
    }
   ],
   "source": [
    "np.char.capitalize(arr)"
   ]
  },
  {
   "cell_type": "code",
   "execution_count": 157,
   "id": "7658398c-c9ca-4986-9dab-35be219223c6",
   "metadata": {},
   "outputs": [
    {
     "data": {
      "text/plain": [
       "array(['Sudh', 'Kumar'], dtype='<U5')"
      ]
     },
     "execution_count": 157,
     "metadata": {},
     "output_type": "execute_result"
    }
   ],
   "source": [
    "np.char.title(arr)"
   ]
  },
  {
   "cell_type": "markdown",
   "id": "42c05935-77a1-4711-8460-302e2f012a44",
   "metadata": {},
   "source": [
    "### Numpy Mathematical Operations"
   ]
  },
  {
   "cell_type": "code",
   "execution_count": 158,
   "id": "0d471647-8764-4165-bcbc-c27678da656f",
   "metadata": {},
   "outputs": [
    {
     "data": {
      "text/plain": [
       "array([[7, 6, 9, 6],\n",
       "       [8, 2, 2, 4],\n",
       "       [4, 8, 5, 7]])"
      ]
     },
     "execution_count": 158,
     "metadata": {},
     "output_type": "execute_result"
    }
   ],
   "source": [
    "arr1"
   ]
  },
  {
   "cell_type": "code",
   "execution_count": 159,
   "id": "16f17856-4e65-4f94-9c03-29f6867a0985",
   "metadata": {},
   "outputs": [
    {
     "data": {
      "text/plain": [
       "array([[ 0.6569866 , -0.2794155 ,  0.41211849, -0.2794155 ],\n",
       "       [ 0.98935825,  0.90929743,  0.90929743, -0.7568025 ],\n",
       "       [-0.7568025 ,  0.98935825, -0.95892427,  0.6569866 ]])"
      ]
     },
     "execution_count": 159,
     "metadata": {},
     "output_type": "execute_result"
    }
   ],
   "source": [
    "np.sin(arr1)"
   ]
  },
  {
   "cell_type": "code",
   "execution_count": 160,
   "id": "7724feed-6990-4ec0-9ead-0c161d9168c4",
   "metadata": {},
   "outputs": [
    {
     "data": {
      "text/plain": [
       "array([[ 0.75390225,  0.96017029, -0.91113026,  0.96017029],\n",
       "       [-0.14550003, -0.41614684, -0.41614684, -0.65364362],\n",
       "       [-0.65364362, -0.14550003,  0.28366219,  0.75390225]])"
      ]
     },
     "execution_count": 160,
     "metadata": {},
     "output_type": "execute_result"
    }
   ],
   "source": [
    "np.cos(arr1)"
   ]
  },
  {
   "cell_type": "code",
   "execution_count": 161,
   "id": "d7b4ba7d-376f-4bc2-9f7b-9b9fcd3366f9",
   "metadata": {},
   "outputs": [
    {
     "data": {
      "text/plain": [
       "array([[ 0.87144798, -0.29100619, -0.45231566, -0.29100619],\n",
       "       [-6.79971146, -2.18503986, -2.18503986,  1.15782128],\n",
       "       [ 1.15782128, -6.79971146, -3.38051501,  0.87144798]])"
      ]
     },
     "execution_count": 161,
     "metadata": {},
     "output_type": "execute_result"
    }
   ],
   "source": [
    "np.tan(arr1)"
   ]
  },
  {
   "cell_type": "code",
   "execution_count": 162,
   "id": "6646f78a-0ce4-483c-8538-81182559b8b7",
   "metadata": {},
   "outputs": [
    {
     "data": {
      "text/plain": [
       "array([[1.09663316e+03, 4.03428793e+02, 8.10308393e+03, 4.03428793e+02],\n",
       "       [2.98095799e+03, 7.38905610e+00, 7.38905610e+00, 5.45981500e+01],\n",
       "       [5.45981500e+01, 2.98095799e+03, 1.48413159e+02, 1.09663316e+03]])"
      ]
     },
     "execution_count": 162,
     "metadata": {},
     "output_type": "execute_result"
    }
   ],
   "source": [
    "np.exp(arr1)"
   ]
  },
  {
   "cell_type": "code",
   "execution_count": 163,
   "id": "427280ba-0946-4a75-a9ff-d3fd5dc27918",
   "metadata": {},
   "outputs": [
    {
     "data": {
      "text/plain": [
       "array([[49, 36, 81, 36],\n",
       "       [64,  4,  4, 16],\n",
       "       [16, 64, 25, 49]])"
      ]
     },
     "execution_count": 163,
     "metadata": {},
     "output_type": "execute_result"
    }
   ],
   "source": [
    "np.power(arr1,2)"
   ]
  },
  {
   "cell_type": "code",
   "execution_count": 165,
   "id": "3f5d9ec1-3df9-46d8-953d-ecfd34b8945b",
   "metadata": {},
   "outputs": [
    {
     "data": {
      "text/plain": [
       "5.666666666666667"
      ]
     },
     "execution_count": 165,
     "metadata": {},
     "output_type": "execute_result"
    }
   ],
   "source": [
    "np.mean(arr1)"
   ]
  },
  {
   "cell_type": "code",
   "execution_count": 166,
   "id": "3a3cc315-d376-4e35-804c-41def26535a9",
   "metadata": {},
   "outputs": [
    {
     "data": {
      "text/plain": [
       "6.0"
      ]
     },
     "execution_count": 166,
     "metadata": {},
     "output_type": "execute_result"
    }
   ],
   "source": [
    "np.median(arr1)"
   ]
  },
  {
   "cell_type": "code",
   "execution_count": 167,
   "id": "0eb6377b-01f6-4ad8-a340-7322c79ff7a1",
   "metadata": {},
   "outputs": [
    {
     "data": {
      "text/plain": [
       "2.2110831935702664"
      ]
     },
     "execution_count": 167,
     "metadata": {},
     "output_type": "execute_result"
    }
   ],
   "source": [
    "np.std(arr1)"
   ]
  },
  {
   "cell_type": "code",
   "execution_count": 168,
   "id": "a84e2f0c-5ea8-487d-82dc-c4f897e7c758",
   "metadata": {},
   "outputs": [
    {
     "data": {
      "text/plain": [
       "4.888888888888888"
      ]
     },
     "execution_count": 168,
     "metadata": {},
     "output_type": "execute_result"
    }
   ],
   "source": [
    "np.var(arr1)"
   ]
  },
  {
   "cell_type": "code",
   "execution_count": 169,
   "id": "26851916-6969-439b-b964-a4136f150a80",
   "metadata": {},
   "outputs": [
    {
     "data": {
      "text/plain": [
       "2"
      ]
     },
     "execution_count": 169,
     "metadata": {},
     "output_type": "execute_result"
    }
   ],
   "source": [
    "np.min(arr1)"
   ]
  },
  {
   "cell_type": "code",
   "execution_count": 170,
   "id": "8d1c6567-d381-4735-943e-167112e12b7a",
   "metadata": {},
   "outputs": [
    {
     "data": {
      "text/plain": [
       "9"
      ]
     },
     "execution_count": 170,
     "metadata": {},
     "output_type": "execute_result"
    }
   ],
   "source": [
    "np.max(arr1)"
   ]
  },
  {
   "cell_type": "markdown",
   "id": "39fb512b-5412-4776-8b06-0b7e77ec4efb",
   "metadata": {},
   "source": [
    "### Sort, Search & Counting Functions"
   ]
  },
  {
   "cell_type": "code",
   "execution_count": 174,
   "id": "12a5929c-3977-415d-8f05-12af251cc31c",
   "metadata": {},
   "outputs": [],
   "source": [
    "arr= np.array([4,8,6,21,47,5,9])"
   ]
  },
  {
   "cell_type": "code",
   "execution_count": 175,
   "id": "94d1bfa7-50e7-421f-bfcb-f9ac2e320f40",
   "metadata": {},
   "outputs": [
    {
     "data": {
      "text/plain": [
       "array([ 4,  5,  6,  8,  9, 21, 47])"
      ]
     },
     "execution_count": 175,
     "metadata": {},
     "output_type": "execute_result"
    }
   ],
   "source": [
    "np.sort(arr)"
   ]
  },
  {
   "cell_type": "code",
   "execution_count": 178,
   "id": "1285b55b-43c8-4932-adfb-656f4f8a356d",
   "metadata": {},
   "outputs": [
    {
     "data": {
      "text/plain": [
       "3"
      ]
     },
     "execution_count": 178,
     "metadata": {},
     "output_type": "execute_result"
    }
   ],
   "source": [
    "np.searchsorted(arr,10)"
   ]
  },
  {
   "cell_type": "code",
   "execution_count": 180,
   "id": "0a51bd95-00e4-4c19-a927-39cfd764a173",
   "metadata": {},
   "outputs": [],
   "source": [
    "arr1 = np.array([0,45,0,1,1,1,1,1,1,1,1,0,0,0,0,241])"
   ]
  },
  {
   "cell_type": "code",
   "execution_count": 181,
   "id": "122ebca3-9969-4ec7-af1c-194721b204d4",
   "metadata": {},
   "outputs": [
    {
     "data": {
      "text/plain": [
       "10"
      ]
     },
     "execution_count": 181,
     "metadata": {},
     "output_type": "execute_result"
    }
   ],
   "source": [
    "np.count_nonzero(arr1)"
   ]
  },
  {
   "cell_type": "code",
   "execution_count": 182,
   "id": "83835b51-9bc0-475a-9909-b697813e4d09",
   "metadata": {},
   "outputs": [
    {
     "data": {
      "text/plain": [
       "(array([ 1,  3,  4,  5,  6,  7,  8,  9, 10, 15]),)"
      ]
     },
     "execution_count": 182,
     "metadata": {},
     "output_type": "execute_result"
    }
   ],
   "source": [
    "np.where(arr1>0)"
   ]
  },
  {
   "cell_type": "code",
   "execution_count": 183,
   "id": "0e046add-08f9-4901-a82d-30fc88a06017",
   "metadata": {},
   "outputs": [
    {
     "data": {
      "text/plain": [
       "array([ 45, 241])"
      ]
     },
     "execution_count": 183,
     "metadata": {},
     "output_type": "execute_result"
    }
   ],
   "source": [
    "np.extract(arr1>2,arr1)"
   ]
  },
  {
   "cell_type": "markdown",
   "id": "4a304566-4c56-45ff-99c1-7c58c7e8c6b4",
   "metadata": {},
   "source": [
    "### Byte Swapping"
   ]
  },
  {
   "cell_type": "code",
   "execution_count": 184,
   "id": "10d5258a-9f87-40cb-bec4-8bdf76718b4a",
   "metadata": {},
   "outputs": [
    {
     "data": {
      "text/plain": [
       "array([ 4,  8,  6, 21, 47,  5,  9])"
      ]
     },
     "execution_count": 184,
     "metadata": {},
     "output_type": "execute_result"
    }
   ],
   "source": [
    "arr"
   ]
  },
  {
   "cell_type": "code",
   "execution_count": 190,
   "id": "e712d988-565e-462d-95d5-ced374fe2ca1",
   "metadata": {},
   "outputs": [
    {
     "data": {
      "text/plain": [
       "array([ 4,  8,  6, 21, 47,  5,  9])"
      ]
     },
     "execution_count": 190,
     "metadata": {},
     "output_type": "execute_result"
    }
   ],
   "source": [
    "arr.byteswap()"
   ]
  },
  {
   "cell_type": "code",
   "execution_count": 191,
   "id": "581b723f-8efc-4119-99ab-cd5711b10842",
   "metadata": {},
   "outputs": [
    {
     "data": {
      "text/plain": [
       "array([ 288230376151711744,  576460752303423488,  432345564227567616,\n",
       "       1513209474796486656, 3386706919782612992,  360287970189639680,\n",
       "        648518346341351424])"
      ]
     },
     "execution_count": 191,
     "metadata": {},
     "output_type": "execute_result"
    }
   ],
   "source": [
    "arr"
   ]
  },
  {
   "cell_type": "code",
   "execution_count": null,
   "id": "c173eaeb-a2fb-4aad-aa3e-815f33239845",
   "metadata": {},
   "outputs": [],
   "source": []
  }
 ],
 "metadata": {
  "kernelspec": {
   "display_name": "Python 3 (ipykernel)",
   "language": "python",
   "name": "python3"
  },
  "language_info": {
   "codemirror_mode": {
    "name": "ipython",
    "version": 3
   },
   "file_extension": ".py",
   "mimetype": "text/x-python",
   "name": "python",
   "nbconvert_exporter": "python",
   "pygments_lexer": "ipython3",
   "version": "3.11.7"
  }
 },
 "nbformat": 4,
 "nbformat_minor": 5
}
