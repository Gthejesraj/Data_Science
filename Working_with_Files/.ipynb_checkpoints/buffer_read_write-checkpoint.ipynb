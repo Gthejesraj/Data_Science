{
 "cells": [
  {
   "cell_type": "code",
   "execution_count": 1,
   "id": "bae2105e-889d-4aa9-bc12-8cae3a1bf01f",
   "metadata": {},
   "outputs": [],
   "source": [
    "import io"
   ]
  },
  {
   "cell_type": "code",
   "execution_count": 4,
   "id": "4b5d4193-0f6a-434f-a9b9-0a04b3b88318",
   "metadata": {},
   "outputs": [],
   "source": [
    "with open(\"test.txt\",'wb') as f:\n",
    "    file=io.BufferedWriter(f)\n",
    "    file.write(b\"Dive deep into the world of data science with our comprehensive course. Learn advanced techniques, tools, and algorithms to analyze data, gain insights, and make informed decisions. Elevate your skills and embark on a rewarding career in data science.\\n\")\n",
    "    file.write(b\"this is my second line that I am trying to write\")\n",
    "    file.flush()"
   ]
  },
  {
   "cell_type": "code",
   "execution_count": 8,
   "id": "c8cdf731-290b-405a-af92-d54df80aa9ab",
   "metadata": {},
   "outputs": [
    {
     "name": "stdout",
     "output_type": "stream",
     "text": [
      "b'Dive deep into the world of data science with our comprehensive course. Learn advanced techniques, tools, and algorithms to analyze data, gain insights, and make informed decisions. Elevate your skills and embark on a rewarding career in data science.\\nthis is my second line that I am trying to write'\n"
     ]
    }
   ],
   "source": [
    "with open(\"test.txt\",'rb') as f:\n",
    "    file=io.BufferedReader(f)\n",
    "    data=file.read(1000) #here you can control the chunk size\n",
    "    print(data)"
   ]
  },
  {
   "cell_type": "code",
   "execution_count": null,
   "id": "6aad322a-ccb3-4c0f-bade-b144945ee357",
   "metadata": {},
   "outputs": [],
   "source": []
  }
 ],
 "metadata": {
  "kernelspec": {
   "display_name": "Python 3 (ipykernel)",
   "language": "python",
   "name": "python3"
  },
  "language_info": {
   "codemirror_mode": {
    "name": "ipython",
    "version": 3
   },
   "file_extension": ".py",
   "mimetype": "text/x-python",
   "name": "python",
   "nbconvert_exporter": "python",
   "pygments_lexer": "ipython3",
   "version": "3.11.7"
  }
 },
 "nbformat": 4,
 "nbformat_minor": 5
}
