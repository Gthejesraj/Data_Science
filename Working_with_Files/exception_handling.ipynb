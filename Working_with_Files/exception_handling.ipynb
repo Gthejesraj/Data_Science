{
 "cells": [
  {
   "cell_type": "code",
   "execution_count": 1,
   "id": "5ba86c49-41bb-432d-a48c-57c81adefd0b",
   "metadata": {},
   "outputs": [],
   "source": [
    "a=10"
   ]
  },
  {
   "cell_type": "code",
   "execution_count": 2,
   "id": "167ff092-217a-4549-84e4-21a165813771",
   "metadata": {},
   "outputs": [
    {
     "ename": "ZeroDivisionError",
     "evalue": "division by zero",
     "output_type": "error",
     "traceback": [
      "\u001b[0;31m---------------------------------------------------------------------------\u001b[0m",
      "\u001b[0;31mZeroDivisionError\u001b[0m                         Traceback (most recent call last)",
      "Cell \u001b[0;32mIn[2], line 1\u001b[0m\n\u001b[0;32m----> 1\u001b[0m a\u001b[38;5;241m/\u001b[39m\u001b[38;5;241m0\u001b[39m\n",
      "\u001b[0;31mZeroDivisionError\u001b[0m: division by zero"
     ]
    }
   ],
   "source": [
    "a/0"
   ]
  },
  {
   "cell_type": "code",
   "execution_count": 2,
   "id": "8a3fdf73-8b80-4669-964b-51a9b7db798e",
   "metadata": {},
   "outputs": [
    {
     "data": {
      "text/plain": [
       "10"
      ]
     },
     "execution_count": 2,
     "metadata": {},
     "output_type": "execute_result"
    }
   ],
   "source": [
    "try:\n",
    "    f=open(\"test.txt\",'r')\n",
    "except Exception as e:\n",
    "    print(\"there is some issue with my code\",e)\n",
    "a=10\n",
    "a"
   ]
  },
  {
   "cell_type": "code",
   "execution_count": 5,
   "id": "88b1df45-7c84-48e4-88f5-fe9554310881",
   "metadata": {},
   "outputs": [
    {
     "name": "stdout",
     "output_type": "stream",
     "text": [
      "this bloack will execute once try will exceute itslef without an exception\n"
     ]
    }
   ],
   "source": [
    "try:\n",
    "    f=open(\"test_exception.txt\",'w')\n",
    "    f.write(\"this is my message\")\n",
    "   \n",
    "except Exception as e:\n",
    "    print(\"there is some issue with my code\",e)\n",
    "else:\n",
    "    f.close()\n",
    "    print(\"this bloack will execute once try will exceute itslef without an exception\")"
   ]
  },
  {
   "cell_type": "code",
   "execution_count": 10,
   "id": "24eb4c35-5c0d-4f2c-9e52-c1de9ada2278",
   "metadata": {},
   "outputs": [
    {
     "name": "stdout",
     "output_type": "stream",
     "text": [
      "this bloack will execute once try will exceute itslef without an exception\n"
     ]
    }
   ],
   "source": [
    "try:\n",
    "    f=open(\"test_exception1.txt\",'w')\n",
    "    f.write(\"this is my message\")\n",
    "   \n",
    "except Exception as e:\n",
    "    print(\"there is some issue with my code\",e)\n",
    "else:\n",
    "    f.close()\n",
    "    print(\"this bloack will execute once try will exceute itslef without an exception\")"
   ]
  },
  {
   "cell_type": "code",
   "execution_count": 7,
   "id": "451a4f4f-2ca2-4be7-8dc5-c816e45e6c33",
   "metadata": {},
   "outputs": [
    {
     "name": "stdout",
     "output_type": "stream",
     "text": [
      "this will always execute\n"
     ]
    },
    {
     "ename": "FileNotFoundError",
     "evalue": "[Errno 2] No such file or directory: 'test_exception1.txt'",
     "output_type": "error",
     "traceback": [
      "\u001b[0;31m---------------------------------------------------------------------------\u001b[0m",
      "\u001b[0;31mFileNotFoundError\u001b[0m                         Traceback (most recent call last)",
      "Cell \u001b[0;32mIn[7], line 2\u001b[0m\n\u001b[1;32m      1\u001b[0m \u001b[38;5;28;01mtry\u001b[39;00m:\n\u001b[0;32m----> 2\u001b[0m     f\u001b[38;5;241m=\u001b[39m\u001b[38;5;28mopen\u001b[39m(\u001b[38;5;124m\"\u001b[39m\u001b[38;5;124mtest_exception1.txt\u001b[39m\u001b[38;5;124m\"\u001b[39m,\u001b[38;5;124m'\u001b[39m\u001b[38;5;124mr\u001b[39m\u001b[38;5;124m'\u001b[39m)\n\u001b[1;32m      3\u001b[0m     f\u001b[38;5;241m.\u001b[39mwrite(\u001b[38;5;124m\"\u001b[39m\u001b[38;5;124mthis is my message\u001b[39m\u001b[38;5;124m\"\u001b[39m)\n\u001b[1;32m      4\u001b[0m \u001b[38;5;28;01mfinally\u001b[39;00m:\n",
      "File \u001b[0;32m/opt/anaconda3/lib/python3.11/site-packages/IPython/core/interactiveshell.py:310\u001b[0m, in \u001b[0;36m_modified_open\u001b[0;34m(file, *args, **kwargs)\u001b[0m\n\u001b[1;32m    303\u001b[0m \u001b[38;5;28;01mif\u001b[39;00m file \u001b[38;5;129;01min\u001b[39;00m {\u001b[38;5;241m0\u001b[39m, \u001b[38;5;241m1\u001b[39m, \u001b[38;5;241m2\u001b[39m}:\n\u001b[1;32m    304\u001b[0m     \u001b[38;5;28;01mraise\u001b[39;00m \u001b[38;5;167;01mValueError\u001b[39;00m(\n\u001b[1;32m    305\u001b[0m         \u001b[38;5;124mf\u001b[39m\u001b[38;5;124m\"\u001b[39m\u001b[38;5;124mIPython won\u001b[39m\u001b[38;5;124m'\u001b[39m\u001b[38;5;124mt let you open fd=\u001b[39m\u001b[38;5;132;01m{\u001b[39;00mfile\u001b[38;5;132;01m}\u001b[39;00m\u001b[38;5;124m by default \u001b[39m\u001b[38;5;124m\"\u001b[39m\n\u001b[1;32m    306\u001b[0m         \u001b[38;5;124m\"\u001b[39m\u001b[38;5;124mas it is likely to crash IPython. If you know what you are doing, \u001b[39m\u001b[38;5;124m\"\u001b[39m\n\u001b[1;32m    307\u001b[0m         \u001b[38;5;124m\"\u001b[39m\u001b[38;5;124myou can use builtins\u001b[39m\u001b[38;5;124m'\u001b[39m\u001b[38;5;124m open.\u001b[39m\u001b[38;5;124m\"\u001b[39m\n\u001b[1;32m    308\u001b[0m     )\n\u001b[0;32m--> 310\u001b[0m \u001b[38;5;28;01mreturn\u001b[39;00m io_open(file, \u001b[38;5;241m*\u001b[39margs, \u001b[38;5;241m*\u001b[39m\u001b[38;5;241m*\u001b[39mkwargs)\n",
      "\u001b[0;31mFileNotFoundError\u001b[0m: [Errno 2] No such file or directory: 'test_exception1.txt'"
     ]
    }
   ],
   "source": [
    "try:\n",
    "    f=open(\"test_exception1.txt\",'r')\n",
    "    f.write(\"this is my message\")\n",
    "finally:\n",
    "    print(\"this will always execute\")"
   ]
  },
  {
   "cell_type": "code",
   "execution_count": 11,
   "id": "0d242319-0def-4b32-bc8c-232913197645",
   "metadata": {},
   "outputs": [
    {
     "name": "stdout",
     "output_type": "stream",
     "text": [
      "this bloack will execute once try will exceute itslef without an exception\n",
      "I will execute always\n"
     ]
    }
   ],
   "source": [
    "try:\n",
    "    f=open(\"test_exception1.txt\",'w')\n",
    "    f.write(\"this is my message\")\n",
    "   \n",
    "except Exception as e:\n",
    "    print(\"there is some issue with my code\",e)\n",
    "else:\n",
    "    f.close()\n",
    "    print(\"this bloack will execute once try will exceute itslef without an exception\")\n",
    "finally:\n",
    "    print(\"I will execute always\")"
   ]
  },
  {
   "cell_type": "code",
   "execution_count": null,
   "id": "d89db1fa-e6f7-45ca-b09c-4e011d746c59",
   "metadata": {},
   "outputs": [],
   "source": []
  }
 ],
 "metadata": {
  "kernelspec": {
   "display_name": "Python 3 (ipykernel)",
   "language": "python",
   "name": "python3"
  },
  "language_info": {
   "codemirror_mode": {
    "name": "ipython",
    "version": 3
   },
   "file_extension": ".py",
   "mimetype": "text/x-python",
   "name": "python",
   "nbconvert_exporter": "python",
   "pygments_lexer": "ipython3",
   "version": "3.11.7"
  }
 },
 "nbformat": 4,
 "nbformat_minor": 5
}
