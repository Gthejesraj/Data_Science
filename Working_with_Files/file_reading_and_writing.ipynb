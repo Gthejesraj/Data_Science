{
 "cells": [
  {
   "cell_type": "code",
   "execution_count": 5,
   "id": "3e151ba7-c61f-4b52-a9ae-808257214213",
   "metadata": {},
   "outputs": [],
   "source": [
    "data ={\n",
    "    \"name\":\"tim\",\n",
    "    \"mail_id\":\"tim@gmail.com\",\n",
    "    \"phone_no\":7896541145,\n",
    "    \"subject\":[\"data science\",\"data analytics\"]\n",
    "}"
   ]
  },
  {
   "cell_type": "code",
   "execution_count": 6,
   "id": "5cf5689a-e57c-43d0-b541-59fa19e4b41d",
   "metadata": {},
   "outputs": [],
   "source": [
    "import json"
   ]
  },
  {
   "cell_type": "code",
   "execution_count": 7,
   "id": "22bc3d33-cf25-4206-ae94-66be93b2934d",
   "metadata": {},
   "outputs": [],
   "source": [
    "with open(\"test1.json\",'w') as f:\n",
    "    json.dump(data,f)"
   ]
  },
  {
   "cell_type": "code",
   "execution_count": 9,
   "id": "3e56462c-0620-4707-80e0-bd5eab7a1834",
   "metadata": {},
   "outputs": [],
   "source": [
    "with open(\"test1.json\",'r') as f:\n",
    "    data1=json.load(f)"
   ]
  },
  {
   "cell_type": "code",
   "execution_count": 10,
   "id": "90a94d31-69c7-4eee-86a4-6155cd7bf7e8",
   "metadata": {},
   "outputs": [
    {
     "data": {
      "text/plain": [
       "{'name': 'tim',\n",
       " 'mail_id': 'tim@gmail.com',\n",
       " 'phone_no': 7896541145,\n",
       " 'subject': ['data science', 'data analytics']}"
      ]
     },
     "execution_count": 10,
     "metadata": {},
     "output_type": "execute_result"
    }
   ],
   "source": [
    "data1"
   ]
  },
  {
   "cell_type": "code",
   "execution_count": 11,
   "id": "9ca37b69-4820-4b04-ab8a-6b5b16f93a93",
   "metadata": {},
   "outputs": [
    {
     "data": {
      "text/plain": [
       "'data analytics'"
      ]
     },
     "execution_count": 11,
     "metadata": {},
     "output_type": "execute_result"
    }
   ],
   "source": [
    "data1['subject'][1]"
   ]
  },
  {
   "cell_type": "code",
   "execution_count": 12,
   "id": "e7f4667f-c38f-459d-bc74-8c794442a1dc",
   "metadata": {},
   "outputs": [],
   "source": [
    "data = [[\"name\",\"email_id\",\"number\"],\n",
    "       [\"tim\",\"tim@gmail.com\",784561325],\n",
    "       [\"jake\",\"jake@gmail.com\",798433455]]\n",
    "            "
   ]
  },
  {
   "cell_type": "code",
   "execution_count": 13,
   "id": "6b11a36d-2ff8-4abe-bc21-dcd53cdb7b4f",
   "metadata": {},
   "outputs": [],
   "source": [
    "import csv"
   ]
  },
  {
   "cell_type": "code",
   "execution_count": 15,
   "id": "ff46ce65-19b0-4381-8228-7eef7ae61c6a",
   "metadata": {},
   "outputs": [],
   "source": [
    "with open(\"test3.csv\",'w') as f:\n",
    "    w=csv.writer(f)\n",
    "    for i in data:\n",
    "        w.writerow(i)"
   ]
  },
  {
   "cell_type": "code",
   "execution_count": 17,
   "id": "54fe6dd8-e1e7-4252-8fd0-e1edf667b2ba",
   "metadata": {},
   "outputs": [
    {
     "name": "stdout",
     "output_type": "stream",
     "text": [
      "['name', 'email_id', 'number']\n",
      "['tim', 'tim@gmail.com', '784561325']\n",
      "['jake', 'jake@gmail.com', '798433455']\n"
     ]
    }
   ],
   "source": [
    "with open(\"test3.csv\",'r') as f:\n",
    "    read=csv.reader(f)\n",
    "    for i in read:\n",
    "        print(i)"
   ]
  },
  {
   "cell_type": "code",
   "execution_count": 19,
   "id": "3a946b23-df10-434f-b743-4c11ce5aa7db",
   "metadata": {},
   "outputs": [],
   "source": [
    "with open(\"test4.bin\",'wb') as f:\n",
    "    f.write(b\"\\x01\\x02\\x03\")"
   ]
  },
  {
   "cell_type": "code",
   "execution_count": null,
   "id": "9c467822-d6c3-42cb-903f-6842f1faa47b",
   "metadata": {},
   "outputs": [],
   "source": []
  }
 ],
 "metadata": {
  "kernelspec": {
   "display_name": "Python 3 (ipykernel)",
   "language": "python",
   "name": "python3"
  },
  "language_info": {
   "codemirror_mode": {
    "name": "ipython",
    "version": 3
   },
   "file_extension": ".py",
   "mimetype": "text/x-python",
   "name": "python",
   "nbconvert_exporter": "python",
   "pygments_lexer": "ipython3",
   "version": "3.11.7"
  }
 },
 "nbformat": 4,
 "nbformat_minor": 5
}
