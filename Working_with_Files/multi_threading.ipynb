{
 "cells": [
  {
   "cell_type": "code",
   "execution_count": 1,
   "id": "82933530-dca3-418c-bd3e-470cf45404d8",
   "metadata": {},
   "outputs": [],
   "source": [
    "import threading"
   ]
  },
  {
   "cell_type": "code",
   "execution_count": 6,
   "id": "6097d00d-15b8-4eb6-8616-6aa048deeea2",
   "metadata": {},
   "outputs": [],
   "source": [
    "def test(id):\n",
    "    print(\"this is my test id %d\" % id)"
   ]
  },
  {
   "cell_type": "code",
   "execution_count": 7,
   "id": "25640e8e-d35f-44d5-93a0-71269d35bea4",
   "metadata": {},
   "outputs": [
    {
     "name": "stdout",
     "output_type": "stream",
     "text": [
      "this is my test id 10\n"
     ]
    }
   ],
   "source": [
    "test(10)"
   ]
  },
  {
   "cell_type": "code",
   "execution_count": 8,
   "id": "0fd10c42-2813-447e-a840-e60c4947f76b",
   "metadata": {},
   "outputs": [
    {
     "name": "stdout",
     "output_type": "stream",
     "text": [
      "this is my test id 1\n"
     ]
    }
   ],
   "source": [
    "test(1)"
   ]
  },
  {
   "cell_type": "code",
   "execution_count": 9,
   "id": "79e46446-ee9a-42dc-9668-d2efe622a968",
   "metadata": {},
   "outputs": [
    {
     "name": "stdout",
     "output_type": "stream",
     "text": [
      "this is my test id 4\n"
     ]
    }
   ],
   "source": [
    "test(4)"
   ]
  },
  {
   "cell_type": "code",
   "execution_count": 10,
   "id": "96ad777f-8a41-424f-afa4-65ae0ab33dbf",
   "metadata": {},
   "outputs": [],
   "source": [
    "thread=[threading.Thread(target=test,args=(i,)) for i in[10,1,3]]"
   ]
  },
  {
   "cell_type": "code",
   "execution_count": 11,
   "id": "49095245-d900-4ba8-b682-beb8213fd76d",
   "metadata": {},
   "outputs": [
    {
     "data": {
      "text/plain": [
       "[<Thread(Thread-5 (test), initial)>,\n",
       " <Thread(Thread-6 (test), initial)>,\n",
       " <Thread(Thread-7 (test), initial)>]"
      ]
     },
     "execution_count": 11,
     "metadata": {},
     "output_type": "execute_result"
    }
   ],
   "source": [
    "thread"
   ]
  },
  {
   "cell_type": "code",
   "execution_count": 12,
   "id": "630c833d-0cb3-4e0e-93ad-4d1bed6206bf",
   "metadata": {},
   "outputs": [
    {
     "name": "stdout",
     "output_type": "stream",
     "text": [
      "this is my test id 10\n",
      "this is my test id 1\n",
      "this is my test id 3\n"
     ]
    }
   ],
   "source": [
    "for t in thread:\n",
    "    t.start()"
   ]
  },
  {
   "cell_type": "code",
   "execution_count": 17,
   "id": "78dbfafb-b7a7-4994-8f9f-7d642f9cc17e",
   "metadata": {},
   "outputs": [],
   "source": [
    "import urllib.request\n",
    "\n",
    "def file_download(url,filename):\n",
    "    urllib.request.urlretrieve(url,filename)"
   ]
  },
  {
   "cell_type": "code",
   "execution_count": 19,
   "id": "3cdd9a95-bc6c-48b8-a82e-bf59e12919e8",
   "metadata": {},
   "outputs": [],
   "source": [
    "file_download('https://raw.githubusercontent.com/itsfoss/text-files/master/agatha.txt' , \"test_threading1.txt\")"
   ]
  },
  {
   "cell_type": "code",
   "execution_count": 20,
   "id": "f9e16757-3b9b-40ce-a553-2fca61847a29",
   "metadata": {},
   "outputs": [],
   "source": [
    "url_list=['https://raw.githubusercontent.com/itsfoss/text-files/master/agatha.txt','https://raw.githubusercontent.com/itsfoss/text-files/master/sherlock.txt' ,'https://raw.githubusercontent.com/itsfoss/text-files/master/sample_log_file.txt']"
   ]
  },
  {
   "cell_type": "code",
   "execution_count": 21,
   "id": "da15b863-8723-4a95-a4ba-1d4eacc40206",
   "metadata": {},
   "outputs": [
    {
     "data": {
      "text/plain": [
       "['https://raw.githubusercontent.com/itsfoss/text-files/master/agatha.txt',\n",
       " 'https://raw.githubusercontent.com/itsfoss/text-files/master/sherlock.txt',\n",
       " 'https://raw.githubusercontent.com/itsfoss/text-files/master/sample_log_file.txt']"
      ]
     },
     "execution_count": 21,
     "metadata": {},
     "output_type": "execute_result"
    }
   ],
   "source": [
    "url_list"
   ]
  },
  {
   "cell_type": "code",
   "execution_count": 24,
   "id": "aec555ea-5046-4314-a69e-86c4ed0b6390",
   "metadata": {},
   "outputs": [],
   "source": [
    "data_file_list=['data1.txt','data2.txt','data3.txt']"
   ]
  },
  {
   "cell_type": "code",
   "execution_count": 26,
   "id": "f6370a3e-7330-462c-b156-48157f0c616e",
   "metadata": {},
   "outputs": [],
   "source": [
    "thread1 = [threading.Thread(target=file_download , args=(url_list[i],data_file_list[i])) for i in range(len(url_list))]"
   ]
  },
  {
   "cell_type": "code",
   "execution_count": 27,
   "id": "7df89960-9889-4cfc-86dc-01d696cbf0da",
   "metadata": {},
   "outputs": [],
   "source": [
    "for t in thread1:\n",
    "    t.start()"
   ]
  },
  {
   "cell_type": "code",
   "execution_count": 28,
   "id": "62fe50b5-625b-428d-9d07-55ec378ba6e7",
   "metadata": {},
   "outputs": [
    {
     "data": {
      "text/plain": [
       "[<Thread(Thread-8 (file_download), stopped 123145686335488)>,\n",
       " <Thread(Thread-9 (file_download), stopped 123145703124992)>,\n",
       " <Thread(Thread-10 (file_download), stopped 123145719914496)>]"
      ]
     },
     "execution_count": 28,
     "metadata": {},
     "output_type": "execute_result"
    }
   ],
   "source": [
    "thread1"
   ]
  },
  {
   "cell_type": "code",
   "execution_count": 29,
   "id": "d07e5f70-094f-4507-b4b4-d753eece134e",
   "metadata": {},
   "outputs": [],
   "source": [
    "import time"
   ]
  },
  {
   "cell_type": "code",
   "execution_count": 33,
   "id": "3c4c16a5-49de-4e8d-8650-8da7d81576e5",
   "metadata": {},
   "outputs": [],
   "source": [
    "def test2(x):\n",
    "    for i in range(11):\n",
    "        print(\" test1 print the value of x %d and print the value of i %d\" %(x,i))\n",
    "        time.sleep(1)"
   ]
  },
  {
   "cell_type": "code",
   "execution_count": 42,
   "id": "6c8745a8-6b25-4e1b-b25e-05a79bf2fb98",
   "metadata": {},
   "outputs": [],
   "source": [
    "thread2=[threading.Thread(target=test2,args=(i,)) for i in [100,10,20,5]]"
   ]
  },
  {
   "cell_type": "code",
   "execution_count": 43,
   "id": "19506658-e039-4d07-95b6-7279f449fa9c",
   "metadata": {},
   "outputs": [
    {
     "name": "stdout",
     "output_type": "stream",
     "text": [
      " test1 print the value of x 100 and print the value of i 0\n",
      " test1 print the value of x 10 and print the value of i 0\n",
      " test1 print the value of x 20 and print the value of i 0\n",
      " test1 print the value of x 5 and print the value of i 0\n",
      " test1 print the value of x 10 and print the value of i 1 test1 print the value of x 100 and print the value of i 1\n",
      " test1 print the value of x 20 and print the value of i 1\n",
      "\n",
      " test1 print the value of x 5 and print the value of i 1\n",
      " test1 print the value of x 100 and print the value of i 2 test1 print the value of x 20 and print the value of i 2\n",
      " test1 print the value of x 5 and print the value of i 2\n",
      " test1 print the value of x 10 and print the value of i 2\n",
      "\n",
      " test1 print the value of x 5 and print the value of i 3 test1 print the value of x 20 and print the value of i 3\n",
      "\n",
      " test1 print the value of x 10 and print the value of i 3\n",
      " test1 print the value of x 100 and print the value of i 3\n",
      " test1 print the value of x 20 and print the value of i 4 test1 print the value of x 5 and print the value of i 4\n",
      "\n",
      " test1 print the value of x 10 and print the value of i 4\n",
      " test1 print the value of x 100 and print the value of i 4\n",
      " test1 print the value of x 20 and print the value of i 5 test1 print the value of x 10 and print the value of i 5\n",
      " test1 print the value of x 5 and print the value of i 5\n",
      " test1 print the value of x 100 and print the value of i 5\n",
      "\n",
      " test1 print the value of x 5 and print the value of i 6 test1 print the value of x 10 and print the value of i 6\n",
      " test1 print the value of x 100 and print the value of i 6\n",
      " test1 print the value of x 20 and print the value of i 6\n",
      "\n",
      " test1 print the value of x 10 and print the value of i 7 test1 print the value of x 100 and print the value of i 7\n",
      " test1 print the value of x 20 and print the value of i 7\n",
      " test1 print the value of x 5 and print the value of i 7\n",
      "\n",
      " test1 print the value of x 100 and print the value of i 8 test1 print the value of x 20 and print the value of i 8\n",
      " test1 print the value of x 5 and print the value of i 8\n",
      " test1 print the value of x 10 and print the value of i 8\n",
      "\n",
      " test1 print the value of x 5 and print the value of i 9 test1 print the value of x 10 and print the value of i 9\n",
      " test1 print the value of x 20 and print the value of i 9\n",
      " test1 print the value of x 100 and print the value of i 9\n",
      "\n",
      " test1 print the value of x 10 and print the value of i 10 test1 print the value of x 20 and print the value of i 10\n",
      "\n",
      " test1 print the value of x 5 and print the value of i 10\n",
      " test1 print the value of x 100 and print the value of i 10\n"
     ]
    }
   ],
   "source": [
    "for t in thread2:\n",
    "    t.start()"
   ]
  },
  {
   "cell_type": "code",
   "execution_count": 34,
   "id": "7b518980-332d-46fb-9778-ade6429505b2",
   "metadata": {},
   "outputs": [
    {
     "name": "stdout",
     "output_type": "stream",
     "text": [
      " test1 print the value of x 10 and print the value of i 0\n",
      " test1 print the value of x 10 and print the value of i 1\n",
      " test1 print the value of x 10 and print the value of i 2\n",
      " test1 print the value of x 10 and print the value of i 3\n",
      " test1 print the value of x 10 and print the value of i 4\n",
      " test1 print the value of x 10 and print the value of i 5\n",
      " test1 print the value of x 10 and print the value of i 6\n",
      " test1 print the value of x 10 and print the value of i 7\n",
      " test1 print the value of x 10 and print the value of i 8\n",
      " test1 print the value of x 10 and print the value of i 9\n",
      " test1 print the value of x 10 and print the value of i 10\n"
     ]
    }
   ],
   "source": [
    "test2(10)"
   ]
  },
  {
   "cell_type": "code",
   "execution_count": 32,
   "id": "d6714fd1-a4b7-4d69-8621-fc56f7abee79",
   "metadata": {},
   "outputs": [
    {
     "name": "stdout",
     "output_type": "stream",
     "text": [
      " test1 print the value of x 2 and print the value of i 0\n",
      " test1 print the value of x 2 and print the value of i 1\n",
      " test1 print the value of x 2 and print the value of i 2\n",
      " test1 print the value of x 2 and print the value of i 3\n",
      " test1 print the value of x 2 and print the value of i 4\n",
      " test1 print the value of x 2 and print the value of i 5\n",
      " test1 print the value of x 2 and print the value of i 6\n",
      " test1 print the value of x 2 and print the value of i 7\n",
      " test1 print the value of x 2 and print the value of i 8\n",
      " test1 print the value of x 2 and print the value of i 9\n",
      " test1 print the value of x 2 and print the value of i 10\n"
     ]
    }
   ],
   "source": [
    "test2(2)"
   ]
  },
  {
   "cell_type": "code",
   "execution_count": 54,
   "id": "1dd11ff6-30bd-43f5-b810-4fecdb1ae49f",
   "metadata": {},
   "outputs": [
    {
     "name": "stdout",
     "output_type": "stream",
     "text": [
      "value of x 1 and value of shareed_var 1 \n",
      "value of x 2 and value of shareed_var 2 \n",
      "value of x 3 and value of shareed_var 3 \n",
      "value of x 4 and value of shareed_var 4 \n",
      "value of x 4 and value of shareed_var 5 \n",
      "value of x 5 and value of shareed_var 6 \n"
     ]
    }
   ],
   "source": [
    "shared_var = 0 \n",
    "lock_var = threading.Lock()\n",
    "def test4(x) : \n",
    "    global shared_var\n",
    "    with lock_var : \n",
    "        shared_var = shared_var + 1\n",
    "        print(\"value of x %d and value of shareed_var %d \" %(x, shared_var))\n",
    "        time.sleep(1)\n",
    " \n",
    "thread5  = [threading.Thread(target=test4 , args = (i,)) for i in [1,2,3,4,4,5]]\n",
    "for t in thread5 : \n",
    "    t.start()"
   ]
  },
  {
   "cell_type": "code",
   "execution_count": 47,
   "id": "4f789f45-4a87-470a-9c91-e752fd7bdef3",
   "metadata": {},
   "outputs": [
    {
     "name": "stdout",
     "output_type": "stream",
     "text": [
      "value of x 1 and value of shared_var 3\n"
     ]
    }
   ],
   "source": [
    "test3(1)"
   ]
  },
  {
   "cell_type": "code",
   "execution_count": 48,
   "id": "f9b252d6-0d9f-4a8e-8544-6735055cbb38",
   "metadata": {},
   "outputs": [
    {
     "name": "stdout",
     "output_type": "stream",
     "text": [
      "value of x 2 and value of shared_var 4\n"
     ]
    }
   ],
   "source": [
    "test3(2)"
   ]
  },
  {
   "cell_type": "code",
   "execution_count": null,
   "id": "d2b8bdb7-0a50-4ee6-9ce9-347b9d2dd5bd",
   "metadata": {},
   "outputs": [],
   "source": []
  }
 ],
 "metadata": {
  "kernelspec": {
   "display_name": "Python 3 (ipykernel)",
   "language": "python",
   "name": "python3"
  },
  "language_info": {
   "codemirror_mode": {
    "name": "ipython",
    "version": 3
   },
   "file_extension": ".py",
   "mimetype": "text/x-python",
   "name": "python",
   "nbconvert_exporter": "python",
   "pygments_lexer": "ipython3",
   "version": "3.11.7"
  }
 },
 "nbformat": 4,
 "nbformat_minor": 5
}
