{
 "cells": [
  {
   "cell_type": "code",
   "execution_count": 1,
   "id": "dbd0f833-57a7-4960-9ea5-f99ca853a4ae",
   "metadata": {},
   "outputs": [
    {
     "name": "stdout",
     "output_type": "stream",
     "text": [
      "welcome\n"
     ]
    }
   ],
   "source": [
    "print(\"welcome\")"
   ]
  },
  {
   "cell_type": "code",
   "execution_count": 2,
   "id": "cb173ae8-0167-4ccb-918d-5fe8381671f6",
   "metadata": {},
   "outputs": [],
   "source": [
    "import logging"
   ]
  },
  {
   "cell_type": "code",
   "execution_count": 3,
   "id": "9f48eb39-97d3-4041-8a4e-16919d5096fa",
   "metadata": {},
   "outputs": [],
   "source": [
    "logging.basicConfig(filename=\"test.log\",level=logging.INFO)"
   ]
  },
  {
   "cell_type": "code",
   "execution_count": 5,
   "id": "86c27f9e-84cd-4cd4-ad89-eaf4725647ec",
   "metadata": {},
   "outputs": [],
   "source": [
    "logging.info(\"this is my line of execution\")"
   ]
  },
  {
   "cell_type": "code",
   "execution_count": 6,
   "id": "8b9f403d-cc68-4628-b5c7-44b1220060f6",
   "metadata": {},
   "outputs": [],
   "source": [
    "logging.error(\"this is my error\")"
   ]
  },
  {
   "cell_type": "code",
   "execution_count": 7,
   "id": "542044a2-2755-44f4-beac-7f05a30e54e2",
   "metadata": {},
   "outputs": [],
   "source": [
    "logging.critical(\"this is my critical\")"
   ]
  },
  {
   "cell_type": "markdown",
   "id": "3c683e11-a63f-43df-a326-c98cb3322348",
   "metadata": {
    "jp-MarkdownHeadingCollapsed": true
   },
   "source": [
    " ## \n",
    " 1.NOSET \n",
    " 2.DEBUG \n",
    " 3.INFO\n",
    " 4.WARNING \n",
    " 5.ERROR \n",
    " 6.CRITICAL"
   ]
  },
  {
   "cell_type": "code",
   "execution_count": 9,
   "id": "05d77bae-a4c0-4817-b32a-3c3cf4235e32",
   "metadata": {},
   "outputs": [],
   "source": [
    "logging.warning(\"this is my warning\")"
   ]
  },
  {
   "cell_type": "code",
   "execution_count": 11,
   "id": "79335b4b-db88-4085-87d5-ecf04891f4de",
   "metadata": {},
   "outputs": [],
   "source": [
    "logging.debug(\"this is my info related to debug\")"
   ]
  },
  {
   "cell_type": "code",
   "execution_count": 15,
   "id": "408e10ca-425b-4746-bb70-5f5a28057aae",
   "metadata": {},
   "outputs": [],
   "source": [
    "logging.shutdown()"
   ]
  },
  {
   "cell_type": "code",
   "execution_count": 1,
   "id": "78181e0e-3c3f-4269-92b4-235adc28970e",
   "metadata": {},
   "outputs": [],
   "source": [
    "import logging\n",
    "logging.basicConfig(filename=\"test2.log\",level=logging.DEBUG,format='%(asctime)s %(message)s')"
   ]
  },
  {
   "cell_type": "code",
   "execution_count": 2,
   "id": "f82851f3-4a0a-4412-a480-0147e8015faa",
   "metadata": {},
   "outputs": [],
   "source": [
    "logging.info(\"this is my info log\")"
   ]
  },
  {
   "cell_type": "code",
   "execution_count": 3,
   "id": "8adcb86a-5929-4074-b626-afef2ebb0388",
   "metadata": {},
   "outputs": [],
   "source": [
    "logging.debug(\"this is my debug log\")"
   ]
  },
  {
   "cell_type": "code",
   "execution_count": 4,
   "id": "321befd6-2a20-4203-b27e-eec2dbad4ce5",
   "metadata": {},
   "outputs": [],
   "source": [
    "logging.warning(\"this is my warning log\")"
   ]
  },
  {
   "cell_type": "code",
   "execution_count": 5,
   "id": "8d09af5c-a01b-4b6a-9dfd-fdfec4c65011",
   "metadata": {},
   "outputs": [],
   "source": [
    "logging.shutdown()"
   ]
  },
  {
   "cell_type": "code",
   "execution_count": 3,
   "id": "e02c0af3-70a3-4ecd-a747-ee858a564230",
   "metadata": {},
   "outputs": [],
   "source": [
    "logging.basicConfig(filename=\"test3.log\",level=logging.DEBUG,format='%(asctime)s  %(name)s %(levelname)s %(message)s')"
   ]
  },
  {
   "cell_type": "code",
   "execution_count": 5,
   "id": "f6fdaa06-cefa-423a-8c60-768521cc61bf",
   "metadata": {},
   "outputs": [],
   "source": [
    "logging.info(\"this is my info log\")"
   ]
  },
  {
   "cell_type": "code",
   "execution_count": 6,
   "id": "d05b9d8f-04f2-4647-8688-52a9e1aefe32",
   "metadata": {},
   "outputs": [],
   "source": [
    "l=[1,2,3,4,[4,5,6],\"tim\",\"kumar\"]"
   ]
  },
  {
   "cell_type": "code",
   "execution_count": 12,
   "id": "815b6083-6bd6-49da-a2b8-2cf2acc0c443",
   "metadata": {},
   "outputs": [],
   "source": [
    "l1_int=[]\n",
    "l2_str=[]\n",
    "for i in l:\n",
    "    logging.info(\"this is the start of first for looop {}\".format(l))\n",
    "    logging.info(\"this is the value of i I am logging{}\".format(i))\n",
    "    if type(i)==list:\n",
    "        for j in i:\n",
    "            loggong.info(\"logging my j{j} and i is {i}\".format(i=i,j=j))\n",
    "            if type(j)==int:\n",
    "                l1_int.append(j)\n",
    "    elif type(i)==int:\n",
    "        l1_int.append(i)\n",
    "    else:\n",
    "        if type(i)==str:\n",
    "            l2_str.append(i)\n",
    "logging.info(\"this is my final result with all int {l1}, with all string{l2}\".format(l1=l1_int,l2=l2_sstr))"
   ]
  },
  {
   "cell_type": "code",
   "execution_count": 9,
   "id": "9f9edad6-29e9-41d2-8c7e-ddad9067e784",
   "metadata": {},
   "outputs": [
    {
     "data": {
      "text/plain": [
       "[1, 2, 3, 4, 4, 5, 6]"
      ]
     },
     "execution_count": 9,
     "metadata": {},
     "output_type": "execute_result"
    }
   ],
   "source": [
    "l1_int"
   ]
  },
  {
   "cell_type": "code",
   "execution_count": 10,
   "id": "e516b7f8-62e9-416c-8043-b47d967a1fcd",
   "metadata": {},
   "outputs": [
    {
     "data": {
      "text/plain": [
       "['tim', 'kumar']"
      ]
     },
     "execution_count": 10,
     "metadata": {},
     "output_type": "execute_result"
    }
   ],
   "source": [
    "l2_str"
   ]
  },
  {
   "cell_type": "code",
   "execution_count": null,
   "id": "b6f14edd-8216-42ca-a463-1707978770d8",
   "metadata": {},
   "outputs": [],
   "source": []
  }
 ],
 "metadata": {
  "kernelspec": {
   "display_name": "Python 3 (ipykernel)",
   "language": "python",
   "name": "python3"
  },
  "language_info": {
   "codemirror_mode": {
    "name": "ipython",
    "version": 3
   },
   "file_extension": ".py",
   "mimetype": "text/x-python",
   "name": "python",
   "nbconvert_exporter": "python",
   "pygments_lexer": "ipython3",
   "version": "3.11.7"
  }
 },
 "nbformat": 4,
 "nbformat_minor": 5
}
