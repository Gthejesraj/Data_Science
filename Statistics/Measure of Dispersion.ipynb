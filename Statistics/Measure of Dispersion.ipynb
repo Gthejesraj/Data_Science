{
 "cells": [
  {
   "cell_type": "markdown",
   "id": "e7e172e0-86c6-4f74-a3c9-2171e9f60438",
   "metadata": {},
   "source": [
    "### Measure of Dispersion"
   ]
  },
  {
   "cell_type": "markdown",
   "id": "a675d9df-090e-48d3-a76a-16863145499b",
   "metadata": {},
   "source": [
    "#### Variance"
   ]
  },
  {
   "cell_type": "code",
   "execution_count": 1,
   "id": "4eaaf990-b548-4668-95a6-f4c217e315d5",
   "metadata": {},
   "outputs": [],
   "source": [
    "age = [23,56,45,77,8,12,10,32,65,19,20,35]"
   ]
  },
  {
   "cell_type": "code",
   "execution_count": 2,
   "id": "ea3a561b-7c66-4aea-8b9b-6840d6d8dcd6",
   "metadata": {},
   "outputs": [],
   "source": [
    "import numpy as np"
   ]
  },
  {
   "cell_type": "code",
   "execution_count": 3,
   "id": "a6c9ffb3-eff9-4325-b206-91f0272b708f",
   "metadata": {},
   "outputs": [],
   "source": [
    "mean = np.mean(age)"
   ]
  },
  {
   "cell_type": "code",
   "execution_count": 4,
   "id": "3f7c0662-3bdc-4c56-96a3-ae270aaf7635",
   "metadata": {},
   "outputs": [
    {
     "data": {
      "text/plain": [
       "33.5"
      ]
     },
     "execution_count": 4,
     "metadata": {},
     "output_type": "execute_result"
    }
   ],
   "source": [
    "mean"
   ]
  },
  {
   "cell_type": "code",
   "execution_count": 5,
   "id": "83c246fc-5968-42fd-b1ab-dcc0c7461eea",
   "metadata": {},
   "outputs": [],
   "source": [
    "var = np.var(age)"
   ]
  },
  {
   "cell_type": "code",
   "execution_count": 6,
   "id": "52d48018-2b0b-4f9e-a812-8d3f5a73e323",
   "metadata": {},
   "outputs": [
    {
     "data": {
      "text/plain": [
       "474.5833333333333"
      ]
     },
     "execution_count": 6,
     "metadata": {},
     "output_type": "execute_result"
    }
   ],
   "source": [
    "var"
   ]
  },
  {
   "cell_type": "code",
   "execution_count": 7,
   "id": "b097ef1f-0907-4b6d-a6f0-a16cde2f802b",
   "metadata": {},
   "outputs": [
    {
     "data": {
      "text/plain": [
       "21.784933631602676"
      ]
     },
     "execution_count": 7,
     "metadata": {},
     "output_type": "execute_result"
    }
   ],
   "source": [
    "std = np.std(age)\n",
    "std"
   ]
  },
  {
   "cell_type": "code",
   "execution_count": 8,
   "id": "ee0c0d1b-8b6b-446e-ae47-d0ba97c5c1e9",
   "metadata": {},
   "outputs": [],
   "source": [
    "import pandas as pd"
   ]
  },
  {
   "cell_type": "code",
   "execution_count": 9,
   "id": "8c1045c0-0358-48b0-a960-0a86ff395c25",
   "metadata": {},
   "outputs": [
    {
     "data": {
      "text/plain": [
       "[[10, 12, 13], [34, 23, 45], [32, 34, 21]]"
      ]
     },
     "execution_count": 9,
     "metadata": {},
     "output_type": "execute_result"
    }
   ],
   "source": [
    "data = [[10,12,13],[34,23,45],[32,34,21]]\n",
    "data"
   ]
  },
  {
   "cell_type": "code",
   "execution_count": 10,
   "id": "9fab4723-6706-48fe-b9d5-ea48ae77a60d",
   "metadata": {},
   "outputs": [],
   "source": [
    "df = pd.DataFrame(data)"
   ]
  },
  {
   "cell_type": "code",
   "execution_count": 11,
   "id": "6cab605d-89aa-4ab6-8775-18623820c348",
   "metadata": {},
   "outputs": [
    {
     "data": {
      "text/html": [
       "<div>\n",
       "<style scoped>\n",
       "    .dataframe tbody tr th:only-of-type {\n",
       "        vertical-align: middle;\n",
       "    }\n",
       "\n",
       "    .dataframe tbody tr th {\n",
       "        vertical-align: top;\n",
       "    }\n",
       "\n",
       "    .dataframe thead th {\n",
       "        text-align: right;\n",
       "    }\n",
       "</style>\n",
       "<table border=\"1\" class=\"dataframe\">\n",
       "  <thead>\n",
       "    <tr style=\"text-align: right;\">\n",
       "      <th></th>\n",
       "      <th>0</th>\n",
       "      <th>1</th>\n",
       "      <th>2</th>\n",
       "    </tr>\n",
       "  </thead>\n",
       "  <tbody>\n",
       "    <tr>\n",
       "      <th>0</th>\n",
       "      <td>10</td>\n",
       "      <td>12</td>\n",
       "      <td>13</td>\n",
       "    </tr>\n",
       "    <tr>\n",
       "      <th>1</th>\n",
       "      <td>34</td>\n",
       "      <td>23</td>\n",
       "      <td>45</td>\n",
       "    </tr>\n",
       "    <tr>\n",
       "      <th>2</th>\n",
       "      <td>32</td>\n",
       "      <td>34</td>\n",
       "      <td>21</td>\n",
       "    </tr>\n",
       "  </tbody>\n",
       "</table>\n",
       "</div>"
      ],
      "text/plain": [
       "    0   1   2\n",
       "0  10  12  13\n",
       "1  34  23  45\n",
       "2  32  34  21"
      ]
     },
     "execution_count": 11,
     "metadata": {},
     "output_type": "execute_result"
    }
   ],
   "source": [
    "df"
   ]
  },
  {
   "cell_type": "code",
   "execution_count": 13,
   "id": "4a4e910e-4adf-4f5b-8c83-723b61a8d0c9",
   "metadata": {},
   "outputs": [
    {
     "data": {
      "text/plain": [
       "0    177.333333\n",
       "1    121.000000\n",
       "2    277.333333\n",
       "dtype: float64"
      ]
     },
     "execution_count": 13,
     "metadata": {},
     "output_type": "execute_result"
    }
   ],
   "source": [
    "df.var()"
   ]
  },
  {
   "cell_type": "code",
   "execution_count": 14,
   "id": "1a91d8e8-39d4-497b-acad-ce9f34c69d32",
   "metadata": {},
   "outputs": [
    {
     "data": {
      "text/plain": [
       "0      2.333333\n",
       "1    121.000000\n",
       "2     49.000000\n",
       "dtype: float64"
      ]
     },
     "execution_count": 14,
     "metadata": {},
     "output_type": "execute_result"
    }
   ],
   "source": [
    "# Row wise \n",
    "df.var(axis=1)"
   ]
  },
  {
   "cell_type": "code",
   "execution_count": 15,
   "id": "20dd61cd-3701-4e43-a3e2-654c30507e21",
   "metadata": {},
   "outputs": [
    {
     "data": {
      "text/plain": [
       "0    177.333333\n",
       "1    121.000000\n",
       "2    277.333333\n",
       "dtype: float64"
      ]
     },
     "execution_count": 15,
     "metadata": {},
     "output_type": "execute_result"
    }
   ],
   "source": [
    "# Column wise\n",
    "df.var()"
   ]
  },
  {
   "cell_type": "code",
   "execution_count": null,
   "id": "125f34c4-5fdf-4818-958a-253cadad21a5",
   "metadata": {},
   "outputs": [],
   "source": []
  }
 ],
 "metadata": {
  "kernelspec": {
   "display_name": "Python 3 (ipykernel)",
   "language": "python",
   "name": "python3"
  },
  "language_info": {
   "codemirror_mode": {
    "name": "ipython",
    "version": 3
   },
   "file_extension": ".py",
   "mimetype": "text/x-python",
   "name": "python",
   "nbconvert_exporter": "python",
   "pygments_lexer": "ipython3",
   "version": "3.11.7"
  }
 },
 "nbformat": 4,
 "nbformat_minor": 5
}
