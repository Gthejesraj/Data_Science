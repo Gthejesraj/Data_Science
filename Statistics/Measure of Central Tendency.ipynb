{
 "cells": [
  {
   "cell_type": "markdown",
   "id": "c46f85ef-0aed-4a8c-aee3-5fbf2b06e368",
   "metadata": {},
   "source": [
    "### Mean(Average)\n"
   ]
  },
  {
   "cell_type": "code",
   "execution_count": 12,
   "id": "1462a6d0-875f-4c03-9c75-262e71362bd9",
   "metadata": {},
   "outputs": [],
   "source": [
    "age=[12,13,13,21,24]"
   ]
  },
  {
   "cell_type": "code",
   "execution_count": 2,
   "id": "634175c5-ec60-4152-afa8-1d14bd1f75ba",
   "metadata": {},
   "outputs": [
    {
     "data": {
      "text/plain": [
       "14.4"
      ]
     },
     "execution_count": 2,
     "metadata": {},
     "output_type": "execute_result"
    }
   ],
   "source": [
    "(1+13+13+21+24)/5"
   ]
  },
  {
   "cell_type": "code",
   "execution_count": 5,
   "id": "ba1aee7e-740c-4e69-8057-864b5211a61a",
   "metadata": {},
   "outputs": [
    {
     "data": {
      "text/plain": [
       "16.6"
      ]
     },
     "execution_count": 5,
     "metadata": {},
     "output_type": "execute_result"
    }
   ],
   "source": [
    "import numpy as np\n",
    "np.mean(age)"
   ]
  },
  {
   "cell_type": "code",
   "execution_count": 7,
   "id": "d166f20e-f50f-4352-bde7-3eb73e9fdd58",
   "metadata": {},
   "outputs": [],
   "source": [
    "weights = [45,54,56,51,40,28,57,61]"
   ]
  },
  {
   "cell_type": "code",
   "execution_count": 8,
   "id": "b5b6d9dd-eea9-44f1-96e2-6260bef77c1c",
   "metadata": {},
   "outputs": [
    {
     "data": {
      "text/plain": [
       "49.0"
      ]
     },
     "execution_count": 8,
     "metadata": {},
     "output_type": "execute_result"
    }
   ],
   "source": [
    "np.mean(weights)"
   ]
  },
  {
   "cell_type": "code",
   "execution_count": 15,
   "id": "014b58e8-b27b-4f3f-abb9-9e6816cf7fa6",
   "metadata": {},
   "outputs": [],
   "source": [
    "weights = [45,54,56,51,40,28,57,57,57,61,1000]"
   ]
  },
  {
   "cell_type": "code",
   "execution_count": 10,
   "id": "e152276e-5d9a-4d7d-9cbb-9f587ded074a",
   "metadata": {},
   "outputs": [
    {
     "data": {
      "text/plain": [
       "154.66666666666666"
      ]
     },
     "execution_count": 10,
     "metadata": {},
     "output_type": "execute_result"
    }
   ],
   "source": [
    "np.mean(weights)"
   ]
  },
  {
   "cell_type": "markdown",
   "id": "6662e7d8-517b-4fc2-93b6-e949a503472c",
   "metadata": {},
   "source": [
    "### Median"
   ]
  },
  {
   "cell_type": "code",
   "execution_count": 11,
   "id": "bce56bc5-5d7f-48c5-a565-a4d1df762011",
   "metadata": {},
   "outputs": [
    {
     "data": {
      "text/plain": [
       "54.0"
      ]
     },
     "execution_count": 11,
     "metadata": {},
     "output_type": "execute_result"
    }
   ],
   "source": [
    "np.median(weights)"
   ]
  },
  {
   "cell_type": "markdown",
   "id": "69ed2a16-ce91-47af-bbf8-72a833f0dff3",
   "metadata": {},
   "source": [
    "### Mode"
   ]
  },
  {
   "cell_type": "code",
   "execution_count": 13,
   "id": "22530899-307f-4e6e-ad65-d94953fea927",
   "metadata": {},
   "outputs": [],
   "source": [
    "from scipy import stats"
   ]
  },
  {
   "cell_type": "code",
   "execution_count": 16,
   "id": "5092aa1c-ea69-4381-9dfd-1acc8607386a",
   "metadata": {},
   "outputs": [
    {
     "data": {
      "text/plain": [
       "ModeResult(mode=57, count=3)"
      ]
     },
     "execution_count": 16,
     "metadata": {},
     "output_type": "execute_result"
    }
   ],
   "source": [
    "stats.mode(weights)"
   ]
  },
  {
   "cell_type": "code",
   "execution_count": null,
   "id": "bb6c6d58-2562-4cfa-be00-092b7c31197d",
   "metadata": {},
   "outputs": [],
   "source": []
  }
 ],
 "metadata": {
  "kernelspec": {
   "display_name": "Python 3 (ipykernel)",
   "language": "python",
   "name": "python3"
  },
  "language_info": {
   "codemirror_mode": {
    "name": "ipython",
    "version": 3
   },
   "file_extension": ".py",
   "mimetype": "text/x-python",
   "name": "python",
   "nbconvert_exporter": "python",
   "pygments_lexer": "ipython3",
   "version": "3.11.7"
  }
 },
 "nbformat": 4,
 "nbformat_minor": 5
}
