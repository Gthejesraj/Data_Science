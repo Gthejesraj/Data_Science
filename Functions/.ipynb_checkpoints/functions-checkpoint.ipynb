{
 "cells": [
  {
   "cell_type": "code",
   "execution_count": 4,
   "id": "264e1da5-41ea-4a8d-9134-0c698cffbbda",
   "metadata": {},
   "outputs": [],
   "source": [
    "def test():\n",
    "    pass"
   ]
  },
  {
   "cell_type": "code",
   "execution_count": 5,
   "id": "13dc68cf-995d-4140-9c36-3939b7226c13",
   "metadata": {},
   "outputs": [],
   "source": [
    "def test1():\n",
    "    print(\"my first function\")"
   ]
  },
  {
   "cell_type": "code",
   "execution_count": 7,
   "id": "b4023856-799d-4971-b693-da5bf2e1e65f",
   "metadata": {},
   "outputs": [
    {
     "name": "stdout",
     "output_type": "stream",
     "text": [
      "my first function\n"
     ]
    }
   ],
   "source": [
    "test1()"
   ]
  },
  {
   "cell_type": "markdown",
   "id": "9a4e69ff-af62-41f6-9984-03a92fd33c47",
   "metadata": {},
   "source": [
    "## print always return Nonetype"
   ]
  },
  {
   "cell_type": "code",
   "execution_count": 9,
   "id": "7d9fa9e4-1fab-4d7f-acec-93405540bf94",
   "metadata": {},
   "outputs": [],
   "source": [
    "def test2():\n",
    "    return \"this is my function with return\""
   ]
  },
  {
   "cell_type": "code",
   "execution_count": 10,
   "id": "f8600c85-e2aa-4d37-bc79-7b903d19aac2",
   "metadata": {},
   "outputs": [
    {
     "data": {
      "text/plain": [
       "'this is my function with return'"
      ]
     },
     "execution_count": 10,
     "metadata": {},
     "output_type": "execute_result"
    }
   ],
   "source": [
    "test2()"
   ]
  },
  {
   "cell_type": "code",
   "execution_count": 14,
   "id": "6b659738-8fbe-4cc9-84da-ce2b17175dbe",
   "metadata": {},
   "outputs": [
    {
     "data": {
      "text/plain": [
       "'this is my function with return tim'"
      ]
     },
     "execution_count": 14,
     "metadata": {},
     "output_type": "execute_result"
    }
   ],
   "source": [
    "test2() + \" tim\""
   ]
  },
  {
   "cell_type": "code",
   "execution_count": 15,
   "id": "98b52eaa-d870-44ed-8da2-04fa89ce46a6",
   "metadata": {},
   "outputs": [],
   "source": [
    "def test3():\n",
    "    return 1,4,\"pwskills\",34.56"
   ]
  },
  {
   "cell_type": "code",
   "execution_count": 16,
   "id": "2ea3ad9d-55f8-49fb-a36f-bb98d2f7e2fd",
   "metadata": {},
   "outputs": [
    {
     "data": {
      "text/plain": [
       "(1, 4, 'pwskills', 34.56)"
      ]
     },
     "execution_count": 16,
     "metadata": {},
     "output_type": "execute_result"
    }
   ],
   "source": [
    "test3()"
   ]
  },
  {
   "cell_type": "code",
   "execution_count": 18,
   "id": "e455777b-4a3b-4ee0-a699-dffa273ffc23",
   "metadata": {},
   "outputs": [],
   "source": [
    "a,b,c,d = 1,2,35.01,True"
   ]
  },
  {
   "cell_type": "code",
   "execution_count": 19,
   "id": "1dded8f0-81a5-4b6a-9a85-2dafa59b02b4",
   "metadata": {},
   "outputs": [
    {
     "data": {
      "text/plain": [
       "1"
      ]
     },
     "execution_count": 19,
     "metadata": {},
     "output_type": "execute_result"
    }
   ],
   "source": [
    "a"
   ]
  },
  {
   "cell_type": "code",
   "execution_count": 20,
   "id": "ccac01db-cae4-4d58-bef6-2d4012ae276c",
   "metadata": {},
   "outputs": [
    {
     "data": {
      "text/plain": [
       "2"
      ]
     },
     "execution_count": 20,
     "metadata": {},
     "output_type": "execute_result"
    }
   ],
   "source": [
    "b"
   ]
  },
  {
   "cell_type": "code",
   "execution_count": 21,
   "id": "ac6d4478-29f0-469a-b422-8db8795c392b",
   "metadata": {},
   "outputs": [
    {
     "data": {
      "text/plain": [
       "35.01"
      ]
     },
     "execution_count": 21,
     "metadata": {},
     "output_type": "execute_result"
    }
   ],
   "source": [
    "c"
   ]
  },
  {
   "cell_type": "code",
   "execution_count": 22,
   "id": "49a342ee-14f4-4e8e-a24f-8d45ee836a79",
   "metadata": {},
   "outputs": [
    {
     "data": {
      "text/plain": [
       "True"
      ]
     },
     "execution_count": 22,
     "metadata": {},
     "output_type": "execute_result"
    }
   ],
   "source": [
    "d"
   ]
  },
  {
   "cell_type": "code",
   "execution_count": 23,
   "id": "9bc7e8e2-145f-41bf-a106-c1b4ec5a8109",
   "metadata": {},
   "outputs": [
    {
     "data": {
      "text/plain": [
       "'pwskills'"
      ]
     },
     "execution_count": 23,
     "metadata": {},
     "output_type": "execute_result"
    }
   ],
   "source": [
    "test3()[2]"
   ]
  },
  {
   "cell_type": "code",
   "execution_count": 24,
   "id": "082eac59-5d96-432f-8257-2118c0d050ff",
   "metadata": {},
   "outputs": [],
   "source": [
    "a,b,c,d=test3()"
   ]
  },
  {
   "cell_type": "code",
   "execution_count": 25,
   "id": "130cdcfc-2770-45e7-a27f-035bfce992e1",
   "metadata": {},
   "outputs": [
    {
     "data": {
      "text/plain": [
       "1"
      ]
     },
     "execution_count": 25,
     "metadata": {},
     "output_type": "execute_result"
    }
   ],
   "source": [
    "a"
   ]
  },
  {
   "cell_type": "code",
   "execution_count": 26,
   "id": "8c2a9f93-24e7-42b9-8888-94706355b730",
   "metadata": {},
   "outputs": [
    {
     "data": {
      "text/plain": [
       "4"
      ]
     },
     "execution_count": 26,
     "metadata": {},
     "output_type": "execute_result"
    }
   ],
   "source": [
    "b"
   ]
  },
  {
   "cell_type": "code",
   "execution_count": 27,
   "id": "8aafffcd-ae26-4cc6-be3f-ae0b2ad03ed7",
   "metadata": {},
   "outputs": [
    {
     "data": {
      "text/plain": [
       "'pwskills'"
      ]
     },
     "execution_count": 27,
     "metadata": {},
     "output_type": "execute_result"
    }
   ],
   "source": [
    "c"
   ]
  },
  {
   "cell_type": "code",
   "execution_count": 28,
   "id": "3325ffdb-3a38-4a44-9335-24841b7a71ef",
   "metadata": {},
   "outputs": [
    {
     "data": {
      "text/plain": [
       "34.56"
      ]
     },
     "execution_count": 28,
     "metadata": {},
     "output_type": "execute_result"
    }
   ],
   "source": [
    "d"
   ]
  },
  {
   "cell_type": "code",
   "execution_count": 29,
   "id": "2463ec8b-2b11-4a26-89ba-babff12a623a",
   "metadata": {},
   "outputs": [
    {
     "data": {
      "text/plain": [
       "17"
      ]
     },
     "execution_count": 29,
     "metadata": {},
     "output_type": "execute_result"
    }
   ],
   "source": [
    "def test4():\n",
    "    a = 3*4+5\n",
    "    return a\n",
    "test4()"
   ]
  },
  {
   "cell_type": "code",
   "execution_count": 33,
   "id": "b02f6c82-49b3-49c0-8e61-0c117d781e76",
   "metadata": {},
   "outputs": [
    {
     "data": {
      "text/plain": [
       "6"
      ]
     },
     "execution_count": 33,
     "metadata": {},
     "output_type": "execute_result"
    }
   ],
   "source": [
    "def test5(a,b):\n",
    "    c = a+b\n",
    "    return c\n",
    "test5(4,2)"
   ]
  },
  {
   "cell_type": "code",
   "execution_count": 34,
   "id": "16b2fe88-afbb-40ff-92ad-3c40484bb644",
   "metadata": {},
   "outputs": [
    {
     "data": {
      "text/plain": [
       "[1, 2, 3, 4, 4, 5, 6, 7]"
      ]
     },
     "execution_count": 34,
     "metadata": {},
     "output_type": "execute_result"
    }
   ],
   "source": [
    "test5([1,2,3,4],[4,5,6,7])"
   ]
  },
  {
   "cell_type": "code",
   "execution_count": 35,
   "id": "f81887a1-2291-4ec9-824b-898d5623b9ab",
   "metadata": {},
   "outputs": [],
   "source": [
    "l = [1,2,3,4,5,67,\"pwskilss\",\"data\",[4,5,89,7]]"
   ]
  },
  {
   "cell_type": "code",
   "execution_count": 36,
   "id": "5f138ddf-d213-4249-98cc-af4af44a6c42",
   "metadata": {},
   "outputs": [],
   "source": [
    "# create a function which will take list as an input and give me a final list with numeric values\n",
    "def test6(a):\n",
    "    n =[]\n",
    "    for i in a:\n",
    "        if type(i) == int or type(i) == float:\n",
    "            n.append(i)\n",
    "    return n\n"
   ]
  },
  {
   "cell_type": "code",
   "execution_count": 37,
   "id": "e724fb44-9a8e-4766-982c-3a9fb686a505",
   "metadata": {},
   "outputs": [
    {
     "data": {
      "text/plain": [
       "[1, 2, 3, 4, 5, 67]"
      ]
     },
     "execution_count": 37,
     "metadata": {},
     "output_type": "execute_result"
    }
   ],
   "source": [
    "test6(l)"
   ]
  },
  {
   "cell_type": "code",
   "execution_count": 38,
   "id": "184e0fc0-cd6c-4fd9-86a6-78c6bf5c45b9",
   "metadata": {},
   "outputs": [
    {
     "data": {
      "text/plain": [
       "[1, 2, 3, 4, 5, 67, 'pwskilss', 'data', [4, 5, 89, 7]]"
      ]
     },
     "execution_count": 38,
     "metadata": {},
     "output_type": "execute_result"
    }
   ],
   "source": [
    "l"
   ]
  },
  {
   "cell_type": "code",
   "execution_count": 39,
   "id": "c9686c71-2cd4-493d-b32a-a07a18793eae",
   "metadata": {},
   "outputs": [],
   "source": [
    "def test7(a):\n",
    "    n = []\n",
    "    for i in a:\n",
    "        if type(i)==list:\n",
    "            for j in i:\n",
    "                if type(j)==int or type(j)==float:\n",
    "                    n.append(j)\n",
    "        else:\n",
    "            if type(i) == int or type(i) == float:\n",
    "                n.append(i)\n",
    "    return n\n",
    "            "
   ]
  },
  {
   "cell_type": "code",
   "execution_count": 40,
   "id": "2f1357a6-5ff9-429d-ad76-9c74e2cc55e7",
   "metadata": {},
   "outputs": [
    {
     "data": {
      "text/plain": [
       "[1, 2, 3, 4, 5, 67, 4, 5, 89, 7]"
      ]
     },
     "execution_count": 40,
     "metadata": {},
     "output_type": "execute_result"
    }
   ],
   "source": [
    "test7(l)"
   ]
  },
  {
   "cell_type": "code",
   "execution_count": 42,
   "id": "669a8e56-bff3-4a7b-9982-ec4c3151055a",
   "metadata": {},
   "outputs": [],
   "source": [
    "def test8(*args):\n",
    "    return args  #args can take any number of argument"
   ]
  },
  {
   "cell_type": "code",
   "execution_count": 43,
   "id": "4720f6fb-b772-4d39-a544-5a24d7f3d75f",
   "metadata": {},
   "outputs": [
    {
     "data": {
      "text/plain": [
       "(1, 2, 3, 4, 5, 6, 7, 8, 9)"
      ]
     },
     "execution_count": 43,
     "metadata": {},
     "output_type": "execute_result"
    }
   ],
   "source": [
    "test8(1,2,3,4,5,6,7,8,9,)"
   ]
  },
  {
   "cell_type": "code",
   "execution_count": 47,
   "id": "df3d3169-6fc5-4c0a-bf47-cae9367e0d82",
   "metadata": {},
   "outputs": [
    {
     "data": {
      "text/plain": [
       "(1, 2, 3, 4, 5, 6, 7, [2, 3, 4, 5, 6, 7, 8], 'data', 'science')"
      ]
     },
     "execution_count": 47,
     "metadata": {},
     "output_type": "execute_result"
    }
   ],
   "source": [
    "test8(1,2,3,4,5,6,7,[2,3,4,5,6,7,8],\"data\",\"science\")"
   ]
  },
  {
   "cell_type": "code",
   "execution_count": 48,
   "id": "82683aaa-74f9-4c3e-b5d0-0de461d5847b",
   "metadata": {},
   "outputs": [
    {
     "data": {
      "text/plain": [
       "[[1, 45, 78, 1, 4]]"
      ]
     },
     "execution_count": 48,
     "metadata": {},
     "output_type": "execute_result"
    }
   ],
   "source": [
    "def test9(*args):\n",
    "    l=[]\n",
    "    for i in args:\n",
    "        if type(i)==list:\n",
    "            l.append(i)\n",
    "    return l\n",
    "test9(1,5,48,57,1,8,[1,45,78,1,4],(45,78,21,56),\"tim\")"
   ]
  },
  {
   "cell_type": "code",
   "execution_count": 49,
   "id": "23c557ae-6ee6-4829-8c17-011bbb7fd5a2",
   "metadata": {},
   "outputs": [],
   "source": [
    "def test10(**kwargs):\n",
    "    return kwargs"
   ]
  },
  {
   "cell_type": "code",
   "execution_count": 51,
   "id": "d3fa27c7-b780-4f53-a0f7-5845bbe0692d",
   "metadata": {},
   "outputs": [
    {
     "data": {
      "text/plain": [
       "{}"
      ]
     },
     "execution_count": 51,
     "metadata": {},
     "output_type": "execute_result"
    }
   ],
   "source": [
    "test10()"
   ]
  },
  {
   "cell_type": "code",
   "execution_count": 52,
   "id": "135ed78c-ca88-4fa4-842d-bd37fa7ae2fb",
   "metadata": {},
   "outputs": [
    {
     "data": {
      "text/plain": [
       "dict"
      ]
     },
     "execution_count": 52,
     "metadata": {},
     "output_type": "execute_result"
    }
   ],
   "source": [
    "type(test10())"
   ]
  },
  {
   "cell_type": "code",
   "execution_count": 53,
   "id": "0d43dff1-7fc6-4672-aec1-1a9a2217a323",
   "metadata": {},
   "outputs": [
    {
     "data": {
      "text/plain": [
       "{'a': 34, 'b': 45, 'c': [4, 7, 85, 1, 2], 'd': ('tim', 'jacks')}"
      ]
     },
     "execution_count": 53,
     "metadata": {},
     "output_type": "execute_result"
    }
   ],
   "source": [
    "test10(a=34,b=45,c=[4,7,85,1,2],d=(\"tim\",\"jacks\"))"
   ]
  },
  {
   "cell_type": "code",
   "execution_count": null,
   "id": "44597392-bc78-4e4a-af4b-52beca979eb9",
   "metadata": {},
   "outputs": [],
   "source": []
  }
 ],
 "metadata": {
  "kernelspec": {
   "display_name": "Python 3 (ipykernel)",
   "language": "python",
   "name": "python3"
  },
  "language_info": {
   "codemirror_mode": {
    "name": "ipython",
    "version": 3
   },
   "file_extension": ".py",
   "mimetype": "text/x-python",
   "name": "python",
   "nbconvert_exporter": "python",
   "pygments_lexer": "ipython3",
   "version": "3.11.7"
  }
 },
 "nbformat": 4,
 "nbformat_minor": 5
}
