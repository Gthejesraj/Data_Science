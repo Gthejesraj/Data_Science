{
 "cells": [
  {
   "cell_type": "code",
   "execution_count": 1,
   "id": "b1dc57ed-2dbc-4e9b-9ba4-0569642c97c5",
   "metadata": {},
   "outputs": [],
   "source": [
    "n=3\n",
    "p=4"
   ]
  },
  {
   "cell_type": "code",
   "execution_count": 2,
   "id": "5b44dd71-3da7-4cfe-977a-892a8d9ee2a7",
   "metadata": {},
   "outputs": [],
   "source": [
    "def test(n,p):\n",
    "    return n*p"
   ]
  },
  {
   "cell_type": "code",
   "execution_count": 3,
   "id": "a0828b57-c3c3-4e2e-b9f2-67f026bf05f8",
   "metadata": {},
   "outputs": [
    {
     "data": {
      "text/plain": [
       "12"
      ]
     },
     "execution_count": 3,
     "metadata": {},
     "output_type": "execute_result"
    }
   ],
   "source": [
    "test(3,4)"
   ]
  },
  {
   "cell_type": "code",
   "execution_count": 5,
   "id": "211102ca-9a2c-48a5-b4c7-9ea1f97970e0",
   "metadata": {},
   "outputs": [],
   "source": [
    "a=lambda n,p:n**p"
   ]
  },
  {
   "cell_type": "code",
   "execution_count": 6,
   "id": "4a485aad-a94a-4e80-a288-70bf192474da",
   "metadata": {},
   "outputs": [
    {
     "data": {
      "text/plain": [
       "9"
      ]
     },
     "execution_count": 6,
     "metadata": {},
     "output_type": "execute_result"
    }
   ],
   "source": [
    "a(3,2)"
   ]
  },
  {
   "cell_type": "code",
   "execution_count": 7,
   "id": "c5a05c7f-94d8-4fbb-961e-c3d42c08405d",
   "metadata": {},
   "outputs": [
    {
     "data": {
      "text/plain": [
       "6561"
      ]
     },
     "execution_count": 7,
     "metadata": {},
     "output_type": "execute_result"
    }
   ],
   "source": [
    "a(9,4)"
   ]
  },
  {
   "cell_type": "code",
   "execution_count": 1,
   "id": "8b2422f7-1883-49a3-89fa-1d9c488da926",
   "metadata": {},
   "outputs": [],
   "source": [
    "add = lambda x,y : x+y"
   ]
  },
  {
   "cell_type": "code",
   "execution_count": 2,
   "id": "2fec3c4b-0c7c-4780-9cc6-9e36ecadf4e9",
   "metadata": {},
   "outputs": [
    {
     "data": {
      "text/plain": [
       "6"
      ]
     },
     "execution_count": 2,
     "metadata": {},
     "output_type": "execute_result"
    }
   ],
   "source": [
    "add(1,5)"
   ]
  },
  {
   "cell_type": "code",
   "execution_count": 3,
   "id": "34854b8f-5443-4e7b-b058-810d0f2f8a16",
   "metadata": {},
   "outputs": [],
   "source": [
    "c_to_f=lambda c:(9/5)*c+32"
   ]
  },
  {
   "cell_type": "code",
   "execution_count": 4,
   "id": "676e6958-c1ce-4248-a2f9-ffd7c33e3bad",
   "metadata": {},
   "outputs": [
    {
     "data": {
      "text/plain": [
       "93.2"
      ]
     },
     "execution_count": 4,
     "metadata": {},
     "output_type": "execute_result"
    }
   ],
   "source": [
    "c_to_f(34)"
   ]
  },
  {
   "cell_type": "code",
   "execution_count": 6,
   "id": "ee401e36-c099-4186-9fc8-9521231c94aa",
   "metadata": {},
   "outputs": [],
   "source": [
    "max_two=lambda x,y:x if x>y else y"
   ]
  },
  {
   "cell_type": "code",
   "execution_count": 7,
   "id": "48b48cde-994e-42a0-b2d1-5f582c6b756e",
   "metadata": {},
   "outputs": [
    {
     "data": {
      "text/plain": [
       "7"
      ]
     },
     "execution_count": 7,
     "metadata": {},
     "output_type": "execute_result"
    }
   ],
   "source": [
    "max_two(5,7)"
   ]
  },
  {
   "cell_type": "code",
   "execution_count": 8,
   "id": "a4393818-91d7-4c5f-9c02-8e916789c646",
   "metadata": {},
   "outputs": [],
   "source": [
    "s=\"pwskills\""
   ]
  },
  {
   "cell_type": "code",
   "execution_count": 9,
   "id": "68ef5225-f360-435a-9ccb-403b6544b911",
   "metadata": {},
   "outputs": [],
   "source": [
    "len_st = lambda s : len(s)"
   ]
  },
  {
   "cell_type": "code",
   "execution_count": 10,
   "id": "1a7a7a78-cbcf-4931-8743-de18b3422395",
   "metadata": {},
   "outputs": [
    {
     "data": {
      "text/plain": [
       "8"
      ]
     },
     "execution_count": 10,
     "metadata": {},
     "output_type": "execute_result"
    }
   ],
   "source": [
    "len_st(s)"
   ]
  },
  {
   "cell_type": "code",
   "execution_count": null,
   "id": "78d10ccb-cc5e-42d3-9676-4b19e6a408f6",
   "metadata": {},
   "outputs": [],
   "source": []
  }
 ],
 "metadata": {
  "kernelspec": {
   "display_name": "Python 3 (ipykernel)",
   "language": "python",
   "name": "python3"
  },
  "language_info": {
   "codemirror_mode": {
    "name": "ipython",
    "version": 3
   },
   "file_extension": ".py",
   "mimetype": "text/x-python",
   "name": "python",
   "nbconvert_exporter": "python",
   "pygments_lexer": "ipython3",
   "version": "3.11.7"
  }
 },
 "nbformat": 4,
 "nbformat_minor": 5
}
